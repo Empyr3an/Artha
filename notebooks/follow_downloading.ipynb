{
 "metadata": {
  "language_info": {
   "codemirror_mode": {
    "name": "ipython",
    "version": 3
   },
   "file_extension": ".py",
   "mimetype": "text/x-python",
   "name": "python",
   "nbconvert_exporter": "python",
   "pygments_lexer": "ipython3",
   "version": "3.7.6-final"
  },
  "orig_nbformat": 2,
  "kernelspec": {
   "name": "python376jvsc74a57bd0336ff5ee2c1e0e67b5ec251f9bb85714e66dde2cea2c3ccd73e788234e60283a",
   "display_name": "Python 3.7.6 64-bit ('artha@3.7.6')"
  }
 },
 "nbformat": 4,
 "nbformat_minor": 2,
 "cells": [
  {
   "source": [
    "import requests\n",
    "import json\n",
    "import time\n",
    "import itertools\n",
    "import os\n",
    "from tqdm import tqdm\n",
    "import datetime\n",
    "import pickle\n",
    "import inspect\n",
    "import numpy as np\n",
    "import csv\n",
    "currentdir = os.path.dirname(os.path.abspath(inspect.getfile(inspect.currentframe())))\n",
    "parentdir = os.path.dirname(currentdir)\n",
    "os.sys.path.insert(0,parentdir) \n",
    "\n",
    "# import Artha\n",
    "from Artha.twitter import *\n",
    "import Artha.configs.twitter_config as c\n",
    "\n",
    "checkra = TwitterAPI(username = \"checkra_\", bearer_token = c.c_bearer, key = c.c_key, secret = c.c_secret, token = c.c_token, token_secret = c.c_token_secret)\n",
    "print(checkra.id,\"done\")"
   ],
   "cell_type": "code",
   "metadata": {},
   "execution_count": 1,
   "outputs": [
    {
     "output_type": "stream",
     "name": "stdout",
     "text": [
      "1356259499431129092 done\n"
     ]
    }
   ]
  },
  {
   "cell_type": "code",
   "execution_count": 2,
   "metadata": {},
   "outputs": [
    {
     "output_type": "execute_result",
     "data": {
      "text/plain": [
       "{'id': '1356259499431129092', 'name': 'Checkra', 'username': 'checkra_'}"
      ]
     },
     "metadata": {},
     "execution_count": 2
    }
   ],
   "source": [
    "checkra.user_lookup(\"checkra_\")"
   ]
  },
  {
   "cell_type": "code",
   "execution_count": null,
   "metadata": {},
   "outputs": [],
   "source": [
    "# checkra.update_with_new_followers(\"3mpyr34n\")\n",
    "# TODO fix for username changes, and people being dleted"
   ]
  },
  {
   "cell_type": "code",
   "execution_count": null,
   "metadata": {},
   "outputs": [],
   "source": [
    "all_follows = checkra.get_following(\"checkra_\")\n",
    "all_follows_data = checkra.multiple_user_lookup(all_follows, ['id', 'name', 'username'])\n",
    "\n",
    "with open(\"../data/follows/ucheckra_.csv\", \"w+\") as csvfile:\n",
    "    writer = csv.DictWriter(csvfile, fieldnames=[\"id\", 'name', 'username'])\n",
    "    writer.writeheader()\n",
    "    for data in all_follows_data:\n",
    "        writer.writerow(data)"
   ]
  },
  {
   "cell_type": "code",
   "execution_count": null,
   "metadata": {},
   "outputs": [],
   "source": [
    "with open(\"../data/follows/ucheckra_.csv\", \"r\") as csvfile:\n",
    "    all_follows_data = [{k: v for k, v in row.items()}\n",
    "        for row in csv.DictReader(csvfile, skipinitialspace=True)]\n"
   ]
  },
  {
   "cell_type": "code",
   "execution_count": null,
   "metadata": {},
   "outputs": [],
   "source": [
    "all_follows_data[159]"
   ]
  },
  {
   "cell_type": "code",
   "execution_count": null,
   "metadata": {},
   "outputs": [],
   "source": [
    "f = checkra._get_following2(\"ercwl\")\n",
    "follows_data = checkra.multiple_user_lookup(f, ['id', 'name', 'username'])"
   ]
  },
  {
   "cell_type": "code",
   "execution_count": null,
   "metadata": {},
   "outputs": [],
   "source": [
    "with open(\"../data/follows/uercwl_.csv\", \"w+\") as csvfile:\n",
    "    writer = csv.DictWriter(csvfile, fieldnames=[\"id\", 'name', 'username'])\n",
    "    writer.writeheader()\n",
    "    for data in follows_data:\n",
    "        writer.writerow(data)"
   ]
  },
  {
   "cell_type": "code",
   "execution_count": null,
   "metadata": {
    "tags": []
   },
   "outputs": [],
   "source": [
    "# replace all follow data with new\n",
    "for ind, follow in enumerate(all_follows_data[160:]):\n",
    "    cur_user = follow[\"username\"]\n",
    "    print(\"on\", ind, cur_user)\n",
    "    update_follow_data(cur_user, checkra)"
   ]
  },
  {
   "cell_type": "code",
   "execution_count": null,
   "metadata": {},
   "outputs": [],
   "source": [
    "# add follow data for people I haven't already gathered\n",
    "existing = [i[1:-4] for i in os.listdir(\"../data/follows\")]\n",
    "for ind, follow in enumerate(all_follows_data):\n",
    "    cur_user = follow[\"username\"]\n",
    "    if cur_user not in existing:\n",
    "        print(\"on\", ind, cur_user)\n",
    "        update_follow_data(cur_user, checkra)"
   ]
  },
  {
   "cell_type": "code",
   "execution_count": null,
   "metadata": {},
   "outputs": [],
   "source": [
    "rates = checkra.rate_limits()[\"resources\"]\n",
    "for key in rates[\"friends\"].keys():\n",
    "    print(\"Remaining:\", rates[\"friends\"][key][\"remaining\"], \"Time:\", datetime.datetime.fromtimestamp(rates[\"friends\"][key][\"reset\"]), key)"
   ]
  },
  {
   "cell_type": "code",
   "execution_count": null,
   "metadata": {},
   "outputs": [],
   "source": []
  }
 ]
}