{
 "metadata": {
  "language_info": {
   "codemirror_mode": {
    "name": "ipython",
    "version": 3
   },
   "file_extension": ".py",
   "mimetype": "text/x-python",
   "name": "python",
   "nbconvert_exporter": "python",
   "pygments_lexer": "ipython3",
   "version": "3.7.6-final"
  },
  "orig_nbformat": 2,
  "kernelspec": {
   "name": "python376jvsc74a57bd0336ff5ee2c1e0e67b5ec251f9bb85714e66dde2cea2c3ccd73e788234e60283a",
   "display_name": "Python 3.7.6 64-bit ('artha@3.7.6')"
  }
 },
 "nbformat": 4,
 "nbformat_minor": 2,
 "cells": [
  {
   "cell_type": "code",
   "execution_count": null,
   "metadata": {},
   "outputs": [],
   "source": [
    "%%time\n",
    "import inspect\n",
    "currentdir = os.path.dirname(os.path.abspath(inspect.getfile(inspect.currentframe())))\n",
    "parentdir = os.path.dirname(currentdir)\n",
    "os.sys.path.insert(0,parentdir) \n",
    "\n",
    "\n",
    "from Artha.nlp_extraction import *\n",
    "import Artha.data_process as dp\n",
    "# from Artha.neocoinsdb import Neo\n",
    "from Artha.neodb import Neo\n",
    "import Artha.crypto_data as crypto\n",
    "from tqdm import tqdm\n",
    "import csv\n",
    "import json\n",
    "from collections import Counter\n",
    "import numpy as np\n",
    "np.set_printoptions(suppress=True)\n",
    "import pprint\n",
    "import math\n",
    "from datetime import datetime\n",
    "\n",
    "pp = pprint.PrettyPrinter(indent=1)\n",
    "\n",
    "# coins database\n",
    "neo = Neo(\"neo4j://localhost:7687\", \"neo4j\", \"part2\")\n",
    "neo.session.run('''CREATE CONSTRAINT twitter_username IF NOT EXISTS ON (n:Person)\n",
    "                ASSERT n.username IS UNIQUE''')\n",
    "neo.session.run('''CREATE CONSTRAINT coin_name IF NOT EXISTS ON (n:Coin)\n",
    "                ASSERT n.ticker IS UNIQUE''')"
   ]
  },
  {
   "cell_type": "code",
   "execution_count": null,
   "metadata": {},
   "outputs": [],
   "source": [
    "# neo.session.run('''\n",
    "#                 Merge (n:Person {username: 'checkra_'})\n",
    "#                 ON CREATE SET n.id ='1356259499431129092',\n",
    "#                 n.name = 'Checkra',\n",
    "#                 n.username = 'checkra_'\n",
    "#         ''')"
   ]
  },
  {
   "cell_type": "code",
   "execution_count": null,
   "metadata": {},
   "outputs": [],
   "source": [
    "print(len(neo.get_nodes()), len(neo.get_relations()))"
   ]
  },
  {
   "cell_type": "code",
   "execution_count": null,
   "metadata": {},
   "outputs": [],
   "source": [
    "neo.clear_db()"
   ]
  },
  {
   "cell_type": "code",
   "execution_count": null,
   "metadata": {},
   "outputs": [],
   "source": [
    "neo.load_coins()\n",
    "neo.load_follows(dp.load_following(\"checkra_\"))"
   ]
  },
  {
   "cell_type": "code",
   "execution_count": null,
   "metadata": {},
   "outputs": [],
   "source": [
    "path = \"../data/follows/\"\n",
    "follows = dp.load_following\n",
    "for file_loc in os.listdir(path):\n",
    "    if file_loc != \"ucheckra_.csv\":\n",
    "        fs = get_follows(path+file_loc)\n",
    "        follows.extend(fs)\n",
    "        # if len(fs) > 2000:\n",
    "        #     print(file_loc, len(fs))"
   ]
  },
  {
   "cell_type": "code",
   "execution_count": null,
   "metadata": {},
   "outputs": [],
   "source": [
    "%%time\n",
    "print(len(follows))\n",
    "neo.load_follows(follows)\n",
    "neo.load_relations(follows)"
   ]
  },
  {
   "cell_type": "code",
   "execution_count": null,
   "metadata": {
    "tags": []
   },
   "outputs": [],
   "source": [
    "follow_path = \"../data/follows/\"\n",
    "tweets_path = \"../data/tweets/\"\n",
    "\n",
    "l1, l2 = os.listdir(follow_path), os.listdir(tweets_path)\n",
    "l1 = [i[1:-4] for i in l1]\n",
    "l2 = [i[1:-11] for i in l2]\n",
    "print(len(l1), len(l2))\n",
    "both = np.intersect1d(l1, l2)\n",
    "print(len(both))\n",
    "for person in both[:1]:\n",
    "    # tweets = dp.load_tweets(person)\n",
    "    # docs = run_pipeline(person)\n",
    "    # following = dp.\n",
    "    for doc in docs:\n",
    "        if doc._.tickers and \"BTC\" not in doc._.tickers and \"USD\" not in doc._.tickers and \"ETF\" not in doc._.tickers:\n",
    "            print(doc, doc.ents, doc._.tickers, \"\\n\\n\")\n",
    "            # break\n",
    "# TODO CLEAN UP ENTITY RECOGNITION"
   ]
  },
  {
   "cell_type": "code",
   "execution_count": null,
   "metadata": {},
   "outputs": [],
   "source": [
    "names = [\"BTC_JackSparrow\", \"razoreth\", \"Nostranomist\", \"CryptoKaleo\", \"nebraskangooner\", \"Rager\", \"SavageBTC\"]\n",
    "all_mentions = []"
   ]
  },
  {
   "cell_type": "code",
   "execution_count": null,
   "metadata": {},
   "outputs": [],
   "source": [
    "%%time\n",
    "for ind, name in enumerate(names):\n",
    "    # tweets = dp.load_tweets(name)\n",
    "    docs = run_pipeline(name)\n",
    "    # print(tweets[0][\"created_at\"])\n",
    "    print(ind, name)\n",
    "    mentions = get_mention_scores(name, docs)\n",
    "    all_mentions.extend(mentions)"
   ]
  },
  {
   "cell_type": "code",
   "execution_count": null,
   "metadata": {},
   "outputs": [],
   "source": [
    "%%time\n",
    "neo.load_mentions(all_mentions)"
   ]
  },
  {
   "cell_type": "code",
   "execution_count": null,
   "metadata": {},
   "outputs": [],
   "source": [
    "name = \"BTC_JackSparrow\"\n",
    "docs = run_pipeline(name)\n",
    "    # print(tweets[0][\"created_at\"])\n",
    "print(name)\n",
    "singlementions = get_mention_scores(name, docs)"
   ]
  },
  {
   "cell_type": "code",
   "execution_count": null,
   "metadata": {},
   "outputs": [],
   "source": [
    "for i in singlementions[:10]:\n",
    "    print(i)"
   ]
  },
  {
   "cell_type": "code",
   "execution_count": null,
   "metadata": {},
   "outputs": [],
   "source": [
    "for doc in docs:\n",
    "    if \"WRX\" in doc._.tickers:\n",
    "        print(doc, doc._.tweeted_at)"
   ]
  },
  {
   "cell_type": "code",
   "execution_count": null,
   "metadata": {},
   "outputs": [],
   "source": []
  },
  {
   "cell_type": "code",
   "execution_count": null,
   "metadata": {},
   "outputs": [],
   "source": [
    "%%time\n",
    "neo.load_mentions(singlementions)"
   ]
  },
  {
   "cell_type": "code",
   "execution_count": null,
   "metadata": {},
   "outputs": [],
   "source": []
  },
  {
   "cell_type": "code",
   "execution_count": null,
   "metadata": {},
   "outputs": [],
   "source": []
  }
 ]
}