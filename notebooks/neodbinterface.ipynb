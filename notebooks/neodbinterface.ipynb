{
 "metadata": {
  "language_info": {
   "codemirror_mode": {
    "name": "ipython",
    "version": 3
   },
   "file_extension": ".py",
   "mimetype": "text/x-python",
   "name": "python",
   "nbconvert_exporter": "python",
   "pygments_lexer": "ipython3",
   "version": "3.7.6-final"
  },
  "orig_nbformat": 2,
  "kernelspec": {
   "name": "python376jvsc74a57bd0336ff5ee2c1e0e67b5ec251f9bb85714e66dde2cea2c3ccd73e788234e60283a",
   "display_name": "Python 3.7.6 64-bit ('artha@3.7.6')"
  }
 },
 "nbformat": 4,
 "nbformat_minor": 2,
 "cells": [
  {
   "cell_type": "code",
   "execution_count": 1,
   "metadata": {},
   "outputs": [
    {
     "output_type": "stream",
     "name": "stdout",
     "text": [
      "CPU times: user 2.88 s, sys: 476 ms, total: 3.35 s\nWall time: 5.61 s\n"
     ]
    },
    {
     "output_type": "execute_result",
     "data": {
      "text/plain": [
       "<neo4j.work.result.Result at 0x118e323d0>"
      ]
     },
     "metadata": {},
     "execution_count": 1
    }
   ],
   "source": [
    "%%time\n",
    "import inspect\n",
    "currentdir = os.path.dirname(os.path.abspath(inspect.getfile(inspect.currentframe())))\n",
    "parentdir = os.path.dirname(currentdir)\n",
    "os.sys.path.insert(0,parentdir) \n",
    "\n",
    "from Artha.nlp_extraction import *\n",
    "import Artha.data_process as dp\n",
    "# from Artha.neocoinsdb import Neo\n",
    "from Artha.neodb import Neo\n",
    "import Artha.crypto_data as crypto\n",
    "from tqdm import tqdm\n",
    "import csv\n",
    "import json\n",
    "from collections import Counter\n",
    "import numpy as np\n",
    "np.set_printoptions(suppress=True)\n",
    "import pprint\n",
    "import math\n",
    "from datetime import datetime\n",
    "import pickle\n",
    "\n",
    "pp = pprint.PrettyPrinter(indent=1)\n",
    "\n",
    "# coins database\n",
    "neo = Neo(\"neo4j://localhost:7687\", \"neo4j\", \"part2\")\n",
    "neo.session.run('''CREATE CONSTRAINT twitter_username IF NOT EXISTS ON (n:Person)\n",
    "                ASSERT n.username IS UNIQUE''')\n",
    "neo.session.run('''CREATE CONSTRAINT coin_name IF NOT EXISTS ON (n:Coin)\n",
    "                ASSERT n.ticker IS UNIQUE''')"
   ]
  },
  {
   "cell_type": "code",
   "execution_count": 2,
   "metadata": {},
   "outputs": [],
   "source": [
    "# neo.session.run('''\n",
    "#                 Merge (n:Person {username: 'checkra_'})\n",
    "#                 ON CREATE SET n.id ='1356259499431129092',\n",
    "#                 n.name = 'Checkra',\n",
    "#                 n.username = 'checkra_'\n",
    "#         ''')"
   ]
  },
  {
   "cell_type": "code",
   "execution_count": 3,
   "metadata": {},
   "outputs": [
    {
     "output_type": "stream",
     "name": "stdout",
     "text": [
      "509 188\n"
     ]
    }
   ],
   "source": [
    "print(len(neo.get_nodes()), len(neo.get_relations()))\n",
    "# without mentions 711 6958"
   ]
  },
  {
   "cell_type": "code",
   "execution_count": 4,
   "metadata": {},
   "outputs": [
    {
     "output_type": "stream",
     "name": "stdout",
     "text": [
      "deleted database\n"
     ]
    }
   ],
   "source": [
    "neo.clear_db()"
   ]
  },
  {
   "cell_type": "code",
   "execution_count": 5,
   "metadata": {},
   "outputs": [
    {
     "output_type": "stream",
     "name": "stdout",
     "text": [
      "Updated coins\n"
     ]
    }
   ],
   "source": [
    "neo.load_coins()\n",
    "# neo.load_follow_nodes(dp.load_following(\"checkra_\"))"
   ]
  },
  {
   "cell_type": "code",
   "execution_count": 6,
   "metadata": {},
   "outputs": [
    {
     "output_type": "stream",
     "name": "stdout",
     "text": [
      "CPU times: user 15.9 ms, sys: 3.29 ms, total: 19.2 ms\nWall time: 20.1 ms\n"
     ]
    }
   ],
   "source": [
    "%%time\n",
    "# add follows between only people I follow, can change by getting rid of second 2 last line for anyone a person follows\n",
    "follows = []\n",
    "some_people = [\"BTC_JackSparrow\", \"razoreth\", \"Nostranomist\", \"CryptoKaleo\", \"nebraskangooner\", \"Rager\", \"SavageBTC\"]\n",
    "available = [i[1:-4] for i in os.listdir(\"../data/follows/\")]\n",
    "\n",
    "# generate follow edges for people within people group ^\n",
    "for user in some_people:\n",
    "    fs = dp.load_following(user)\n",
    "    for i in fs:\n",
    "        if i[3] in available:\n",
    "            follows.append(i)"
   ]
  },
  {
   "cell_type": "code",
   "execution_count": 7,
   "metadata": {},
   "outputs": [
    {
     "output_type": "stream",
     "name": "stdout",
     "text": [
      "264\nloaded People\nloaded relations\nCPU times: user 3.33 ms, sys: 1.82 ms, total: 5.15 ms\nWall time: 147 ms\n"
     ]
    },
    {
     "output_type": "execute_result",
     "data": {
      "text/plain": [
       "<neo4j.work.result.Result at 0x118f4d4d0>"
      ]
     },
     "metadata": {},
     "execution_count": 7
    }
   ],
   "source": [
    "%%time\n",
    "print(len(follows))\n",
    "neo.load_follow_nodes(follows)\n",
    "neo.load_follow_relations(follows)"
   ]
  },
  {
   "cell_type": "code",
   "execution_count": 8,
   "metadata": {},
   "outputs": [
    {
     "output_type": "execute_result",
     "data": {
      "text/plain": [
       "332"
      ]
     },
     "metadata": {},
     "execution_count": 8
    }
   ],
   "source": [
    "len(available)"
   ]
  },
  {
   "cell_type": "code",
   "execution_count": 9,
   "metadata": {},
   "outputs": [
    {
     "output_type": "stream",
     "name": "stderr",
     "text": [
      "7it [00:01,  4.92it/s]CPU times: user 1.33 s, sys: 59.1 ms, total: 1.39 s\n",
      "Wall time: 1.43 s\n",
      "\n"
     ]
    }
   ],
   "source": [
    "%%time\n",
    "all_tweets = []\n",
    "all_mentions = []\n",
    "for ind, username in tqdm(enumerate(some_people)):\n",
    "    cur_tweets = dp.load_tweets(username, location = \"../data/tweets1/u\")\n",
    "    all_tweets.extend([tweet for tweet in dp.clean_tweets(cur_tweets, username)])\n",
    "\n",
    "print(len(all_tweets))"
   ]
  },
  {
   "cell_type": "code",
   "execution_count": 10,
   "metadata": {},
   "outputs": [
    {
     "output_type": "stream",
     "name": "stderr",
     "text": [
      "60943it [00:51, 1191.48it/s]\n"
     ]
    }
   ],
   "source": [
    "%%time\n",
    "docs = run_pipeline(all_tweets)\n",
    "# print(ind, name)\n",
    "# mentions = get_mention_scores(name, docs)\n",
    "# all_mentions.extend(mentions)\n",
    "# all_docs.append(docs)"
   ]
  },
  {
   "cell_type": "code",
   "execution_count": 14,
   "metadata": {},
   "outputs": [
    {
     "output_type": "execute_result",
     "data": {
      "text/plain": [
       "'05/01/2021 13:08:26'"
      ]
     },
     "metadata": {},
     "execution_count": 14
    }
   ],
   "source": [
    "docs[0]._.tweeted_at"
   ]
  },
  {
   "source": [
    "all_docs = {}\n",
    "for doc in tqdm(docs):\n",
    "    if doc._.username not in all_docs.keys():\n",
    "        all_docs[doc._.username] = [doc]\n",
    "\n",
    "        print(doc._.username)\n",
    "    else:\n",
    "        all_docs[doc._.username].append(doc)"
   ],
   "cell_type": "code",
   "metadata": {
    "tags": []
   },
   "execution_count": 15,
   "outputs": [
    {
     "output_type": "stream",
     "name": "stderr",
     "text": [
      "100%|██████████| 14474/14474 [00:00<00:00, 94414.24it/s]BTC_JackSparrow\n",
      "razoreth\n",
      "Nostranomist\n",
      "CryptoKaleo\n",
      "nebraskangooner\n",
      "Rager\n",
      "SavageBTC\n",
      "\n"
     ]
    }
   ]
  },
  {
   "cell_type": "code",
   "execution_count": 17,
   "metadata": {},
   "outputs": [
    {
     "output_type": "execute_result",
     "data": {
      "text/plain": [
       "73"
      ]
     },
     "metadata": {},
     "execution_count": 17
    }
   ],
   "source": [
    "len(all_docs[\"razoreth\"])"
   ]
  },
  {
   "cell_type": "code",
   "execution_count": null,
   "metadata": {},
   "outputs": [],
   "source": [
    "with open(\"all_person_docs.pickle\", \"wb\") as p:\n",
    "    pickle.dump(all_docs, p)\n",
    "with open(\"all_mentions.pickle\", \"wb\") as p:\n",
    "    pickle.dump(all_mentions, p)\n",
    "print(\"done\")"
   ]
  },
  {
   "cell_type": "code",
   "execution_count": null,
   "metadata": {},
   "outputs": [],
   "source": [
    "%%time\n",
    "print(len(all_mentions))\n",
    "neo.load_mentions(all_mentions)"
   ]
  },
  {
   "cell_type": "code",
   "execution_count": null,
   "metadata": {},
   "outputs": [],
   "source": [
    "name = \"BTC_JackSparrow\"\n",
    "docs = run_pipeline(name)\n",
    "    # print(tweets[0][\"created_at\"])\n",
    "print(name)\n",
    "singlementions = get_mention_scores(name, docs)"
   ]
  },
  {
   "cell_type": "code",
   "execution_count": null,
   "metadata": {},
   "outputs": [],
   "source": [
    "for i in singlementions:\n",
    "    print(i)"
   ]
  },
  {
   "cell_type": "code",
   "execution_count": null,
   "metadata": {},
   "outputs": [],
   "source": [
    "for doc in docs:\n",
    "    if \"WRX\" in doc._.tickers:\n",
    "        print(doc, doc._.tweeted_at)"
   ]
  },
  {
   "cell_type": "code",
   "execution_count": null,
   "metadata": {},
   "outputs": [],
   "source": [
    "all_docs[1][0]._.tweeted_at"
   ]
  },
  {
   "cell_type": "code",
   "execution_count": null,
   "metadata": {},
   "outputs": [],
   "source": [
    "%%time\n",
    "neo.load_mentions(singlementions)"
   ]
  },
  {
   "cell_type": "code",
   "execution_count": null,
   "metadata": {},
   "outputs": [],
   "source": [
    "result = neo.session.run('''\n",
    "    CALL gds.graph.create(\n",
    "        'mentions',\n",
    "        {Person: {label: \"Person\"},Coin: {label: \"Coin\"}},\n",
    "        {CALLOUT: {type : 'CALLOUT', orientation: 'NATURAL'},\n",
    "            FOLLOWS: {type: 'FOLLOWS', orientation: 'NATURAL'}\n",
    "        },\n",
    "        { relationshipProperties: 'weight'}\n",
    "    )\n",
    "    YIELD graphName, nodeCount, relationshipCount\n",
    "    ''')\n",
    "[r for r in result]"
   ]
  },
  {
   "cell_type": "code",
   "execution_count": null,
   "metadata": {},
   "outputs": [],
   "source": [
    "result = neo.session.run('''\n",
    "    CALL gds.pageRank.stream('mentions', \n",
    "        {\n",
    "        maxIterations: 20,\n",
    "        dampingFactor: 0.85,\n",
    "        relationshipWeightProperty: 'weight'\n",
    "        })\n",
    "    YIELD nodeId, score\n",
    "    RETURN gds.util.asNode(nodeId).ticker AS ticker, score\n",
    "    ORDER BY score DESC, ticker ASC\n",
    "\n",
    "''')\n",
    "f = [r for r in result]\n",
    "for i in f:\n",
    "    if i[\"score\"]>.1500001:\n",
    "        print(i)"
   ]
  },
  {
   "cell_type": "code",
   "execution_count": null,
   "metadata": {},
   "outputs": [],
   "source": [
    "result = neo.session.run(\"CALL gds.graph.drop('mentions') YIELD graphName\")\n",
    "[r for r in result]"
   ]
  },
  {
   "cell_type": "code",
   "execution_count": null,
   "metadata": {},
   "outputs": [],
   "source": [
    "# make graphview that only looks at people who mention coins, and coins that are mentioned\n",
    "\n",
    "# exchange tokens might have more mentions\n",
    "# factor in mentions of coins in threads, so it gets more mentions than just 1"
   ]
  }
 ]
}