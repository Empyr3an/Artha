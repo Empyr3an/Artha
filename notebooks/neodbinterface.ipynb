{
 "metadata": {
  "language_info": {
   "codemirror_mode": {
    "name": "ipython",
    "version": 3
   },
   "file_extension": ".py",
   "mimetype": "text/x-python",
   "name": "python",
   "nbconvert_exporter": "python",
   "pygments_lexer": "ipython3",
   "version": "3.7.6-final"
  },
  "orig_nbformat": 2,
  "kernelspec": {
   "name": "python376jvsc74a57bd0336ff5ee2c1e0e67b5ec251f9bb85714e66dde2cea2c3ccd73e788234e60283a",
   "display_name": "Python 3.7.6 64-bit ('artha@3.7.6')"
  }
 },
 "nbformat": 4,
 "nbformat_minor": 2,
 "cells": [
  {
   "cell_type": "code",
   "execution_count": 1,
   "metadata": {},
   "outputs": [
    {
     "output_type": "stream",
     "name": "stdout",
     "text": [
      "CPU times: user 2.1 s, sys: 276 ms, total: 2.37 s\nWall time: 3.28 s\n"
     ]
    },
    {
     "output_type": "execute_result",
     "data": {
      "text/plain": [
       "<neo4j.work.result.Result at 0x1139d24d0>"
      ]
     },
     "metadata": {},
     "execution_count": 1
    }
   ],
   "source": [
    "%%time\n",
    "import inspect\n",
    "currentdir = os.path.dirname(os.path.abspath(inspect.getfile(inspect.currentframe())))\n",
    "parentdir = os.path.dirname(currentdir)\n",
    "os.sys.path.insert(0,parentdir) \n",
    "\n",
    "from Artha.nlp_extraction import run_pipeline, save_backup, load_backup, to_doc_dict\n",
    "import Artha.data_process as dp\n",
    "from Artha.neodb import Neo\n",
    "import Artha.crypto_data as crypto\n",
    "from tqdm import tqdm\n",
    "import json\n",
    "import numpy as np\n",
    "np.set_printoptions(suppress=True)\n",
    "from datetime import datetime, timedelta\n",
    "from Artha.mentions import *\n",
    "from collections import Counter\n",
    "\n",
    "# coins database\n",
    "neo = Neo(\"neo4j://localhost:7687\", \"neo4j\", \"part2\")\n",
    "neo.session.run('''CREATE CONSTRAINT twitter_username IF NOT EXISTS ON (n:Person)\n",
    "                ASSERT n.username IS UNIQUE''')\n",
    "neo.session.run('''CREATE CONSTRAINT coin_name IF NOT EXISTS ON (n:Coin)\n",
    "                ASSERT n.ticker IS UNIQUE''')\n"
   ]
  },
  {
   "cell_type": "code",
   "execution_count": 2,
   "metadata": {},
   "outputs": [
    {
     "output_type": "stream",
     "name": "stdout",
     "text": [
      "105 206\n"
     ]
    }
   ],
   "source": [
    "follow_weight = .5\n",
    "print(len(neo.get_nodes()), len(neo.get_relations()))\n",
    "# without mentions 711 6958"
   ]
  },
  {
   "cell_type": "code",
   "execution_count": 3,
   "metadata": {},
   "outputs": [
    {
     "output_type": "stream",
     "name": "stdout",
     "text": [
      "deleted database\n"
     ]
    }
   ],
   "source": [
    "neo.clear_db()"
   ]
  },
  {
   "cell_type": "code",
   "execution_count": 4,
   "metadata": {},
   "outputs": [
    {
     "output_type": "stream",
     "name": "stdout",
     "text": [
      "CPU times: user 7.54 ms, sys: 1.98 ms, total: 9.52 ms\nWall time: 8.11 ms\n"
     ]
    }
   ],
   "source": [
    "%%time\n",
    "# add follows between only people I follow, can change by getting rid of second 2 last line for anyone a person follows\n",
    "\n",
    "# all_people = [i[1:-4] for i in os.listdir(\"../data/follows/\")]\n",
    "# checkra_people = [c[3] for c in dp.load_following(\"checkra_\") ]\n",
    "\n",
    "\n",
    "selected_people = [\"BTC_JackSparrow\", \"razoreth\", \"Nostranomist\", \"CryptoKaleo\", \"nebraskangooner\", \"Rager\", \"SavageBTC\"]\n",
    "selected_nodes = [c for c in dp.load_following(\"checkra_\") if c[3] in selected_people]\n",
    "\n",
    "selected_follows = dp.follow_edges(selected_people, follow_weight)"
   ]
  },
  {
   "cell_type": "code",
   "execution_count": 5,
   "metadata": {},
   "outputs": [
    {
     "output_type": "stream",
     "name": "stdout",
     "text": [
      "deleted database\n",
      "loaded People\n",
      "loaded People\n",
      "loaded relations\n",
      "7 15\n",
      "CPU times: user 10.3 ms, sys: 3.86 ms, total: 14.2 ms\n",
      "Wall time: 89.4 ms\n"
     ]
    }
   ],
   "source": [
    "%%time\n",
    "# print(len(follows))\n",
    "neo.clear_db()\n",
    "\n",
    "neo.load_follow_nodes(selected_nodes)\n",
    "neo.load_follow_nodes(selected_follows)\n",
    "neo.load_follow_relations(selected_follows)\n",
    "\n",
    "print(len(neo.get_nodes()), len(neo.get_relations()))\n"
   ]
  },
  {
   "cell_type": "code",
   "execution_count": 6,
   "metadata": {},
   "outputs": [
    {
     "output_type": "stream",
     "name": "stdout",
     "text": [
      "loaded\n",
      "100%|██████████| 14474/14474 [00:00<00:00, 155544.00it/s]CPU times: user 5.62 s, sys: 147 ms, total: 5.76 s\n",
      "Wall time: 5.77 s\n",
      "\n"
     ]
    }
   ],
   "source": [
    "%%time\n",
    "# load all tweets\n",
    "# all_tweets = []\n",
    "# for ind, username in tqdm(enumerate(selected_people)):\n",
    "#     cur_tweets = dp.load_tweets(username, location = \"../data/tweets1/u\")\n",
    "#     all_tweets.extend([tweet for tweet in dp.clean_tweets(cur_tweets, username)])\n",
    "\n",
    "# print(\"\\n\", len(all_tweets))\n",
    "# #process all tweets at once\n",
    "# docs = run_pipeline(all_tweets)\n",
    "# \n",
    "\n",
    "docs = load_backup()\n",
    "doc_dict = to_doc_dict(docs)"
   ]
  },
  {
   "cell_type": "code",
   "execution_count": 7,
   "metadata": {},
   "outputs": [
    {
     "output_type": "stream",
     "name": "stderr",
     "text": [
      "100%|██████████| 1/1 [00:00<00:00,  2.69it/s]\n",
      "done 04/03/2021 00:00:00\n",
      "\n"
     ]
    }
   ],
   "source": [
    "date = \"04/03/2021 00:00:00\"\n",
    "# code for multiple graphs over time\n",
    "\n",
    "for i in tqdm(range(1)):\n",
    "    date = from_datetime(to_datetime(date)+timedelta(days=i))\n",
    "    all_mentions = []\n",
    "    for username in selected_people:\n",
    "        cur_mentions = get_mention_edges(doc_dict[username],\n",
    "                                        username,\n",
    "                                        follow_weight = follow_weight,\n",
    "                                        win_start_date = date)\n",
    "        all_mentions.extend(cur_mentions)\n",
    "    print(\"\\ndone\", date)\n"
   ]
  },
  {
   "cell_type": "code",
   "execution_count": 8,
   "metadata": {},
   "outputs": [
    {
     "output_type": "stream",
     "name": "stdout",
     "text": [
      "191\nCPU times: user 3.22 ms, sys: 2.19 ms, total: 5.42 ms\nWall time: 73.5 ms\n"
     ]
    },
    {
     "output_type": "execute_result",
     "data": {
      "text/plain": [
       "[<Record count(r)=191>]"
      ]
     },
     "metadata": {},
     "execution_count": 8
    }
   ],
   "source": [
    "%%time\n",
    "print(len(all_mentions))\n",
    "neo.load_mentions(all_mentions)"
   ]
  },
  {
   "cell_type": "code",
   "execution_count": 9,
   "metadata": {},
   "outputs": [
    {
     "output_type": "stream",
     "name": "stdout",
     "text": [
      "CPU times: user 7.57 ms, sys: 1.96 ms, total: 9.54 ms\nWall time: 148 ms\n"
     ]
    },
    {
     "output_type": "execute_result",
     "data": {
      "text/plain": [
       "[('BTC', 13.019977434724568),\n",
       " ('ETH', 2.4968253123573962),\n",
       " ('LTC', 1.2021665407810358),\n",
       " ('BTT', 1.0930827969219539),\n",
       " ('USD', 0.912968051037751),\n",
       " ('ENJ', 0.8219104532152415),\n",
       " ('TRX', 0.7271394041134047),\n",
       " ('BNB', 0.7195571100804957),\n",
       " ('UTK', 0.7036860298831015),\n",
       " ('UNI', 0.690762960142456),\n",
       " ('LINA', 0.5898421322228385),\n",
       " ('CRV', 0.49487193521345035),\n",
       " ('SCRT', 0.40850205213646407),\n",
       " ('HNST', 0.39773743371479214),\n",
       " ('FTT', 0.3652528362057638),\n",
       " ('DAI', 0.33993184982100505),\n",
       " ('AVAX', 0.32012211590772494),\n",
       " ('USDT', 0.31456115646287797),\n",
       " ('LINK', 0.3091509295860304),\n",
       " ('ETF', 0.30401939707226117),\n",
       " ('DOGE', 0.30197511042933917),\n",
       " ('USDC', 0.30007018170435906),\n",
       " ('SXP', 0.2923516809125431),\n",
       " ('XRP', 0.2906502604600973),\n",
       " ('SOL', 0.2866141424688976),\n",
       " ('KNC', 0.2847308282507584),\n",
       " ('SUSHI', 0.2780153848696501),\n",
       " ('MKR', 0.2716632260417099),\n",
       " ('COMP', 0.2654570596350823),\n",
       " ('SUN', 0.2637344300863333),\n",
       " ('1INCH', 0.26229711475898504),\n",
       " ('CND', 0.2602540055086137),\n",
       " ('WRX', 0.2580840242328123),\n",
       " ('MANA', 0.2575834319199203),\n",
       " ('ATOM', 0.24964426163060124),\n",
       " ('AUCTION', 0.24916295981383882),\n",
       " ('WINGS', 0.24908772810595112),\n",
       " ('MATIC', 0.24270504162705034),\n",
       " ('FIL', 0.24028209303214684),\n",
       " ('WBTC', 0.23846695957472555),\n",
       " ('AAVE', 0.23447746527963317),\n",
       " ('HOT', 0.2257171542034485),\n",
       " ('HBAR', 0.22515938332071528),\n",
       " ('EOS', 0.22514085367438388),\n",
       " ('DOT', 0.22407519947155377),\n",
       " ('BNT', 0.21911245904630053),\n",
       " ('EGLD', 0.2139610872924096),\n",
       " ('ADA', 0.21350918135140098),\n",
       " ('QTUM', 0.21347458010131962),\n",
       " ('CHZ', 0.20634075220441447),\n",
       " ('XVG', 0.2047060583980056),\n",
       " ('NEO', 0.2033412432050682),\n",
       " ('OXT', 0.20126532447175124),\n",
       " ('REN', 0.20102970906009435),\n",
       " ('YFI', 0.19761487311916426),\n",
       " ('XTZ', 0.1962287760252366),\n",
       " ('GRT', 0.1943953452137067),\n",
       " ('ONE', 0.18845437122799927),\n",
       " ('WAVES', 0.18712201089510924),\n",
       " ('ALICE', 0.18446233092108738),\n",
       " ('ALPHA', 0.18446233092108738),\n",
       " ('AXS', 0.18446233092108738),\n",
       " ('DASH', 0.18418196308921328),\n",
       " ('FOR', 0.17803915667464026),\n",
       " ('DENT', 0.17650312656551256),\n",
       " ('BAT', 0.1721283851307817),\n",
       " ('SKL', 0.17037731144882856),\n",
       " ('DOCK', 0.17034543242116346),\n",
       " ('KSM', 0.16880728228061345),\n",
       " ('EUR', 0.16819132914752122),\n",
       " ('ALGO', 0.16814654450572566),\n",
       " ('SC', 0.1681436787272105),\n",
       " ('RSR', 0.1671951285505202),\n",
       " ('EVX', 0.16618715760887423),\n",
       " ('XLM', 0.16383383095744652),\n",
       " ('YFII', 0.16300215968258272),\n",
       " ('BUSD', 0.161678729142659),\n",
       " ('CAKE', 0.1609796023938543),\n",
       " ('GO', 0.16043478966930708),\n",
       " ('SNT', 0.1596079924122023),\n",
       " ('ZIL', 0.15881448264917708),\n",
       " ('IOST', 0.15872944215479948),\n",
       " ('STRAX', 0.15851952796037952),\n",
       " ('RUNE', 0.1584273449811008),\n",
       " ('ZRX', 0.15792578753607814),\n",
       " ('BAL', 0.15779082422704965),\n",
       " ('XEM', 0.15603764186853372),\n",
       " ('NPXS', 0.1552716875725309),\n",
       " ('SRM', 0.15504766873164047),\n",
       " ('JPY', 0.15424770718200306),\n",
       " ('ATM', 0.15406839411889453),\n",
       " ('MTL', 0.1537957034460306),\n",
       " ('RVN', 0.15319724257442432),\n",
       " ('CAN', 0.15311562662154762),\n",
       " ('DCR', 0.15309688267079768),\n",
       " ('STX', 0.1530730772048628),\n",
       " ('BULL', 0.15306590012660307),\n",
       " ('BEAR', 0.15292896519713398)]"
      ]
     },
     "metadata": {},
     "execution_count": 9
    }
   ],
   "source": [
    "%%time\n",
    "\n",
    "final_scores = neo.pagerank_scores(auto=True)\n",
    "final_scores"
   ]
  },
  {
   "cell_type": "code",
   "execution_count": 10,
   "metadata": {},
   "outputs": [],
   "source": [
    "# make graphview that only looks at people who mention coins, and coins that are mentioned\n",
    "\n",
    "# exchange tokens might have more mentions\n",
    "# factor in mentions of coins in threads, so it gets more mentions than just 1"
   ]
  }
 ]
}