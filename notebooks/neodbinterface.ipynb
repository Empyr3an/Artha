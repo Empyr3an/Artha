{
 "metadata": {
  "language_info": {
   "codemirror_mode": {
    "name": "ipython",
    "version": 3
   },
   "file_extension": ".py",
   "mimetype": "text/x-python",
   "name": "python",
   "nbconvert_exporter": "python",
   "pygments_lexer": "ipython3",
   "version": "3.7.6-final"
  },
  "orig_nbformat": 2,
  "kernelspec": {
   "name": "python376jvsc74a57bd0336ff5ee2c1e0e67b5ec251f9bb85714e66dde2cea2c3ccd73e788234e60283a",
   "display_name": "Python 3.7.6 64-bit ('artha@3.7.6')"
  }
 },
 "nbformat": 4,
 "nbformat_minor": 2,
 "cells": [
  {
   "cell_type": "code",
   "execution_count": 1,
   "metadata": {},
   "outputs": [
    {
     "output_type": "stream",
     "name": "stdout",
     "text": [
      "CPU times: user 2.12 s, sys: 315 ms, total: 2.44 s\nWall time: 3.6 s\n"
     ]
    },
    {
     "output_type": "execute_result",
     "data": {
      "text/plain": [
       "<neo4j.work.result.Result at 0x121b6ae50>"
      ]
     },
     "metadata": {},
     "execution_count": 1
    }
   ],
   "source": [
    "%%time\n",
    "import inspect\n",
    "currentdir = os.path.dirname(os.path.abspath(inspect.getfile(inspect.currentframe())))\n",
    "parentdir = os.path.dirname(currentdir)\n",
    "os.sys.path.insert(0,parentdir) \n",
    "\n",
    "\n",
    "from Artha.nlp_extraction import *\n",
    "import Artha.data_process as dp\n",
    "# from Artha.neocoinsdb import Neo\n",
    "from Artha.neodb import Neo\n",
    "import Artha.crypto_data as crypto\n",
    "from tqdm import tqdm\n",
    "import csv\n",
    "import json\n",
    "from collections import Counter\n",
    "import numpy as np\n",
    "np.set_printoptions(suppress=True)\n",
    "import pprint\n",
    "import math\n",
    "from datetime import datetime\n",
    "\n",
    "pp = pprint.PrettyPrinter(indent=1)\n",
    "\n",
    "# coins database\n",
    "neo = Neo(\"neo4j://localhost:7687\", \"neo4j\", \"part2\")\n",
    "neo.session.run('''CREATE CONSTRAINT twitter_username IF NOT EXISTS ON (n:Person)\n",
    "                ASSERT n.username IS UNIQUE''')\n",
    "neo.session.run('''CREATE CONSTRAINT coin_name IF NOT EXISTS ON (n:Coin)\n",
    "                ASSERT n.ticker IS UNIQUE''')"
   ]
  },
  {
   "cell_type": "code",
   "execution_count": null,
   "metadata": {},
   "outputs": [],
   "source": [
    "# neo.session.run('''\n",
    "#                 Merge (n:Person {username: 'checkra_'})\n",
    "#                 ON CREATE SET n.id ='1356259499431129092',\n",
    "#                 n.name = 'Checkra',\n",
    "#                 n.username = 'checkra_'\n",
    "#         ''')"
   ]
  },
  {
   "cell_type": "code",
   "execution_count": 11,
   "metadata": {},
   "outputs": [
    {
     "output_type": "stream",
     "name": "stdout",
     "text": [
      "771 8823\n"
     ]
    }
   ],
   "source": [
    "print(len(neo.get_nodes()), len(neo.get_relations()))"
   ]
  },
  {
   "cell_type": "code",
   "execution_count": 6,
   "metadata": {},
   "outputs": [
    {
     "output_type": "stream",
     "name": "stdout",
     "text": [
      "deleted database\n"
     ]
    }
   ],
   "source": [
    "neo.clear_db()"
   ]
  },
  {
   "cell_type": "code",
   "execution_count": 8,
   "metadata": {},
   "outputs": [
    {
     "output_type": "stream",
     "name": "stdout",
     "text": [
      "Updated coins\nloaded People\n"
     ]
    },
    {
     "output_type": "execute_result",
     "data": {
      "text/plain": [
       "<neo4j.work.result.Result at 0x121afd9d0>"
      ]
     },
     "metadata": {},
     "execution_count": 8
    }
   ],
   "source": [
    "neo.load_coins()\n",
    "neo.load_follow_nodes(dp.load_following(\"checkra_\"))"
   ]
  },
  {
   "cell_type": "code",
   "execution_count": 3,
   "metadata": {},
   "outputs": [],
   "source": [
    "# add follows between only people I follow, can change by getting rid of second 2 last line for anyone a person follows\n",
    "follows = []\n",
    "checkra_follows = [i[3] for i in dp.load_following(\"checkra_\")]\n",
    "for file_loc in os.listdir(path = \"../data/follows/\"):\n",
    "    if file_loc != \"ucheckra_.csv\":\n",
    "        fs = dp.load_following(file_loc[1:-4])\n",
    "        for i in fs:\n",
    "            if i[3] in checkra_follows:\n",
    "                follows.append(i)"
   ]
  },
  {
   "cell_type": "code",
   "execution_count": 10,
   "metadata": {},
   "outputs": [
    {
     "output_type": "stream",
     "name": "stdout",
     "text": [
      "8823\n",
      "loaded People\n",
      "loaded relations\n",
      "CPU times: user 44.1 ms, sys: 4.27 ms, total: 48.4 ms\n",
      "Wall time: 3.13 s\n"
     ]
    },
    {
     "output_type": "execute_result",
     "data": {
      "text/plain": [
       "<neo4j.work.result.Result at 0x12234be90>"
      ]
     },
     "metadata": {},
     "execution_count": 10
    }
   ],
   "source": [
    "%%time\n",
    "print(len(follows))\n",
    "neo.load_follow_nodes(follows)\n",
    "neo.load_follow_relations(follows)"
   ]
  },
  {
   "cell_type": "code",
   "execution_count": null,
   "metadata": {
    "tags": []
   },
   "outputs": [],
   "source": [
    "follow_path = \"../data/follows/\"\n",
    "tweets_path = \"../data/tweets/\"\n",
    "\n",
    "l1, l2 = os.listdir(follow_path), os.listdir(tweets_path)\n",
    "l1 = [i[1:-4] for i in l1]\n",
    "l2 = [i[1:-11] for i in l2]\n",
    "print(len(l1), len(l2))\n",
    "both = np.intersect1d(l1, l2)\n",
    "print(len(both))\n",
    "for person in both[:1]:\n",
    "    # tweets = dp.load_tweets(person)\n",
    "    # docs = run_pipeline(person)\n",
    "    # following = dp.\n",
    "    for doc in docs:\n",
    "        if doc._.tickers and \"BTC\" not in doc._.tickers and \"USD\" not in doc._.tickers and \"ETF\" not in doc._.tickers:\n",
    "            print(doc, doc.ents, doc._.tickers, \"\\n\\n\")\n",
    "            # break\n",
    "# TODO CLEAN UP ENTITY RECOGNITION"
   ]
  },
  {
   "cell_type": "code",
   "execution_count": null,
   "metadata": {},
   "outputs": [],
   "source": [
    "names = [\"BTC_JackSparrow\", \"razoreth\", \"Nostranomist\", \"CryptoKaleo\", \"nebraskangooner\", \"Rager\", \"SavageBTC\"]\n",
    "all_mentions = []"
   ]
  },
  {
   "cell_type": "code",
   "execution_count": null,
   "metadata": {},
   "outputs": [],
   "source": [
    "%%time\n",
    "for ind, name in enumerate(names):\n",
    "    # tweets = dp.load_tweets(name)\n",
    "    docs = run_pipeline(name)\n",
    "    # print(tweets[0][\"created_at\"])\n",
    "    print(ind, name)\n",
    "    mentions = get_mention_scores(name, docs)\n",
    "    all_mentions.extend(mentions)"
   ]
  },
  {
   "cell_type": "code",
   "execution_count": null,
   "metadata": {},
   "outputs": [],
   "source": [
    "%%time\n",
    "neo.load_mentions(all_mentions)"
   ]
  },
  {
   "cell_type": "code",
   "execution_count": null,
   "metadata": {},
   "outputs": [],
   "source": [
    "name = \"BTC_JackSparrow\"\n",
    "docs = run_pipeline(name)\n",
    "    # print(tweets[0][\"created_at\"])\n",
    "print(name)\n",
    "singlementions = get_mention_scores(name, docs)"
   ]
  },
  {
   "cell_type": "code",
   "execution_count": 11,
   "metadata": {},
   "outputs": [
    {
     "output_type": "stream",
     "name": "stdout",
     "text": [
      "('BTC_JackSparrow', 'BTC', 11.88777)\n('BTC_JackSparrow', 'ETH', 3.36575)\n('BTC_JackSparrow', 'LINA', 1.07525)\n('BTC_JackSparrow', 'UTK', 0.56272)\n('BTC_JackSparrow', 'DOGE', 1.14677)\n('BTC_JackSparrow', 'USD', 0.7647)\n('BTC_JackSparrow', 'BNB', 0.01759)\n('BTC_JackSparrow', 'ETF', 0.35056)\n('BTC_JackSparrow', 'WRX', 0.13727)\n('BTC_JackSparrow', 'LTC', 0.13315)\n('BTC_JackSparrow', 'UNI', 0.18669)\n('BTC_JackSparrow', 'AVAX', 0.17863)\n('BTC_JackSparrow', 'CRV', 0.14257)\n('BTC_JackSparrow', 'XVG', 0.02611)\n('BTC_JackSparrow', 'SCRT', 0.02807)\n('BTC_JackSparrow', 'USDT', 0.00168)\n('BTC_JackSparrow', 'DAI', 0.12401)\n('BTC_JackSparrow', 'MKR', 0.12401)\n('BTC_JackSparrow', 'WINGS', 0.11663)\n('BTC_JackSparrow', 'HNST', 0.04438)\n('BTC_JackSparrow', 'XRP', 0.00854)\n('BTC_JackSparrow', 'DENT', 0.00818)\n('BTC_JackSparrow', 'COMP', 0.00644)\n('BTC_JackSparrow', 'CAN', 0.00609)\n('BTC_JackSparrow', 'SUN', 0.00361)\n('BTC_JackSparrow', 'TRX', 0.00199)\n('BTC_JackSparrow', 'FTT', 0.00154)\n('BTC_JackSparrow', 'STX', 0.0009)\n('BTC_JackSparrow', 'WAVES', 0.00052)\n('BTC_JackSparrow', 'SOL', 0.00037)\n"
     ]
    }
   ],
   "source": [
    "for i in singlementions:\n",
    "    print(i)"
   ]
  },
  {
   "cell_type": "code",
   "execution_count": null,
   "metadata": {},
   "outputs": [],
   "source": [
    "for doc in docs:\n",
    "    if \"WRX\" in doc._.tickers:\n",
    "        print(doc, doc._.tweeted_at)"
   ]
  },
  {
   "cell_type": "code",
   "execution_count": null,
   "metadata": {},
   "outputs": [],
   "source": [
    "%%time\n",
    "neo.load_mentions(singlementions)"
   ]
  },
  {
   "cell_type": "code",
   "execution_count": 15,
   "metadata": {},
   "outputs": [
    {
     "output_type": "execute_result",
     "data": {
      "text/plain": [
       "[<Record graphName='mentions' nodeCount=771 relationshipCount=26>]"
      ]
     },
     "metadata": {},
     "execution_count": 15
    }
   ],
   "source": [
    "result = neo.session.run('''\n",
    "    CALL gds.graph.create(\n",
    "        'mentions',\n",
    "        {Person: {label: \"Person\"},Coin: {label: \"Coin\"}},\n",
    "        {CALLOUT: {type : 'CALLOUT', orientation: 'NATURAL'}},\n",
    "        { relationshipProperties: 'weight'}\n",
    "    )\n",
    "    YIELD graphName, nodeCount, relationshipCount\n",
    "    ''')\n",
    "[r for r in result]"
   ]
  },
  {
   "cell_type": "code",
   "execution_count": 26,
   "metadata": {},
   "outputs": [
    {
     "output_type": "stream",
     "name": "stdout",
     "text": [
      "<Record ticker='BTC' score=0.2285871043801308>\n<Record ticker='ETH' score=0.17225014148280027>\n<Record ticker='DOGE' score=0.15758101278916004>\n<Record ticker='LINA' score=0.15710821207612755>\n<Record ticker='UTK' score=0.1537200027611107>\n<Record ticker='UNI' score=0.15123416140559132>\n<Record ticker='AVAX' score=0.15118087876471692>\n<Record ticker='CRV' score=0.15094249499379658>\n<Record ticker='WRX' score=0.15090745800407607>\n<Record ticker='LTC' score=0.15088022167910825>\n<Record ticker='DAI' score=0.15081979942915497>\n<Record ticker='MKR' score=0.15081979942915497>\n<Record ticker='WINGS' score=0.15077101207571106>\n<Record ticker='SCRT' score=0.15018556382201498>\n<Record ticker='XVG' score=0.1501726067523123>\n<Record ticker='BNB' score=0.15011628313659459>\n<Record ticker='XRP' score=0.1500564558293263>\n<Record ticker='DENT' score=0.15005407595963335>\n<Record ticker='COMP' score=0.15004257324580977>\n<Record ticker='SUN' score=0.15002386481764918>\n<Record ticker='TRX' score=0.1500131553978463>\n<Record ticker='USDT' score=0.15001110606449403>\n<Record ticker='FTT' score=0.15001018055918397>\n<Record ticker='STX' score=0.1500059496773247>\n<Record ticker='WAVES' score=0.1500034375913174>\n<Record ticker='SOL' score=0.15000244597842996>\n"
     ]
    }
   ],
   "source": [
    "result = neo.session.run('''\n",
    "    CALL gds.pageRank.stream('mentions', \n",
    "        {\n",
    "        maxIterations: 20,\n",
    "        dampingFactor: 0.85,\n",
    "        relationshipWeightProperty: 'weight'\n",
    "        })\n",
    "    YIELD nodeId, score\n",
    "    RETURN gds.util.asNode(nodeId).ticker AS ticker, score\n",
    "    ORDER BY score DESC, ticker ASC\n",
    "\n",
    "''')\n",
    "f = [r for r in result]\n",
    "for i in f:\n",
    "    if i[\"score\"]>.1500001:\n",
    "        print(i)"
   ]
  },
  {
   "cell_type": "code",
   "execution_count": 14,
   "metadata": {},
   "outputs": [
    {
     "output_type": "execute_result",
     "data": {
      "text/plain": [
       "[<Record graphName='mentions'>]"
      ]
     },
     "metadata": {},
     "execution_count": 14
    }
   ],
   "source": [
    "result = neo.session.run(\"CALL gds.graph.drop('mentions') YIELD graphName\")\n",
    "[r for r in result]"
   ]
  },
  {
   "cell_type": "code",
   "execution_count": null,
   "metadata": {},
   "outputs": [],
   "source": [
    "# make graphview that only looks at people who mention coins, and coins that are mentioned\n",
    "\n",
    "# exchange tokens might have more mentions\n",
    "# factor in mentions of coins in threads, so it gets more mentions than just 1"
   ]
  }
 ]
}