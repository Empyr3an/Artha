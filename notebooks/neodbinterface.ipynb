{
 "metadata": {
  "language_info": {
   "codemirror_mode": {
    "name": "ipython",
    "version": 3
   },
   "file_extension": ".py",
   "mimetype": "text/x-python",
   "name": "python",
   "nbconvert_exporter": "python",
   "pygments_lexer": "ipython3",
   "version": "3.7.6-final"
  },
  "orig_nbformat": 2,
  "kernelspec": {
   "name": "python376jvsc74a57bd0336ff5ee2c1e0e67b5ec251f9bb85714e66dde2cea2c3ccd73e788234e60283a",
   "display_name": "Python 3.7.6 64-bit ('artha@3.7.6')"
  }
 },
 "nbformat": 4,
 "nbformat_minor": 2,
 "cells": [
  {
   "cell_type": "code",
   "execution_count": 1,
   "metadata": {},
   "outputs": [
    {
     "output_type": "stream",
     "name": "stdout",
     "text": [
      "CPU times: user 2.13 s, sys: 320 ms, total: 2.45 s\nWall time: 3.61 s\n"
     ]
    },
    {
     "output_type": "execute_result",
     "data": {
      "text/plain": [
       "<neo4j.work.result.Result at 0x118281290>"
      ]
     },
     "metadata": {},
     "execution_count": 1
    }
   ],
   "source": [
    "%%time\n",
    "import inspect\n",
    "currentdir = os.path.dirname(os.path.abspath(inspect.getfile(inspect.currentframe())))\n",
    "parentdir = os.path.dirname(currentdir)\n",
    "os.sys.path.insert(0,parentdir) \n",
    "\n",
    "from Artha.nlp_extraction import run_pipeline, nlp\n",
    "import Artha.data_process as dp\n",
    "from Artha.neodb import Neo\n",
    "import Artha.crypto_data as crypto\n",
    "from tqdm import tqdm\n",
    "import json\n",
    "import numpy as np\n",
    "np.set_printoptions(suppress=True)\n",
    "from datetime import datetime\n",
    "from Artha.pagerank import get_mention_edges\n",
    "\n",
    "# coins database\n",
    "neo = Neo(\"neo4j://localhost:7687\", \"neo4j\", \"part2\")\n",
    "neo.session.run('''CREATE CONSTRAINT twitter_username IF NOT EXISTS ON (n:Person)\n",
    "                ASSERT n.username IS UNIQUE''')\n",
    "neo.session.run('''CREATE CONSTRAINT coin_name IF NOT EXISTS ON (n:Coin)\n",
    "                ASSERT n.ticker IS UNIQUE''')"
   ]
  },
  {
   "cell_type": "code",
   "execution_count": 2,
   "metadata": {},
   "outputs": [
    {
     "output_type": "stream",
     "name": "stdout",
     "text": [
      "509 188\n"
     ]
    }
   ],
   "source": [
    "print(len(neo.get_nodes()), len(neo.get_relations()))\n",
    "# without mentions 711 6958"
   ]
  },
  {
   "cell_type": "code",
   "execution_count": 3,
   "metadata": {},
   "outputs": [
    {
     "output_type": "stream",
     "name": "stdout",
     "text": [
      "deleted database\n"
     ]
    }
   ],
   "source": [
    "neo.clear_db()"
   ]
  },
  {
   "cell_type": "code",
   "execution_count": 4,
   "metadata": {},
   "outputs": [
    {
     "output_type": "stream",
     "name": "stdout",
     "text": [
      "Updated coins\n"
     ]
    }
   ],
   "source": [
    "neo.load_coins()\n",
    "# loads everyone's follows\n",
    "# neo.load_follow_nodes(dp.load_following(\"checkra_\"))"
   ]
  },
  {
   "cell_type": "code",
   "execution_count": 5,
   "metadata": {},
   "outputs": [
    {
     "output_type": "stream",
     "name": "stdout",
     "text": [
      "CPU times: user 15.3 ms, sys: 3.39 ms, total: 18.7 ms\nWall time: 22.4 ms\n"
     ]
    }
   ],
   "source": [
    "%%time\n",
    "# add follows between only people I follow, can change by getting rid of second 2 last line for anyone a person follows\n",
    "follows = []\n",
    "some_people = [\"BTC_JackSparrow\", \"razoreth\", \"Nostranomist\", \"CryptoKaleo\", \"nebraskangooner\", \"Rager\", \"SavageBTC\"]\n",
    "available = [i[1:-4] for i in os.listdir(\"../data/follows/\")]\n",
    "\n",
    "# generate follow edges for people within people group ^\n",
    "for user in some_people:\n",
    "    fs = dp.load_following(user)\n",
    "    for i in fs:\n",
    "        if i[3] in available:\n",
    "            follows.append(i)"
   ]
  },
  {
   "cell_type": "code",
   "execution_count": 6,
   "metadata": {},
   "outputs": [
    {
     "output_type": "stream",
     "name": "stdout",
     "text": [
      "264\n",
      "loaded People\n",
      "loaded relations\n",
      "CPU times: user 5.52 ms, sys: 3.04 ms, total: 8.56 ms\n",
      "Wall time: 231 ms\n"
     ]
    },
    {
     "output_type": "execute_result",
     "data": {
      "text/plain": [
       "<neo4j.work.result.Result at 0x113af07d0>"
      ]
     },
     "metadata": {},
     "execution_count": 6
    }
   ],
   "source": [
    "%%time\n",
    "print(len(follows))\n",
    "neo.load_follow_nodes(follows)\n",
    "neo.load_follow_relations(follows)"
   ]
  },
  {
   "cell_type": "code",
   "execution_count": 7,
   "metadata": {},
   "outputs": [
    {
     "output_type": "stream",
     "name": "stderr",
     "text": [
      "7it [00:01,  5.69it/s]\n",
      " 60943\n",
      "CPU times: user 1.17 s, sys: 46 ms, total: 1.22 s\n",
      "Wall time: 1.24 s\n",
      "\n"
     ]
    }
   ],
   "source": [
    "%%time\n",
    "# load all tweets\n",
    "all_tweets = []\n",
    "for ind, username in tqdm(enumerate(some_people)):\n",
    "    cur_tweets = dp.load_tweets(username, location = \"../data/tweets1/u\")\n",
    "    all_tweets.extend([tweet for tweet in dp.clean_tweets(cur_tweets, username)])\n",
    "\n",
    "print(\"\\n\", len(all_tweets))"
   ]
  },
  {
   "cell_type": "code",
   "execution_count": 8,
   "metadata": {},
   "outputs": [
    {
     "output_type": "stream",
     "name": "stderr",
     "text": [
      "60943it [00:58, 1047.42it/s]\n",
      " 05/01/2021 13:08:26\n",
      "CPU times: user 50.9 s, sys: 3.71 s, total: 54.6 s\n",
      "Wall time: 58.2 s\n",
      "\n"
     ]
    }
   ],
   "source": [
    "%%time\n",
    "#process all tweets at once\n",
    "docs = run_pipeline(all_tweets)\n",
    "print(\"\\n\", docs[0]._.tweeted_at)"
   ]
  },
  {
   "cell_type": "code",
   "execution_count": 18,
   "metadata": {},
   "outputs": [
    {
     "output_type": "stream",
     "name": "stdout",
     "text": [
      "CPU times: user 6.06 s, sys: 383 ms, total: 6.44 s\nWall time: 6.46 s\n"
     ]
    }
   ],
   "source": [
    "# save tweet docs\n",
    "%%time\n",
    "save_backup(docs)"
   ]
  },
  {
   "cell_type": "code",
   "execution_count": 2,
   "metadata": {},
   "outputs": [],
   "source": [
    "docs = load_backup()"
   ]
  },
  {
   "source": [
    "all_docs = {}\n",
    "for doc in tqdm(docs):\n",
    "    if doc._.username not in all_docs.keys():\n",
    "        all_docs[doc._.username] = [doc]\n",
    "        print(doc._.username)\n",
    "    else:\n",
    "        all_docs[doc._.username].append(doc)"
   ],
   "cell_type": "code",
   "metadata": {
    "tags": []
   },
   "execution_count": 9,
   "outputs": [
    {
     "output_type": "stream",
     "name": "stderr",
     "text": [
      "100%|██████████| 14474/14474 [00:00<00:00, 89897.82it/s]BTC_JackSparrow\n",
      "razoreth\n",
      "Nostranomist\n",
      "CryptoKaleo\n",
      "nebraskangooner\n",
      "Rager\n",
      "SavageBTC\n",
      "\n"
     ]
    }
   ]
  },
  {
   "cell_type": "code",
   "execution_count": 10,
   "metadata": {},
   "outputs": [
    {
     "output_type": "stream",
     "name": "stdout",
     "text": [
      "done BTC_JackSparrow\n",
      "done razoreth\n",
      "done Nostranomist\n",
      "done CryptoKaleo\n",
      "done nebraskangooner\n",
      "done Rager\n",
      "done SavageBTC\n"
     ]
    }
   ],
   "source": [
    "date = \"04/03/2021 00:00:00\"\n",
    "\n",
    "all_mentions = []\n",
    "for username in some_people:\n",
    "    cur_mentions = get_mention_edges(all_docs[username],\n",
    "                                     username,\n",
    "                                     win_start_date = date)\n",
    "    all_mentions.extend(cur_mentions)\n",
    "    print(\"done\", username)"
   ]
  },
  {
   "cell_type": "code",
   "execution_count": null,
   "metadata": {},
   "outputs": [],
   "source": [
    "%%time\n",
    "print(len(all_mentions))\n",
    "neo.load_mentions(all_mentions)"
   ]
  },
  {
   "cell_type": "code",
   "execution_count": null,
   "metadata": {},
   "outputs": [],
   "source": [
    "%%time\n",
    "neo.load_mentions(all_mentions)"
   ]
  },
  {
   "cell_type": "code",
   "execution_count": null,
   "metadata": {},
   "outputs": [],
   "source": [
    "result = neo.session.run('''\n",
    "    CALL gds.graph.create(\n",
    "        'mentions',\n",
    "        {Person: {label: \"Person\"},Coin: {label: \"Coin\"}},\n",
    "        {CALLOUT: {type : 'CALLOUT', orientation: 'NATURAL'},\n",
    "            FOLLOWS: {type: 'FOLLOWS', orientation: 'NATURAL'}\n",
    "        },\n",
    "        { relationshipProperties: 'weight'}\n",
    "    )\n",
    "    YIELD graphName, nodeCount, relationshipCount\n",
    "    ''')\n",
    "[r for r in result]"
   ]
  },
  {
   "cell_type": "code",
   "execution_count": null,
   "metadata": {},
   "outputs": [],
   "source": [
    "result = neo.session.run('''\n",
    "    CALL gds.pageRank.stream('mentions', \n",
    "        {\n",
    "        maxIterations: 20,\n",
    "        dampingFactor: 0.85,\n",
    "        relationshipWeightProperty: 'weight'\n",
    "        })\n",
    "    YIELD nodeId, score\n",
    "    RETURN gds.util.asNode(nodeId).ticker AS ticker, score\n",
    "    ORDER BY score DESC, ticker ASC\n",
    "\n",
    "''')\n",
    "f = [r for r in result]\n",
    "for i in f:\n",
    "    if i[\"score\"]>.1500001:\n",
    "        print(i)"
   ]
  },
  {
   "cell_type": "code",
   "execution_count": null,
   "metadata": {},
   "outputs": [],
   "source": [
    "result = neo.session.run(\"CALL gds.graph.drop('mentions') YIELD graphName\")\n",
    "[r for r in result]"
   ]
  },
  {
   "cell_type": "code",
   "execution_count": null,
   "metadata": {},
   "outputs": [],
   "source": [
    "# make graphview that only looks at people who mention coins, and coins that are mentioned\n",
    "\n",
    "# exchange tokens might have more mentions\n",
    "# factor in mentions of coins in threads, so it gets more mentions than just 1"
   ]
  }
 ]
}