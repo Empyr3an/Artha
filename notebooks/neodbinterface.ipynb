{
 "metadata": {
  "language_info": {
   "codemirror_mode": {
    "name": "ipython",
    "version": 3
   },
   "file_extension": ".py",
   "mimetype": "text/x-python",
   "name": "python",
   "nbconvert_exporter": "python",
   "pygments_lexer": "ipython3",
   "version": "3.7.6-final"
  },
  "orig_nbformat": 2,
  "kernelspec": {
   "name": "python376jvsc74a57bd0336ff5ee2c1e0e67b5ec251f9bb85714e66dde2cea2c3ccd73e788234e60283a",
   "display_name": "Python 3.7.6 64-bit ('artha@3.7.6')"
  }
 },
 "nbformat": 4,
 "nbformat_minor": 2,
 "cells": [
  {
   "cell_type": "code",
   "execution_count": 1,
   "metadata": {},
   "outputs": [
    {
     "output_type": "stream",
     "name": "stdout",
     "text": [
      "CPU times: user 2.21 s, sys: 378 ms, total: 2.59 s\nWall time: 3.86 s\n"
     ]
    },
    {
     "output_type": "execute_result",
     "data": {
      "text/plain": [
       "<neo4j.work.result.Result at 0x1219b8650>"
      ]
     },
     "metadata": {},
     "execution_count": 1
    }
   ],
   "source": [
    "%%time\n",
    "import inspect\n",
    "currentdir = os.path.dirname(os.path.abspath(inspect.getfile(inspect.currentframe())))\n",
    "parentdir = os.path.dirname(currentdir)\n",
    "os.sys.path.insert(0,parentdir) \n",
    "\n",
    "from Artha.nlp_extraction import run_pipeline, save_backup, load_backup, to_doc_dict\n",
    "import Artha.data_process as dp\n",
    "from Artha.neodb import Neo\n",
    "import Artha.crypto_data as crypto\n",
    "from tqdm import tqdm\n",
    "import json\n",
    "import numpy as np\n",
    "np.set_printoptions(suppress=True)\n",
    "from datetime import datetime, timedelta\n",
    "from Artha.mentions import *\n",
    "from collections import Counter\n",
    "import pandas as pd\n",
    "import matplotlib.pyplot as plt\n",
    "import Artha.crypto_data as crypto\n",
    "\n",
    "# coins database\n",
    "neo = Neo(\"neo4j://localhost:7687\", \"neo4j\", \"part2\")\n",
    "neo.session.run('''CREATE CONSTRAINT twitter_username IF NOT EXISTS ON (n:Person)\n",
    "                ASSERT n.username IS UNIQUE''')\n",
    "neo.session.run('''CREATE CONSTRAINT coin_name IF NOT EXISTS ON (n:Coin)\n",
    "                ASSERT n.ticker IS UNIQUE''')\n"
   ]
  },
  {
   "cell_type": "code",
   "execution_count": 2,
   "metadata": {},
   "outputs": [
    {
     "output_type": "stream",
     "name": "stdout",
     "text": [
      "149 291\n"
     ]
    }
   ],
   "source": [
    "follow_weight = .5\n",
    "print(len(neo.get_nodes()), len(neo.get_relations()))\n",
    "# without mentions 711 6958"
   ]
  },
  {
   "cell_type": "code",
   "execution_count": 3,
   "metadata": {},
   "outputs": [],
   "source": [
    "neo.clear_nodes()"
   ]
  },
  {
   "cell_type": "code",
   "execution_count": 4,
   "metadata": {},
   "outputs": [
    {
     "output_type": "stream",
     "name": "stdout",
     "text": [
      "CPU times: user 8.64 ms, sys: 2.54 ms, total: 11.2 ms\nWall time: 14 ms\n"
     ]
    }
   ],
   "source": [
    "%%time\n",
    "# add follows between only people I follow, can change by getting rid of second 2 last line for anyone a person follows\n",
    "\n",
    "# all_people = [i[1:-4] for i in os.listdir(\"../data/follows/\")]\n",
    "# checkra_people = [c[3] for c in dp.load_following(\"checkra_\") ]\n",
    "\n",
    "\n",
    "selected_people = [\"BTC_JackSparrow\", \"Nostranomist\", \"CryptoKaleo\", \"nebraskangooner\", \"Rager\", \"SavageBTC\", \"TraderMayne\", \"IamCryptoWolf\", \"CryptoNewton\"]\n",
    "selected_nodes = [c for c in dp.load_following(\"checkra_\") if c[3] in selected_people]\n",
    "\n",
    "selected_follows = dp.follow_edges(selected_people, follow_weight)"
   ]
  },
  {
   "cell_type": "code",
   "execution_count": 5,
   "metadata": {},
   "outputs": [
    {
     "output_type": "stream",
     "name": "stdout",
     "text": [
      "8 22\nCPU times: user 8.97 ms, sys: 2.88 ms, total: 11.8 ms\nWall time: 90.5 ms\n"
     ]
    }
   ],
   "source": [
    "%%time\n",
    "# print(len(follows))\n",
    "neo.clear_nodes()\n",
    "\n",
    "neo.load_follow_nodes(selected_nodes)\n",
    "neo.load_follow_nodes(selected_follows)\n",
    "neo.load_follow_relations(selected_follows)\n",
    "\n",
    "print(len(neo.get_nodes()), len(neo.get_relations()))\n"
   ]
  },
  {
   "cell_type": "code",
   "execution_count": 6,
   "metadata": {},
   "outputs": [
    {
     "output_type": "stream",
     "name": "stdout",
     "text": [
      "loaded\n",
      "100%|██████████| 19935/19935 [00:00<00:00, 151976.10it/s]CPU times: user 7.37 s, sys: 227 ms, total: 7.6 s\n",
      "Wall time: 7.66 s\n",
      "\n"
     ]
    }
   ],
   "source": [
    "%%time\n",
    "# load all tweets\n",
    "# all_tweets = []\n",
    "# for ind, username in tqdm(enumerate(selected_people)):\n",
    "#     cur_tweets = dp.load_tweets(username, location = \"../data/tweets1/u\")\n",
    "#     all_tweets.extend([tweet for tweet in dp.clean_tweets(cur_tweets, username)])\n",
    "\n",
    "# print(\"\\n\", len(all_tweets))\n",
    "# #process all tweets at once\n",
    "# docs = run_pipeline(all_tweets)\n",
    "# \n",
    "\n",
    "docs = load_backup()\n",
    "doc_dict = to_doc_dict(docs)"
   ]
  },
  {
   "cell_type": "code",
   "execution_count": 27,
   "metadata": {
    "tags": [
     "outputPrepend"
    ]
   },
   "outputs": [
    {
     "output_type": "stream",
     "name": "stdout",
     "text": [
      " 1351548526384218114\n",
      "['YFI', 'ENJ', 'ETH', 'LTC'] 01/18/2021 04:25:24 Nostranomist 1351022856642195457\n",
      "['ENJ'] 01/18/2021 03:32:55 Nostranomist 1351009649965858818\n",
      "['ENJ', 'BTC'] 01/17/2021 19:24:10 Nostranomist 1350886650084134912\n",
      "['ENJ', 'ETH', 'LTC'] 01/17/2021 18:51:53 Nostranomist 1350878526656843776\n",
      "['ENJ'] 01/17/2021 15:52:29 Nostranomist 1350833377843191809\n",
      "['ENJ'] 01/17/2021 00:30:55 Nostranomist 1350601461109964800\n",
      "['YFI', 'ENJ'] 01/14/2021 05:56:23 Nostranomist 1349596203755835392\n",
      "['ENJ'] 01/11/2021 11:14:39 Nostranomist 1348589134856667137\n",
      "['ENJ', 'BTC'] 01/10/2021 00:10:09 Nostranomist 1348059517620158467\n",
      "['ENJ'] 01/08/2021 00:48:49 Nostranomist 1347344473928290305\n",
      "['ENJ'] 01/06/2021 22:22:45 Nostranomist 1346945327182409729\n",
      "['ENJ', 'BTC'] 01/06/2021 06:19:23 Nostranomist 1346702887565447168\n",
      "['ENJ'] 01/05/2021 19:48:20 Nostranomist 1346544076775034880\n",
      "['ENJ', 'LTC'] 01/05/2021 18:00:05 Nostranomist 1346516835554848771\n",
      "['DOGE', 'ENJ'] 01/05/2021 17:11:25 Nostranomist 1346504590661808130\n",
      "['ENJ'] 01/05/2021 17:10:02 Nostranomist 1346504239342706689\n",
      "['ENJ'] 01/05/2021 17:01:35 Nostranomist 1346502112801222656\n",
      "['DOGE', 'ENJ'] 01/02/2021 04:56:25 Nostranomist 1345232456111149056\n",
      "['ENJ'] 11/30/2020 09:25:41 Nostranomist 1333341418715185153\n",
      "['XTZ', 'XRP', 'DOGE', 'YFI', 'ENJ', 'ETH'] 11/28/2020 17:57:21 Nostranomist 1332745410708873216\n",
      "['USD', 'ENJ', 'BTC'] 11/26/2020 23:35:12 Nostranomist 1332105657323950080\n",
      "['ENJ'] 11/21/2020 08:24:28 Nostranomist 1330064521881411584\n",
      "['ENJ'] 11/21/2020 07:21:22 Nostranomist 1330048645698375681\n",
      "['LTC', 'XRP', 'EOS', 'ADA', 'FTT', 'DOGE', 'YFI', 'ENJ', 'UNI', 'ETH'] 11/18/2020 02:40:36 Nostranomist 1328890825212710912\n",
      "['ENJ', 'BTC'] 11/15/2020 21:09:07 Nostranomist 1328082625790054400\n",
      "['ENJ'] 11/15/2020 16:41:22 Nostranomist 1328015244547878913\n",
      "['ENJ'] 11/06/2020 00:17:58 Nostranomist 1324506271932850181\n",
      "['ENJ'] 11/06/2020 00:15:21 Nostranomist 1324505615503298561\n",
      "['LTC', 'XRP', 'LINK', 'DASH', 'ADA', 'YFI', 'ENJ', 'UNI', 'BTC', 'ETH'] 11/02/2020 23:28:31 Nostranomist 1323406665790619649\n",
      "['ENJ'] 10/30/2020 09:28:30 Nostranomist 1322108106449457153\n",
      "['ENJ', 'ETH'] 09/29/2020 16:07:17 Nostranomist 1310974437605257216\n",
      "['ENJ'] 09/29/2020 09:34:09 Nostranomist 1310875505181163526\n",
      "['ENJ'] 09/02/2020 05:46:58 Nostranomist 1301033860025561088\n",
      "['YFI', 'ENJ'] 09/02/2020 02:53:48 Nostranomist 1300990278556250112\n",
      "['ENJ', 'ZEC', 'BTC', 'ETH'] 09/01/2020 00:21:09 Nostranomist 1300589477786578944\n",
      "['ENJ'] 09/01/2020 00:15:51 Nostranomist 1300588142903222272\n",
      "['USD', 'ENJ', 'BTC'] 08/27/2020 18:12:12 Nostranomist 1299047074323771398\n",
      "['ENJ'] 08/25/2020 19:11:12 Nostranomist 1298337145665417216\n",
      "['ENJ', 'ZEC'] 08/25/2020 18:50:24 Nostranomist 1298331911572426753\n",
      "['ENJ', 'BTC'] 08/25/2020 18:41:44 Nostranomist 1298329731826253826\n",
      "['ENJ'] 08/20/2020 08:25:54 Nostranomist 1296362813305180162\n",
      "['ENJ'] 08/19/2020 19:52:08 Nostranomist 1296173122584944641\n",
      "['ENJ'] 08/18/2020 14:32:22 Nostranomist 1295730262408536065\n",
      "['ENJ'] 08/15/2020 16:49:43 Nostranomist 1294677662544195584\n",
      "['ENJ'] 08/15/2020 09:48:49 Nostranomist 1294571741037989888\n",
      "['ENJ', 'BTC', 'ETH'] 08/13/2020 17:48:40 Nostranomist 1293967721437122561\n",
      "['ENJ'] 08/12/2020 20:00:50 Nostranomist 1293638596193206272\n",
      "['ENJ'] 08/11/2020 19:54:45 Nostranomist 1293274678669086720\n",
      "['ENJ', 'BTC'] 08/11/2020 07:26:55 Nostranomist 1293086478126391296\n",
      "['ENJ'] 08/09/2020 21:11:34 Nostranomist 1292569230840172547\n",
      "['ENJ'] 08/09/2020 09:26:07 Nostranomist 1292391700015353859\n",
      "['ENJ'] 08/08/2020 06:38:35 Nostranomist 1291987149605072896\n",
      "['ENJ'] 08/08/2020 06:36:40 Nostranomist 1291986670883975173\n",
      "['ENJ'] 08/07/2020 19:41:25 Nostranomist 1291821771180535808\n",
      "['ENJ'] 08/07/2020 19:23:52 Nostranomist 1291817351902449664\n",
      "['DOGE', 'ENJ', 'XRP'] 08/07/2020 18:11:04 Nostranomist 1291799032721899520\n",
      "['ENJ'] 08/07/2020 05:33:55 Nostranomist 1291608489467338753\n",
      "['ENJ'] 08/06/2020 15:28:05 Nostranomist 1291395629055262721\n",
      "['ENJ', 'BTC'] 08/05/2020 00:55:13 Nostranomist 1290813574785282049\n",
      "['ENJ', 'XLM'] 08/04/2020 05:13:45 Nostranomist 1290516252000059393\n",
      "['ENJ'] 08/04/2020 04:14:21 Nostranomist 1290501300837158914\n",
      "['ENJ', 'XTZ'] 08/04/2020 04:11:58 Nostranomist 1290500700724576257\n",
      "['ENJ'] 08/04/2020 03:58:00 Nostranomist 1290497186262786049\n",
      "['ENJ'] 08/03/2020 20:15:09 Nostranomist 1290380707525607424\n",
      "['ENJ'] 08/03/2020 03:36:09 Nostranomist 1290129299572314113\n",
      "['ENJ'] 08/02/2020 21:46:10 Nostranomist 1290041223772696578\n",
      "['ENJ'] 08/02/2020 17:09:22 Nostranomist 1289971565338099713\n",
      "['LINK', 'ENJ'] 08/02/2020 06:03:01 Nostranomist 1289803874895720449\n",
      "['ENJ'] 08/01/2020 20:03:45 Nostranomist 1289653061481185282\n",
      "['USD', 'ENJ'] 04/26/2021 23:16:30 CryptoKaleo 1386821518898966529\n",
      "['ENJ', 'BTC'] 04/26/2021 23:16:29 CryptoKaleo 1386821514624962561\n",
      "['ENJ', 'BTC'] 04/07/2021 23:40:02 CryptoKaleo 1379942071151304712\n",
      "['ENJ'] 04/07/2021 23:38:57 CryptoKaleo 1379941798601166848\n",
      "['ENJ'] 04/07/2021 23:38:22 CryptoKaleo 1379941649837666307\n",
      "['ENJ'] 04/05/2021 10:56:59 CryptoKaleo 1379025268661178372\n",
      "['BTT', 'ENJ'] 03/27/2021 10:11:37 CryptoKaleo 1375752360555843591\n",
      "['ENJ'] 03/25/2021 09:57:18 CryptoKaleo 1375023979916840961\n",
      "['ENJ', 'BTC'] 03/24/2021 14:24:25 CryptoKaleo 1374728816183099397\n",
      "['ENJ'] 03/24/2021 10:15:25 CryptoKaleo 1374666153432334338\n",
      "['ENJ', 'BTT'] 03/23/2021 10:22:13 CryptoKaleo 1374305476293312519\n",
      "['BTT', 'ENJ'] 03/23/2021 10:19:09 CryptoKaleo 1374304703488606213\n",
      "['BTT', 'ENJ'] 03/23/2021 10:17:25 CryptoKaleo 1374304266068881411\n",
      "['ENJ'] 03/22/2021 19:51:27 CryptoKaleo 1374086339377963011\n",
      "['ENJ', 'BTC'] 03/22/2021 08:47:38 CryptoKaleo 1373919284997591040\n",
      "['ENJ', 'BTC'] 03/22/2021 06:17:06 CryptoKaleo 1373881404585619456\n",
      "['ENJ', 'BTC'] 03/22/2021 02:23:59 CryptoKaleo 1373822735105802240\n",
      "['ENJ'] 03/21/2021 23:44:58 CryptoKaleo 1373782720187351042\n",
      "['ENJ'] 03/21/2021 21:22:58 CryptoKaleo 1373746985048608769\n",
      "['ENJ'] 03/21/2021 21:14:23 CryptoKaleo 1373744823031767040\n",
      "['ENJ'] 03/21/2021 00:45:12 CryptoKaleo 1373435487327768580\n",
      "['ENJ', 'BTC'] 03/19/2021 23:43:47 CryptoKaleo 1373057647377846280\n",
      "['ENJ', 'BTC'] 03/19/2021 00:46:21 CryptoKaleo 1372711003352309760\n",
      "['ENJ'] 03/19/2021 00:35:17 CryptoKaleo 1372708219429212163\n",
      "['ENJ'] 03/19/2021 00:04:54 CryptoKaleo 1372700572701315075\n",
      "['ENJ'] 03/19/2021 00:00:02 CryptoKaleo 1372699346177757187\n",
      "['ENJ'] 03/18/2021 23:59:49 CryptoKaleo 1372699291307933705\n",
      "['ENJ'] 03/18/2021 22:20:33 CryptoKaleo 1372674311258013696\n",
      "['USD', 'ENJ'] 03/18/2021 21:19:07 CryptoKaleo 1372658851934310406\n",
      "['ENJ'] 03/18/2021 20:06:41 CryptoKaleo 1372640621731667972\n",
      "['ENJ'] 03/18/2021 19:25:42 CryptoKaleo 1372630307451588608\n",
      "['USD', 'ENJ'] 03/18/2021 18:52:59 CryptoKaleo 1372622076360687617\n",
      "['ENJ', 'BTC'] 03/18/2021 18:25:04 CryptoKaleo 1372615051958480899\n",
      "['ENJ', 'BTC'] 03/18/2021 15:17:28 CryptoKaleo 1372567837764632584\n",
      "['ENJ', 'BTC'] 03/18/2021 15:12:56 CryptoKaleo 1372566699778641922\n",
      "['ENJ'] 03/18/2021 15:06:14 CryptoKaleo 1372565010812112896\n",
      "['ENJ'] 03/18/2021 15:04:51 CryptoKaleo 1372564665167974405\n",
      "['ENJ'] 03/17/2021 16:48:52 CryptoKaleo 1372228451567075331\n",
      "['ENJ'] 03/17/2021 14:15:02 CryptoKaleo 1372189738908717066\n",
      "['ENJ', 'BTC'] 03/16/2021 13:49:42 CryptoKaleo 1371820975101251586\n",
      "['ENJ'] 03/16/2021 12:43:04 CryptoKaleo 1371804205711814663\n",
      "['ENJ'] 03/15/2021 22:07:21 CryptoKaleo 1371583827064291331\n",
      "['ENJ'] 03/15/2021 20:20:09 CryptoKaleo 1371556848093036551\n",
      "['ENJ'] 03/15/2021 16:18:53 CryptoKaleo 1371496133109895175\n",
      "['ENJ'] 03/14/2021 20:54:06 CryptoKaleo 1371203004259524611\n",
      "['ENJ'] 03/14/2021 20:49:19 CryptoKaleo 1371201798409707521\n",
      "['ENJ'] 03/14/2021 20:37:39 CryptoKaleo 1371198866184417280\n",
      "['ENJ'] 03/14/2021 20:34:56 CryptoKaleo 1371198178733793282\n",
      "['ENJ'] 03/14/2021 20:13:59 CryptoKaleo 1371192906330046465\n",
      "['ENJ'] 03/14/2021 20:12:49 CryptoKaleo 1371192615903854595\n",
      "['ENJ'] 03/14/2021 19:50:08 CryptoKaleo 1371186907816861696\n",
      "['ENJ', 'BTC'] 03/14/2021 19:24:23 CryptoKaleo 1371180426094465025\n",
      "['ENJ', 'BTC'] 03/14/2021 19:12:09 CryptoKaleo 1371177345659371521\n",
      "['ENJ'] 03/14/2021 16:27:18 CryptoKaleo 1371135861023182850\n",
      "['ENJ', 'BTC'] 03/14/2021 15:20:02 CryptoKaleo 1371118933584048133\n",
      "['ENJ'] 03/14/2021 12:56:08 CryptoKaleo 1371082721204826114\n",
      "['ENJ', 'BTC'] 03/14/2021 12:27:21 CryptoKaleo 1371075476677132294\n",
      "['ENJ'] 03/14/2021 12:22:23 CryptoKaleo 1371074226283745281\n",
      "['ENJ'] 03/14/2021 11:57:19 CryptoKaleo 1371067919057182723\n",
      "['ENJ'] 03/14/2021 11:54:42 CryptoKaleo 1371067259741990912\n",
      "['ENJ'] 03/14/2021 11:41:12 CryptoKaleo 1371063860858355749\n",
      "['ENJ', 'BTC'] 03/14/2021 11:39:30 CryptoKaleo 1371063436063481869\n",
      "['ENJ'] 03/14/2021 11:39:16 CryptoKaleo 1371063375552249857\n",
      "['ENJ'] 03/14/2021 11:37:36 CryptoKaleo 1371062956457349120\n",
      "['ENJ'] 03/14/2021 11:37:10 CryptoKaleo 1371062848420511746\n",
      "['ENJ', 'SRM'] 03/14/2021 11:36:44 CryptoKaleo 1371062738517102594\n",
      "['ENJ'] 03/14/2021 11:33:14 CryptoKaleo 1371061859101577216\n",
      "['ENJ', 'BTC'] 03/13/2021 22:43:25 CryptoKaleo 1370868128452898819\n",
      "['ENJ', 'BTC'] 03/13/2021 21:05:30 CryptoKaleo 1370843482949058560\n",
      "['ENJ'] 03/13/2021 21:03:07 CryptoKaleo 1370842883876478977\n",
      "['ENJ', 'BTC'] 03/13/2021 18:45:26 CryptoKaleo 1370808235234590720\n",
      "['ENJ'] 03/13/2021 18:05:21 CryptoKaleo 1370798147748954124\n",
      "['ENJ'] 03/13/2021 05:15:40 CryptoKaleo 1370604451380219905\n",
      "['ENJ'] 03/13/2021 02:52:43 CryptoKaleo 1370568476247666689\n",
      "['ENJ', 'FOR'] 03/13/2021 02:46:22 CryptoKaleo 1370566877097955331\n",
      "['ENJ'] 03/13/2021 00:57:27 CryptoKaleo 1370539469678514179\n",
      "['ENJ'] 03/13/2021 00:53:57 CryptoKaleo 1370538587704463363\n",
      "['ENJ'] 03/13/2021 00:48:57 CryptoKaleo 1370537331892060161\n",
      "['ENJ'] 03/13/2021 00:05:31 CryptoKaleo 1370526401540030466\n",
      "['ENJ'] 03/12/2021 23:47:55 CryptoKaleo 1370521972166234112\n",
      "['ENJ', 'CHZ'] 03/12/2021 23:02:55 CryptoKaleo 1370510647365099522\n",
      "['ENJ', 'CHZ'] 03/12/2021 23:02:30 CryptoKaleo 1370510543098896384\n",
      "['ENJ', 'BTC'] 03/12/2021 22:57:54 CryptoKaleo 1370509381507428352\n",
      "['ENJ', 'FOR'] 03/12/2021 22:55:53 CryptoKaleo 1370508877104549890\n",
      "['ENJ'] 03/12/2021 19:29:17 CryptoKaleo 1370456884357046284\n",
      "['ENJ'] 03/12/2021 19:09:39 CryptoKaleo 1370451941260677122\n",
      "['ENJ'] 03/12/2021 19:08:57 CryptoKaleo 1370451767675260928\n",
      "['USD', 'ENJ'] 03/12/2021 18:51:46 CryptoKaleo 1370447441573601282\n",
      "['ENJ', 'BTC'] 03/12/2021 18:49:32 CryptoKaleo 1370446881998974981\n",
      "['ENJ'] 03/12/2021 08:19:52 CryptoKaleo 1370288419847409666\n",
      "['ENJ', 'BTC'] 03/12/2021 04:48:49 CryptoKaleo 1370235305207402497\n",
      "['ENJ', 'BTC'] 03/12/2021 04:48:41 CryptoKaleo 1370235272005365762\n",
      "['ENJ'] 03/12/2021 04:24:47 CryptoKaleo 1370229256798765057\n",
      "['ENJ'] 03/12/2021 03:23:59 CryptoKaleo 1370213956258791426\n",
      "['ENJ'] 03/12/2021 03:20:16 CryptoKaleo 1370213021797212162\n",
      "['ENJ', 'ONE', 'BTC'] 03/12/2021 03:15:49 CryptoKaleo 1370211903121846272\n",
      "['ENJ'] 03/12/2021 03:09:03 CryptoKaleo 1370210201622679554\n",
      "['ENJ'] 03/12/2021 03:05:26 CryptoKaleo 1370209288262672386\n",
      "['ENJ'] 03/12/2021 03:05:18 CryptoKaleo 1370209254603419650\n",
      "['ENJ'] 03/12/2021 00:48:11 CryptoKaleo 1370174749767299081\n",
      "['ENJ', 'CHZ'] 03/11/2021 21:01:14 CryptoKaleo 1370117634281369603\n",
      "['ENJ'] 03/11/2021 20:43:33 CryptoKaleo 1370113185768964098\n",
      "['ENJ'] 03/11/2021 20:25:59 CryptoKaleo 1370108763798114304\n",
      "['ENJ'] 03/11/2021 19:02:36 CryptoKaleo 1370087779829485575\n",
      "['ENJ'] 03/11/2021 17:15:08 CryptoKaleo 1370060734403641357\n",
      "['USD', 'ENJ'] 03/11/2021 17:03:39 CryptoKaleo 1370057843982929924\n",
      "['ENJ'] 03/11/2021 17:01:16 CryptoKaleo 1370057243757006855\n",
      "['ENJ', 'BTC'] 03/09/2021 22:27:19 CryptoKaleo 1369414524126789632\n",
      "['ENJ'] 03/09/2021 21:54:14 CryptoKaleo 1369406199104475138\n",
      "['ENJ'] 03/09/2021 20:24:20 CryptoKaleo 1369383572138819588\n",
      "['ENJ', 'CHZ'] 03/09/2021 08:32:56 CryptoKaleo 1369204544115204103\n",
      "['ENJ', 'BTC'] 03/09/2021 03:39:36 CryptoKaleo 1369130723207241738\n",
      "['ENJ', 'CHZ'] 03/09/2021 00:53:46 CryptoKaleo 1369088991677579264\n",
      "['ENJ'] 03/09/2021 00:45:40 CryptoKaleo 1369086951157100547\n",
      "['ENJ'] 03/08/2021 23:02:21 CryptoKaleo 1369060949974544385\n",
      "['ENJ'] 03/08/2021 22:56:36 CryptoKaleo 1369059504571158530\n",
      "['ENJ'] 03/08/2021 22:51:41 CryptoKaleo 1369058268610523141\n",
      "['ENJ'] 03/08/2021 22:51:11 CryptoKaleo 1369058140474445826\n",
      "['ENJ'] 03/08/2021 22:50:26 CryptoKaleo 1369057954457149447\n",
      "['ENJ'] 03/08/2021 22:50:03 CryptoKaleo 1369057857178632200\n",
      "['ENJ'] 03/08/2021 22:26:11 CryptoKaleo 1369051848519393285\n",
      "['ENJ'] 03/08/2021 21:32:14 CryptoKaleo 1369038274254274569\n",
      "['ENJ'] 03/08/2021 21:31:42 CryptoKaleo 1369038140283949058\n",
      "['ENJ'] 03/08/2021 21:16:35 CryptoKaleo 1369034336742350856\n",
      "['ENJ', 'BTC'] 03/08/2021 20:23:26 CryptoKaleo 1369020959919927302\n",
      "['ENJ'] 03/08/2021 19:14:18 CryptoKaleo 1369003560063668229\n",
      "['ENJ'] 03/08/2021 17:29:47 CryptoKaleo 1368977258753519621\n",
      "['ENJ'] 03/08/2021 17:26:21 CryptoKaleo 1368976396622659585\n",
      "['ENJ', 'BTC'] 03/08/2021 15:12:08 CryptoKaleo 1368942617501786112\n",
      "['ENJ'] 03/08/2021 15:01:39 CryptoKaleo 1368939980794560514\n",
      "['ENJ', 'CHZ'] 03/08/2021 11:54:17 CryptoKaleo 1368892828215050242\n",
      "['ENJ', 'BNT'] 03/08/2021 11:35:19 CryptoKaleo 1368888055751471110\n",
      "['ENJ'] 03/08/2021 07:12:44 CryptoKaleo 1368821974399606785\n",
      "['ENJ', 'CHZ'] 03/08/2021 05:04:28 CryptoKaleo 1368789694687936513\n",
      "['ENJ'] 03/08/2021 03:52:29 CryptoKaleo 1368771579191115776\n",
      "['ENJ'] 03/08/2021 01:57:50 CryptoKaleo 1368742726817230850\n",
      "['ENJ'] 03/08/2021 01:51:32 CryptoKaleo 1368741141890367495\n",
      "['ENJ'] 03/08/2021 01:41:15 CryptoKaleo 1368738550758379527\n",
      "['ENJ'] 03/08/2021 00:31:49 CryptoKaleo 1368721080538513412\n",
      "['ENJ'] 03/08/2021 00:11:54 CryptoKaleo 1368716065723793411\n",
      "['ENJ'] 03/08/2021 00:05:44 CryptoKaleo 1368714514192031744\n",
      "['ENJ', 'BTC'] 03/07/2021 23:45:23 CryptoKaleo 1368709391856320513\n",
      "['ENJ', 'BTC'] 03/07/2021 22:00:30 CryptoKaleo 1368682999009644545\n",
      "['ENJ'] 03/07/2021 20:43:32 CryptoKaleo 1368663630322008068\n",
      "['BNT', 'ENJ'] 03/07/2021 19:52:38 CryptoKaleo 1368650820376494080\n",
      "['ENJ'] 03/07/2021 18:51:00 CryptoKaleo 1368635309622243328\n",
      "['ENJ'] 03/07/2021 17:32:00 CryptoKaleo 1368615426666692608\n",
      "['ENJ'] 03/07/2021 15:17:38 CryptoKaleo 1368581615409106946\n",
      "['ENJ'] 03/07/2021 13:39:36 CryptoKaleo 1368556942352875520\n",
      "['ENJ', 'BTC'] 03/07/2021 11:38:09 CryptoKaleo 1368526379122311169\n",
      "['ENJ'] 03/07/2021 11:28:47 CryptoKaleo 1368524021000704010\n",
      "['ENJ'] 03/07/2021 11:28:07 CryptoKaleo 1368523853346050050\n",
      "['ENJ'] 03/07/2021 02:06:01 CryptoKaleo 1368382397679611906\n",
      "['ENJ', 'BNT', 'QTUM'] 03/07/2021 00:31:53 CryptoKaleo 1368358708070277120\n",
      "['ENJ'] 03/06/2021 21:57:53 CryptoKaleo 1368319952504127490\n",
      "['ENJ'] 03/06/2021 20:35:52 CryptoKaleo 1368299311092686855\n",
      "['ENJ'] 03/06/2021 20:33:15 CryptoKaleo 1368298654629560320\n",
      "['ENJ', 'BNT', 'QTUM'] 03/06/2021 20:30:49 CryptoKaleo 1368298041334173697\n",
      "['ENJ'] 03/06/2021 15:53:53 CryptoKaleo 1368228349655605253\n",
      "['ENJ'] 03/05/2021 18:18:02 CryptoKaleo 1367902238472036354\n",
      "['ENJ', 'BTC'] 03/05/2021 17:57:37 CryptoKaleo 1367897100441296901\n",
      "['ENJ'] 03/05/2021 17:35:25 CryptoKaleo 1367891513057935363\n",
      "['ENJ', 'MATIC'] 03/05/2021 17:31:55 CryptoKaleo 1367890632031821824\n",
      "['ENJ'] 03/05/2021 14:18:35 CryptoKaleo 1367841976918376457\n",
      "['ENJ', 'MATIC'] 03/05/2021 13:51:05 CryptoKaleo 1367835058862718978\n",
      "['ENJ'] 03/05/2021 12:52:33 CryptoKaleo 1367820326189547520\n",
      "['ENJ'] 03/05/2021 02:12:20 CryptoKaleo 1367659212734627844\n",
      "['ENJ'] 03/05/2021 00:45:30 CryptoKaleo 1367637359584550921\n",
      "['ENJ', 'BTC'] 03/05/2021 00:44:56 CryptoKaleo 1367637217569628161\n",
      "['ENJ'] 03/04/2021 22:37:39 CryptoKaleo 1367605185246343168\n",
      "['ENJ', 'MATIC'] 03/04/2021 16:28:46 CryptoKaleo 1367512350295793669\n",
      "['ENJ'] 03/04/2021 13:39:53 CryptoKaleo 1367469850436788241\n",
      "['ENJ'] 03/04/2021 12:22:46 CryptoKaleo 1367450442297470976\n",
      "['ENJ'] 03/04/2021 12:11:49 CryptoKaleo 1367447686836854788\n",
      "['ENJ', 'MATIC'] 03/04/2021 10:43:28 CryptoKaleo 1367425453615706114\n",
      "['ENJ'] 03/04/2021 10:32:07 CryptoKaleo 1367422597688946700\n",
      "['ENJ'] 03/04/2021 09:55:25 CryptoKaleo 1367413362963931138\n",
      "['ENJ'] 03/04/2021 09:47:44 CryptoKaleo 1367411426768388101\n",
      "['ENJ', 'BTC'] 03/04/2021 09:46:44 CryptoKaleo 1367411176292941825\n",
      "['USD', 'ENJ', 'BTC'] 03/03/2021 22:16:25 CryptoKaleo 1367237454596554753\n",
      "['ENJ', 'BTC'] 03/03/2021 22:16:25 CryptoKaleo 1367237452235210754\n",
      "['ENJ'] 03/03/2021 22:09:51 CryptoKaleo 1367235799633326082\n",
      "['ENJ'] 03/03/2021 20:51:56 CryptoKaleo 1367216192465891338\n",
      "['ENJ', 'HNST'] 03/03/2021 19:27:57 CryptoKaleo 1367195057128943617\n",
      "['ENJ'] 03/03/2021 19:18:43 CryptoKaleo 1367192735371972619\n",
      "['ENJ'] 03/03/2021 19:08:34 CryptoKaleo 1367190178255818752\n",
      "['ENJ'] 03/03/2021 18:23:13 CryptoKaleo 1367178766011801603\n",
      "['ENJ'] 03/03/2021 14:38:40 CryptoKaleo 1367122254618836997\n",
      "['ENJ'] 03/03/2021 14:23:28 CryptoKaleo 1367118432030883843\n",
      "['ENJ'] 03/03/2021 13:59:41 CryptoKaleo 1367112445370781697\n",
      "['ENJ'] 03/03/2021 13:51:06 CryptoKaleo 1367110286021455872\n",
      "['ENJ'] 03/03/2021 13:43:35 CryptoKaleo 1367108395778666496\n",
      "['ENJ'] 03/03/2021 13:40:59 CryptoKaleo 1367107740301209600\n",
      "['ENJ'] 03/03/2021 03:59:44 CryptoKaleo 1366961465673007105\n",
      "['ENJ'] 03/03/2021 03:58:08 CryptoKaleo 1366961059068796937\n",
      "['ENJ'] 03/03/2021 03:57:19 CryptoKaleo 1366960854776893440\n",
      "['ENJ'] 03/03/2021 03:52:11 CryptoKaleo 1366959561677144065\n",
      "['USD', 'ENJ', 'BTC'] 03/02/2021 12:57:26 CryptoKaleo 1366734393679745030\n",
      "['ENJ'] 03/02/2021 12:53:10 CryptoKaleo 1366733319463968770\n",
      "['ENJ'] 03/02/2021 08:14:54 CryptoKaleo 1366663289174949888\n",
      "['ENJ'] 03/02/2021 08:08:44 CryptoKaleo 1366661739870363648\n",
      "['ENJ'] 03/02/2021 04:13:36 CryptoKaleo 1366602565606113280\n",
      "['ENJ'] 03/02/2021 00:38:54 CryptoKaleo 1366548535823527938\n",
      "['ENJ'] 03/01/2021 22:41:32 CryptoKaleo 1366518997240467457\n",
      "['ENJ'] 03/01/2021 20:49:56 CryptoKaleo 1366490910977105920\n",
      "['ENJ'] 03/01/2021 18:26:36 CryptoKaleo 1366454841774649344\n",
      "['ENJ'] 03/01/2021 16:49:04 CryptoKaleo 1366430297676533775\n",
      "['ENJ'] 03/01/2021 15:44:09 CryptoKaleo 1366413960686276610\n",
      "['ENJ'] 03/01/2021 15:21:40 CryptoKaleo 1366408301932654592\n",
      "['ENJ'] 03/01/2021 15:09:13 CryptoKaleo 1366405169395748865\n",
      "['ENJ'] 03/01/2021 15:01:50 CryptoKaleo 1366403312157937664\n",
      "['ENJ', 'BTC'] 03/01/2021 14:51:02 CryptoKaleo 1366400593078722561\n",
      "['ENJ'] 03/01/2021 14:49:29 CryptoKaleo 1366400204421890051\n",
      "['ENJ'] 03/01/2021 14:43:21 CryptoKaleo 1366398661257809920\n",
      "['ENJ'] 03/01/2021 13:19:57 CryptoKaleo 1366377671064715268\n",
      "['ENJ'] 03/01/2021 12:31:32 CryptoKaleo 1366365488092176394\n",
      "['ENJ', 'BTC'] 03/01/2021 11:54:33 CryptoKaleo 1366356181300752386\n",
      "['ENJ'] 03/01/2021 11:42:56 CryptoKaleo 1366353254762876929\n",
      "['USD', 'ENJ'] 02/28/2021 19:11:31 CryptoKaleo 1366103756732051459\n",
      "['USD', 'ENJ', 'BTC'] 02/28/2021 19:07:03 CryptoKaleo 1366102635116429313\n",
      "['ENJ'] 02/27/2021 01:13:48 CryptoKaleo 1365470155518713856\n",
      "['ENJ', 'BTC'] 02/27/2021 00:23:04 CryptoKaleo 1365457387843424261\n",
      "['ENJ', 'BTC'] 02/27/2021 00:15:12 CryptoKaleo 1365455404411551747\n",
      "['USD', 'ENJ'] 02/27/2021 00:15:10 CryptoKaleo 1365455399453937664\n",
      "['ENJ', 'XLM', 'UTK', 'MATIC', 'LINK', 'CND'] 03/19/2021 15:10:13 nebraskangooner 1372928403565903875\n",
      "['SNX', 'GRT', 'SUSHI', 'ENJ'] 04/28/2021 14:07:06 Rager 1387408033169412098\n",
      "['ENJ'] 10/12/2020 16:36:13 Rager 1315692762948304896\n",
      "['ENJ', 'XLM', 'SOL', 'ADA', 'DOT', 'DOGE', 'LINK', 'LUNA', 'ALGO'] 04/08/2021 08:48:29 CryptoNewton 1380080094966906881\n",
      "['SXP', 'DOCK', 'OGN', 'CHR', 'UTK', 'UMA', 'CHZ', 'COTI', 'LTO', 'REN', 'MANA', 'AXS', 'ENJ', 'NKN', 'HBAR', 'THETA'] 03/08/2021 17:46:30 CryptoNewton 1368981463891329028\n",
      "['SXP', 'DOCK', 'OGN', 'SOL', 'PNT', 'CHR', 'ARPA', 'SRM', 'CHZ', 'COTI', 'LTO', 'AXS', 'ENJ', 'HBAR', 'CTSI'] 03/08/2021 15:14:18 CryptoNewton 1368943162727792640\n",
      "['OGN', 'UTK', 'COTI', 'MANA', 'STRAX', 'SXP', 'OCEAN', 'DOCK', 'CHZ', 'LTO', 'BLZ', 'TOMO', 'RSR', 'VET', 'ENJ', 'SRM', 'CTK', 'SAND', 'AUDIO'] 03/07/2021 13:41:57 CryptoNewton 1368557535066742806\n",
      "['ENJ', 'ICX', 'EGLD', 'SAND', 'CHZ', 'COTI', 'AXS', 'THETA', 'HBAR', 'ORN'] 03/04/2021 11:53:30 CryptoNewton 1367443078911459331\n",
      "['ENJ', 'CHZ'] 02/01/2021 12:28:08 CryptoNewton 1356217768698384384\n",
      "['ENJ', 'BTC'] 01/09/2021 13:04:22 CryptoNewton 1347891966516867075\n",
      "['ENJ', 'BTC', 'RLC', 'NANO'] 01/08/2021 12:35:49 CryptoNewton 1347522395154898950\n",
      "['ENJ', 'ZEC'] 10/12/2020 12:03:40 CryptoNewton 1315624174602387458\n",
      "['ENJ'] 10/12/2020 12:03:06 CryptoNewton 1315624028728680451\n"
     ]
    }
   ],
   "source": [
    "for doc in docs:\n",
    "    if \"ENJ\" in doc._.tickers:\n",
    "        print(doc._.tickers, doc._.tweeted_at, doc._.username, doc._.tweet_id)"
   ]
  },
  {
   "cell_type": "code",
   "execution_count": 40,
   "metadata": {
    "tags": []
   },
   "outputs": [
    {
     "output_type": "stream",
     "name": "stderr",
     "text": [
      "100%|██████████| 60/60 [01:02<00:00,  1.04s/it]CPU times: user 47.2 s, sys: 1.1 s, total: 48.3 s\n",
      "Wall time: 1min 2s\n",
      "\n"
     ]
    }
   ],
   "source": [
    "%%time\n",
    "# code for multiple graphs over time\n",
    "day_scores = {}\n",
    "start_date, window_count = \"01/01/2021 00:00:00\", 60\n",
    "\n",
    "dates = [from_datetime(to_datetime(start_date)+timedelta(days=i)) for i in range(window_count)]\n",
    "\n",
    "for date in tqdm(dates):\n",
    "    all_mentions = [edge for person in selected_people \n",
    "                    for edge in get_mention_edges(\n",
    "                                      doc_dict[person], person,\n",
    "                                      follow_weight = follow_weight,\n",
    "                                      win_start_date = date)]\n",
    "    neo.clear_nodes(\"Coin\")\n",
    "    neo.load_mentions(all_mentions)\n",
    "    day_scores[date] = neo.pagerank_scores()\n",
    "\n",
    "all_ticks = list(set([tick[0] for day in dates for tick in day_scores[day]]))\n",
    "\n",
    "tick_dict = {tick: np.zeros(window_count) for tick in all_ticks}\n",
    "\n",
    "for ind, day in enumerate(day_scores.keys()):\n",
    "    for score in day_scores[day]:\n",
    "        tick_dict[score[0]][ind] = score[1]\n",
    "\n",
    "pdrank = pd.DataFrame(tick_dict, index = pd.to_datetime(dates))\n"
   ]
  },
  {
   "cell_type": "code",
   "execution_count": null,
   "metadata": {},
   "outputs": [],
   "source": [
    "def to_bin_date(d):\n",
    "    return "
   ]
  },
  {
   "cell_type": "code",
   "execution_count": 68,
   "metadata": {},
   "outputs": [
    {
     "output_type": "stream",
     "name": "stdout",
     "text": [
      "CPU times: user 22.7 ms, sys: 46.2 ms, total: 68.9 ms\nWall time: 1.49 s\n"
     ]
    }
   ],
   "source": [
    "%%time\n",
    "ticker = \"ENJ\"\n",
    "if ticker == \"BTC\":\n",
    "    asset = ticker+\"USDT\"\n",
    "else:\n",
    "    asset = ticker+\"BTC\"\n",
    "\n",
    "interval = '2h'\n",
    "newest, oldest = pdrank[ticker].index[-1].to_pydatetime().timestamp() * 1000, pdrank[ticker].index[0].to_pydatetime().timestamp() * 1000, \n",
    "klines = crypto.get_klines(asset, time, oldest, newest)\n",
    "df = crypto.get_klines_df(klines)"
   ]
  },
  {
   "cell_type": "code",
   "execution_count": 75,
   "metadata": {},
   "outputs": [
    {
     "output_type": "execute_result",
     "data": {
      "text/plain": [
       "Text(0.5, 1.0, 'ENJBTC')"
      ]
     },
     "metadata": {},
     "execution_count": 75
    },
    {
     "output_type": "display_data",
     "data": {
      "text/plain": "<Figure size 720x360 with 2 Axes>",
      "image/svg+xml": "<?xml version=\"1.0\" encoding=\"utf-8\" standalone=\"no\"?>\n<!DOCTYPE svg PUBLIC \"-//W3C//DTD SVG 1.1//EN\"\n  \"http://www.w3.org/Graphics/SVG/1.1/DTD/svg11.dtd\">\n<svg height=\"317.99625pt\" version=\"1.1\" viewBox=\"0 0 618.20625 317.99625\" width=\"618.20625pt\" xmlns=\"http://www.w3.org/2000/svg\" xmlns:xlink=\"http://www.w3.org/1999/xlink\">\n <metadata>\n  <rdf:RDF xmlns:cc=\"http://creativecommons.org/ns#\" xmlns:dc=\"http://purl.org/dc/elements/1.1/\" xmlns:rdf=\"http://www.w3.org/1999/02/22-rdf-syntax-ns#\">\n   <cc:Work>\n    <dc:type rdf:resource=\"http://purl.org/dc/dcmitype/StillImage\"/>\n    <dc:date>2021-05-03T20:13:52.622489</dc:date>\n    <dc:format>image/svg+xml</dc:format>\n    <dc:creator>\n     <cc:Agent>\n      <dc:title>Matplotlib v3.4.1, https://matplotlib.org/</dc:title>\n     </cc:Agent>\n    </dc:creator>\n   </cc:Work>\n  </rdf:RDF>\n </metadata>\n <defs>\n  <style type=\"text/css\">*{stroke-linecap:butt;stroke-linejoin:round;}</style>\n </defs>\n <g id=\"figure_1\">\n  <g id=\"patch_1\">\n   <path d=\"M -0 317.99625 \nL 618.20625 317.99625 \nL 618.20625 0 \nL -0 0 \nz\n\" style=\"fill:none;\"/>\n  </g>\n  <g id=\"axes_1\">\n   <g id=\"patch_2\">\n    <path d=\"M 30.103125 294.118125 \nL 588.103125 294.118125 \nL 588.103125 22.318125 \nL 30.103125 22.318125 \nz\n\" style=\"fill:#ffffff;\"/>\n   </g>\n   <g id=\"matplotlib.axis_1\">\n    <g id=\"xtick_1\">\n     <g id=\"line2d_1\">\n      <defs>\n       <path d=\"M 0 0 \nL 0 3.5 \n\" id=\"m2d927114c4\" style=\"stroke:#000000;stroke-width:0.8;\"/>\n      </defs>\n      <g>\n       <use style=\"stroke:#000000;stroke-width:0.8;\" x=\"55.466761\" xlink:href=\"#m2d927114c4\" y=\"294.118125\"/>\n      </g>\n     </g>\n     <g id=\"text_1\">\n      <!-- 2021-01-01 -->\n      <g transform=\"translate(26.408949 308.716563)scale(0.1 -0.1)\">\n       <defs>\n        <path d=\"M 1228 531 \nL 3431 531 \nL 3431 0 \nL 469 0 \nL 469 531 \nQ 828 903 1448 1529 \nQ 2069 2156 2228 2338 \nQ 2531 2678 2651 2914 \nQ 2772 3150 2772 3378 \nQ 2772 3750 2511 3984 \nQ 2250 4219 1831 4219 \nQ 1534 4219 1204 4116 \nQ 875 4013 500 3803 \nL 500 4441 \nQ 881 4594 1212 4672 \nQ 1544 4750 1819 4750 \nQ 2544 4750 2975 4387 \nQ 3406 4025 3406 3419 \nQ 3406 3131 3298 2873 \nQ 3191 2616 2906 2266 \nQ 2828 2175 2409 1742 \nQ 1991 1309 1228 531 \nz\n\" id=\"DejaVuSans-32\" transform=\"scale(0.015625)\"/>\n        <path d=\"M 2034 4250 \nQ 1547 4250 1301 3770 \nQ 1056 3291 1056 2328 \nQ 1056 1369 1301 889 \nQ 1547 409 2034 409 \nQ 2525 409 2770 889 \nQ 3016 1369 3016 2328 \nQ 3016 3291 2770 3770 \nQ 2525 4250 2034 4250 \nz\nM 2034 4750 \nQ 2819 4750 3233 4129 \nQ 3647 3509 3647 2328 \nQ 3647 1150 3233 529 \nQ 2819 -91 2034 -91 \nQ 1250 -91 836 529 \nQ 422 1150 422 2328 \nQ 422 3509 836 4129 \nQ 1250 4750 2034 4750 \nz\n\" id=\"DejaVuSans-30\" transform=\"scale(0.015625)\"/>\n        <path d=\"M 794 531 \nL 1825 531 \nL 1825 4091 \nL 703 3866 \nL 703 4441 \nL 1819 4666 \nL 2450 4666 \nL 2450 531 \nL 3481 531 \nL 3481 0 \nL 794 0 \nL 794 531 \nz\n\" id=\"DejaVuSans-31\" transform=\"scale(0.015625)\"/>\n        <path d=\"M 313 2009 \nL 1997 2009 \nL 1997 1497 \nL 313 1497 \nL 313 2009 \nz\n\" id=\"DejaVuSans-2d\" transform=\"scale(0.015625)\"/>\n       </defs>\n       <use xlink:href=\"#DejaVuSans-32\"/>\n       <use x=\"63.623047\" xlink:href=\"#DejaVuSans-30\"/>\n       <use x=\"127.246094\" xlink:href=\"#DejaVuSans-32\"/>\n       <use x=\"190.869141\" xlink:href=\"#DejaVuSans-31\"/>\n       <use x=\"254.492188\" xlink:href=\"#DejaVuSans-2d\"/>\n       <use x=\"290.576172\" xlink:href=\"#DejaVuSans-30\"/>\n       <use x=\"354.199219\" xlink:href=\"#DejaVuSans-31\"/>\n       <use x=\"417.822266\" xlink:href=\"#DejaVuSans-2d\"/>\n       <use x=\"453.90625\" xlink:href=\"#DejaVuSans-30\"/>\n       <use x=\"517.529297\" xlink:href=\"#DejaVuSans-31\"/>\n      </g>\n     </g>\n    </g>\n    <g id=\"xtick_2\">\n     <g id=\"line2d_2\">\n      <g>\n       <use style=\"stroke:#000000;stroke-width:0.8;\" x=\"115.651661\" xlink:href=\"#m2d927114c4\" y=\"294.118125\"/>\n      </g>\n     </g>\n     <g id=\"text_2\">\n      <!-- 2021-01-08 -->\n      <g transform=\"translate(86.593849 308.716563)scale(0.1 -0.1)\">\n       <defs>\n        <path d=\"M 2034 2216 \nQ 1584 2216 1326 1975 \nQ 1069 1734 1069 1313 \nQ 1069 891 1326 650 \nQ 1584 409 2034 409 \nQ 2484 409 2743 651 \nQ 3003 894 3003 1313 \nQ 3003 1734 2745 1975 \nQ 2488 2216 2034 2216 \nz\nM 1403 2484 \nQ 997 2584 770 2862 \nQ 544 3141 544 3541 \nQ 544 4100 942 4425 \nQ 1341 4750 2034 4750 \nQ 2731 4750 3128 4425 \nQ 3525 4100 3525 3541 \nQ 3525 3141 3298 2862 \nQ 3072 2584 2669 2484 \nQ 3125 2378 3379 2068 \nQ 3634 1759 3634 1313 \nQ 3634 634 3220 271 \nQ 2806 -91 2034 -91 \nQ 1263 -91 848 271 \nQ 434 634 434 1313 \nQ 434 1759 690 2068 \nQ 947 2378 1403 2484 \nz\nM 1172 3481 \nQ 1172 3119 1398 2916 \nQ 1625 2713 2034 2713 \nQ 2441 2713 2670 2916 \nQ 2900 3119 2900 3481 \nQ 2900 3844 2670 4047 \nQ 2441 4250 2034 4250 \nQ 1625 4250 1398 4047 \nQ 1172 3844 1172 3481 \nz\n\" id=\"DejaVuSans-38\" transform=\"scale(0.015625)\"/>\n       </defs>\n       <use xlink:href=\"#DejaVuSans-32\"/>\n       <use x=\"63.623047\" xlink:href=\"#DejaVuSans-30\"/>\n       <use x=\"127.246094\" xlink:href=\"#DejaVuSans-32\"/>\n       <use x=\"190.869141\" xlink:href=\"#DejaVuSans-31\"/>\n       <use x=\"254.492188\" xlink:href=\"#DejaVuSans-2d\"/>\n       <use x=\"290.576172\" xlink:href=\"#DejaVuSans-30\"/>\n       <use x=\"354.199219\" xlink:href=\"#DejaVuSans-31\"/>\n       <use x=\"417.822266\" xlink:href=\"#DejaVuSans-2d\"/>\n       <use x=\"453.90625\" xlink:href=\"#DejaVuSans-30\"/>\n       <use x=\"517.529297\" xlink:href=\"#DejaVuSans-38\"/>\n      </g>\n     </g>\n    </g>\n    <g id=\"xtick_3\">\n     <g id=\"line2d_3\">\n      <g>\n       <use style=\"stroke:#000000;stroke-width:0.8;\" x=\"175.836561\" xlink:href=\"#m2d927114c4\" y=\"294.118125\"/>\n      </g>\n     </g>\n     <g id=\"text_3\">\n      <!-- 2021-01-15 -->\n      <g transform=\"translate(146.778749 308.716563)scale(0.1 -0.1)\">\n       <defs>\n        <path d=\"M 691 4666 \nL 3169 4666 \nL 3169 4134 \nL 1269 4134 \nL 1269 2991 \nQ 1406 3038 1543 3061 \nQ 1681 3084 1819 3084 \nQ 2600 3084 3056 2656 \nQ 3513 2228 3513 1497 \nQ 3513 744 3044 326 \nQ 2575 -91 1722 -91 \nQ 1428 -91 1123 -41 \nQ 819 9 494 109 \nL 494 744 \nQ 775 591 1075 516 \nQ 1375 441 1709 441 \nQ 2250 441 2565 725 \nQ 2881 1009 2881 1497 \nQ 2881 1984 2565 2268 \nQ 2250 2553 1709 2553 \nQ 1456 2553 1204 2497 \nQ 953 2441 691 2322 \nL 691 4666 \nz\n\" id=\"DejaVuSans-35\" transform=\"scale(0.015625)\"/>\n       </defs>\n       <use xlink:href=\"#DejaVuSans-32\"/>\n       <use x=\"63.623047\" xlink:href=\"#DejaVuSans-30\"/>\n       <use x=\"127.246094\" xlink:href=\"#DejaVuSans-32\"/>\n       <use x=\"190.869141\" xlink:href=\"#DejaVuSans-31\"/>\n       <use x=\"254.492188\" xlink:href=\"#DejaVuSans-2d\"/>\n       <use x=\"290.576172\" xlink:href=\"#DejaVuSans-30\"/>\n       <use x=\"354.199219\" xlink:href=\"#DejaVuSans-31\"/>\n       <use x=\"417.822266\" xlink:href=\"#DejaVuSans-2d\"/>\n       <use x=\"453.90625\" xlink:href=\"#DejaVuSans-31\"/>\n       <use x=\"517.529297\" xlink:href=\"#DejaVuSans-35\"/>\n      </g>\n     </g>\n    </g>\n    <g id=\"xtick_4\">\n     <g id=\"line2d_4\">\n      <g>\n       <use style=\"stroke:#000000;stroke-width:0.8;\" x=\"236.021461\" xlink:href=\"#m2d927114c4\" y=\"294.118125\"/>\n      </g>\n     </g>\n     <g id=\"text_4\">\n      <!-- 2021-01-22 -->\n      <g transform=\"translate(206.963648 308.716563)scale(0.1 -0.1)\">\n       <use xlink:href=\"#DejaVuSans-32\"/>\n       <use x=\"63.623047\" xlink:href=\"#DejaVuSans-30\"/>\n       <use x=\"127.246094\" xlink:href=\"#DejaVuSans-32\"/>\n       <use x=\"190.869141\" xlink:href=\"#DejaVuSans-31\"/>\n       <use x=\"254.492188\" xlink:href=\"#DejaVuSans-2d\"/>\n       <use x=\"290.576172\" xlink:href=\"#DejaVuSans-30\"/>\n       <use x=\"354.199219\" xlink:href=\"#DejaVuSans-31\"/>\n       <use x=\"417.822266\" xlink:href=\"#DejaVuSans-2d\"/>\n       <use x=\"453.90625\" xlink:href=\"#DejaVuSans-32\"/>\n       <use x=\"517.529297\" xlink:href=\"#DejaVuSans-32\"/>\n      </g>\n     </g>\n    </g>\n    <g id=\"xtick_5\">\n     <g id=\"line2d_5\">\n      <g>\n       <use style=\"stroke:#000000;stroke-width:0.8;\" x=\"321.999889\" xlink:href=\"#m2d927114c4\" y=\"294.118125\"/>\n      </g>\n     </g>\n     <g id=\"text_5\">\n      <!-- 2021-02-01 -->\n      <g transform=\"translate(292.942077 308.716563)scale(0.1 -0.1)\">\n       <use xlink:href=\"#DejaVuSans-32\"/>\n       <use x=\"63.623047\" xlink:href=\"#DejaVuSans-30\"/>\n       <use x=\"127.246094\" xlink:href=\"#DejaVuSans-32\"/>\n       <use x=\"190.869141\" xlink:href=\"#DejaVuSans-31\"/>\n       <use x=\"254.492188\" xlink:href=\"#DejaVuSans-2d\"/>\n       <use x=\"290.576172\" xlink:href=\"#DejaVuSans-30\"/>\n       <use x=\"354.199219\" xlink:href=\"#DejaVuSans-32\"/>\n       <use x=\"417.822266\" xlink:href=\"#DejaVuSans-2d\"/>\n       <use x=\"453.90625\" xlink:href=\"#DejaVuSans-30\"/>\n       <use x=\"517.529297\" xlink:href=\"#DejaVuSans-31\"/>\n      </g>\n     </g>\n    </g>\n    <g id=\"xtick_6\">\n     <g id=\"line2d_6\">\n      <g>\n       <use style=\"stroke:#000000;stroke-width:0.8;\" x=\"382.184789\" xlink:href=\"#m2d927114c4\" y=\"294.118125\"/>\n      </g>\n     </g>\n     <g id=\"text_6\">\n      <!-- 2021-02-08 -->\n      <g transform=\"translate(353.126977 308.716563)scale(0.1 -0.1)\">\n       <use xlink:href=\"#DejaVuSans-32\"/>\n       <use x=\"63.623047\" xlink:href=\"#DejaVuSans-30\"/>\n       <use x=\"127.246094\" xlink:href=\"#DejaVuSans-32\"/>\n       <use x=\"190.869141\" xlink:href=\"#DejaVuSans-31\"/>\n       <use x=\"254.492188\" xlink:href=\"#DejaVuSans-2d\"/>\n       <use x=\"290.576172\" xlink:href=\"#DejaVuSans-30\"/>\n       <use x=\"354.199219\" xlink:href=\"#DejaVuSans-32\"/>\n       <use x=\"417.822266\" xlink:href=\"#DejaVuSans-2d\"/>\n       <use x=\"453.90625\" xlink:href=\"#DejaVuSans-30\"/>\n       <use x=\"517.529297\" xlink:href=\"#DejaVuSans-38\"/>\n      </g>\n     </g>\n    </g>\n    <g id=\"xtick_7\">\n     <g id=\"line2d_7\">\n      <g>\n       <use style=\"stroke:#000000;stroke-width:0.8;\" x=\"442.369689\" xlink:href=\"#m2d927114c4\" y=\"294.118125\"/>\n      </g>\n     </g>\n     <g id=\"text_7\">\n      <!-- 2021-02-15 -->\n      <g transform=\"translate(413.311876 308.716563)scale(0.1 -0.1)\">\n       <use xlink:href=\"#DejaVuSans-32\"/>\n       <use x=\"63.623047\" xlink:href=\"#DejaVuSans-30\"/>\n       <use x=\"127.246094\" xlink:href=\"#DejaVuSans-32\"/>\n       <use x=\"190.869141\" xlink:href=\"#DejaVuSans-31\"/>\n       <use x=\"254.492188\" xlink:href=\"#DejaVuSans-2d\"/>\n       <use x=\"290.576172\" xlink:href=\"#DejaVuSans-30\"/>\n       <use x=\"354.199219\" xlink:href=\"#DejaVuSans-32\"/>\n       <use x=\"417.822266\" xlink:href=\"#DejaVuSans-2d\"/>\n       <use x=\"453.90625\" xlink:href=\"#DejaVuSans-31\"/>\n       <use x=\"517.529297\" xlink:href=\"#DejaVuSans-35\"/>\n      </g>\n     </g>\n    </g>\n    <g id=\"xtick_8\">\n     <g id=\"line2d_8\">\n      <g>\n       <use style=\"stroke:#000000;stroke-width:0.8;\" x=\"502.554589\" xlink:href=\"#m2d927114c4\" y=\"294.118125\"/>\n      </g>\n     </g>\n     <g id=\"text_8\">\n      <!-- 2021-02-22 -->\n      <g transform=\"translate(473.496776 308.716563)scale(0.1 -0.1)\">\n       <use xlink:href=\"#DejaVuSans-32\"/>\n       <use x=\"63.623047\" xlink:href=\"#DejaVuSans-30\"/>\n       <use x=\"127.246094\" xlink:href=\"#DejaVuSans-32\"/>\n       <use x=\"190.869141\" xlink:href=\"#DejaVuSans-31\"/>\n       <use x=\"254.492188\" xlink:href=\"#DejaVuSans-2d\"/>\n       <use x=\"290.576172\" xlink:href=\"#DejaVuSans-30\"/>\n       <use x=\"354.199219\" xlink:href=\"#DejaVuSans-32\"/>\n       <use x=\"417.822266\" xlink:href=\"#DejaVuSans-2d\"/>\n       <use x=\"453.90625\" xlink:href=\"#DejaVuSans-32\"/>\n       <use x=\"517.529297\" xlink:href=\"#DejaVuSans-32\"/>\n      </g>\n     </g>\n    </g>\n    <g id=\"xtick_9\">\n     <g id=\"line2d_9\">\n      <g>\n       <use style=\"stroke:#000000;stroke-width:0.8;\" x=\"562.739489\" xlink:href=\"#m2d927114c4\" y=\"294.118125\"/>\n      </g>\n     </g>\n     <g id=\"text_9\">\n      <!-- 2021-03-01 -->\n      <g transform=\"translate(533.681676 308.716563)scale(0.1 -0.1)\">\n       <defs>\n        <path d=\"M 2597 2516 \nQ 3050 2419 3304 2112 \nQ 3559 1806 3559 1356 \nQ 3559 666 3084 287 \nQ 2609 -91 1734 -91 \nQ 1441 -91 1130 -33 \nQ 819 25 488 141 \nL 488 750 \nQ 750 597 1062 519 \nQ 1375 441 1716 441 \nQ 2309 441 2620 675 \nQ 2931 909 2931 1356 \nQ 2931 1769 2642 2001 \nQ 2353 2234 1838 2234 \nL 1294 2234 \nL 1294 2753 \nL 1863 2753 \nQ 2328 2753 2575 2939 \nQ 2822 3125 2822 3475 \nQ 2822 3834 2567 4026 \nQ 2313 4219 1838 4219 \nQ 1578 4219 1281 4162 \nQ 984 4106 628 3988 \nL 628 4550 \nQ 988 4650 1302 4700 \nQ 1616 4750 1894 4750 \nQ 2613 4750 3031 4423 \nQ 3450 4097 3450 3541 \nQ 3450 3153 3228 2886 \nQ 3006 2619 2597 2516 \nz\n\" id=\"DejaVuSans-33\" transform=\"scale(0.015625)\"/>\n       </defs>\n       <use xlink:href=\"#DejaVuSans-32\"/>\n       <use x=\"63.623047\" xlink:href=\"#DejaVuSans-30\"/>\n       <use x=\"127.246094\" xlink:href=\"#DejaVuSans-32\"/>\n       <use x=\"190.869141\" xlink:href=\"#DejaVuSans-31\"/>\n       <use x=\"254.492188\" xlink:href=\"#DejaVuSans-2d\"/>\n       <use x=\"290.576172\" xlink:href=\"#DejaVuSans-30\"/>\n       <use x=\"354.199219\" xlink:href=\"#DejaVuSans-33\"/>\n       <use x=\"417.822266\" xlink:href=\"#DejaVuSans-2d\"/>\n       <use x=\"453.90625\" xlink:href=\"#DejaVuSans-30\"/>\n       <use x=\"517.529297\" xlink:href=\"#DejaVuSans-31\"/>\n      </g>\n     </g>\n    </g>\n   </g>\n   <g id=\"matplotlib.axis_2\">\n    <g id=\"ytick_1\">\n     <g id=\"line2d_10\">\n      <defs>\n       <path d=\"M 0 0 \nL -3.5 0 \n\" id=\"md547ff1b11\" style=\"stroke:#000000;stroke-width:0.8;\"/>\n      </defs>\n      <g>\n       <use style=\"stroke:#000000;stroke-width:0.8;\" x=\"30.103125\" xlink:href=\"#md547ff1b11\" y=\"281.76358\"/>\n      </g>\n     </g>\n     <g id=\"text_10\">\n      <!-- 0.0 -->\n      <g transform=\"translate(7.2 285.562798)scale(0.1 -0.1)\">\n       <defs>\n        <path d=\"M 684 794 \nL 1344 794 \nL 1344 0 \nL 684 0 \nL 684 794 \nz\n\" id=\"DejaVuSans-2e\" transform=\"scale(0.015625)\"/>\n       </defs>\n       <use xlink:href=\"#DejaVuSans-30\"/>\n       <use x=\"63.623047\" xlink:href=\"#DejaVuSans-2e\"/>\n       <use x=\"95.410156\" xlink:href=\"#DejaVuSans-30\"/>\n      </g>\n     </g>\n    </g>\n    <g id=\"ytick_2\">\n     <g id=\"line2d_11\">\n      <g>\n       <use style=\"stroke:#000000;stroke-width:0.8;\" x=\"30.103125\" xlink:href=\"#md547ff1b11\" y=\"227.23999\"/>\n      </g>\n     </g>\n     <g id=\"text_11\">\n      <!-- 0.1 -->\n      <g transform=\"translate(7.2 231.039208)scale(0.1 -0.1)\">\n       <use xlink:href=\"#DejaVuSans-30\"/>\n       <use x=\"63.623047\" xlink:href=\"#DejaVuSans-2e\"/>\n       <use x=\"95.410156\" xlink:href=\"#DejaVuSans-31\"/>\n      </g>\n     </g>\n    </g>\n    <g id=\"ytick_3\">\n     <g id=\"line2d_12\">\n      <g>\n       <use style=\"stroke:#000000;stroke-width:0.8;\" x=\"30.103125\" xlink:href=\"#md547ff1b11\" y=\"172.7164\"/>\n      </g>\n     </g>\n     <g id=\"text_12\">\n      <!-- 0.2 -->\n      <g transform=\"translate(7.2 176.515618)scale(0.1 -0.1)\">\n       <use xlink:href=\"#DejaVuSans-30\"/>\n       <use x=\"63.623047\" xlink:href=\"#DejaVuSans-2e\"/>\n       <use x=\"95.410156\" xlink:href=\"#DejaVuSans-32\"/>\n      </g>\n     </g>\n    </g>\n    <g id=\"ytick_4\">\n     <g id=\"line2d_13\">\n      <g>\n       <use style=\"stroke:#000000;stroke-width:0.8;\" x=\"30.103125\" xlink:href=\"#md547ff1b11\" y=\"118.19281\"/>\n      </g>\n     </g>\n     <g id=\"text_13\">\n      <!-- 0.3 -->\n      <g transform=\"translate(7.2 121.992028)scale(0.1 -0.1)\">\n       <use xlink:href=\"#DejaVuSans-30\"/>\n       <use x=\"63.623047\" xlink:href=\"#DejaVuSans-2e\"/>\n       <use x=\"95.410156\" xlink:href=\"#DejaVuSans-33\"/>\n      </g>\n     </g>\n    </g>\n    <g id=\"ytick_5\">\n     <g id=\"line2d_14\">\n      <g>\n       <use style=\"stroke:#000000;stroke-width:0.8;\" x=\"30.103125\" xlink:href=\"#md547ff1b11\" y=\"63.66922\"/>\n      </g>\n     </g>\n     <g id=\"text_14\">\n      <!-- 0.4 -->\n      <g transform=\"translate(7.2 67.468438)scale(0.1 -0.1)\">\n       <defs>\n        <path d=\"M 2419 4116 \nL 825 1625 \nL 2419 1625 \nL 2419 4116 \nz\nM 2253 4666 \nL 3047 4666 \nL 3047 1625 \nL 3713 1625 \nL 3713 1100 \nL 3047 1100 \nL 3047 0 \nL 2419 0 \nL 2419 1100 \nL 313 1100 \nL 313 1709 \nL 2253 4666 \nz\n\" id=\"DejaVuSans-34\" transform=\"scale(0.015625)\"/>\n       </defs>\n       <use xlink:href=\"#DejaVuSans-30\"/>\n       <use x=\"63.623047\" xlink:href=\"#DejaVuSans-2e\"/>\n       <use x=\"95.410156\" xlink:href=\"#DejaVuSans-34\"/>\n      </g>\n     </g>\n    </g>\n   </g>\n   <g id=\"line2d_15\">\n    <path clip-path=\"url(#p0ba9925ec7)\" d=\"M 55.466761 281.76358 \nL 64.064604 281.76358 \nL 72.662447 193.728446 \nL 81.26029 194.810403 \nL 89.858133 195.012161 \nL 98.455976 167.066513 \nL 107.053818 162.656765 \nL 115.651661 168.20133 \nL 124.249504 151.150744 \nL 132.847347 141.128944 \nL 141.44519 140.867323 \nL 150.043033 143.179929 \nL 158.640875 145.747127 \nL 167.238718 151.11034 \nL 175.836561 151.154272 \nL 184.434404 152.489116 \nL 193.032247 156.334976 \nL 201.63009 140.822852 \nL 210.227932 139.584539 \nL 218.825775 137.098553 \nL 227.423618 134.055948 \nL 236.021461 126.519872 \nL 244.619304 128.200356 \nL 253.217147 128.786153 \nL 261.814989 129.483874 \nL 270.412832 127.637422 \nL 279.010675 128.941866 \nL 287.608518 123.886639 \nL 296.206361 118.169973 \nL 304.804204 109.058304 \nL 313.402046 113.937431 \nL 321.999889 121.805037 \nL 330.597732 113.046673 \nL 339.195575 112.635713 \nL 347.793418 114.770684 \nL 356.391261 120.358317 \nL 364.989103 125.770463 \nL 373.586946 129.191484 \nL 382.184789 128.247629 \nL 390.782632 131.648167 \nL 399.380475 135.911189 \nL 407.978318 141.548317 \nL 416.57616 139.761749 \nL 425.174003 142.909355 \nL 433.771846 146.734296 \nL 442.369689 141.943581 \nL 450.967532 140.932599 \nL 459.565375 142.912581 \nL 468.163217 138.101068 \nL 476.76106 142.728548 \nL 485.358903 147.229764 \nL 493.956746 150.503088 \nL 502.554589 153.987392 \nL 511.152432 103.537363 \nL 519.750274 85.274972 \nL 528.348117 83.793354 \nL 536.94596 83.250356 \nL 545.543803 86.208851 \nL 554.141646 46.716146 \nL 562.739489 34.67267 \n\" style=\"fill:none;stroke:#1f77b4;stroke-linecap:square;stroke-width:1.5;\"/>\n   </g>\n   <g id=\"line2d_16\">\n    <path clip-path=\"url(#p0ba9925ec7)\" d=\"M 55.825005 281.761088 \nL 562.381245 281.756797 \nL 562.381245 281.756797 \n\" style=\"fill:none;stroke:#ff7f0e;stroke-linecap:square;stroke-width:1.5;\"/>\n   </g>\n   <g id=\"patch_3\">\n    <path d=\"M 30.103125 294.118125 \nL 30.103125 22.318125 \n\" style=\"fill:none;stroke:#000000;stroke-linecap:square;stroke-linejoin:miter;stroke-width:0.8;\"/>\n   </g>\n   <g id=\"patch_4\">\n    <path d=\"M 588.103125 294.118125 \nL 588.103125 22.318125 \n\" style=\"fill:none;stroke:#000000;stroke-linecap:square;stroke-linejoin:miter;stroke-width:0.8;\"/>\n   </g>\n   <g id=\"patch_5\">\n    <path d=\"M 30.103125 294.118125 \nL 588.103125 294.118125 \n\" style=\"fill:none;stroke:#000000;stroke-linecap:square;stroke-linejoin:miter;stroke-width:0.8;\"/>\n   </g>\n   <g id=\"patch_6\">\n    <path d=\"M 30.103125 22.318125 \nL 588.103125 22.318125 \n\" style=\"fill:none;stroke:#000000;stroke-linecap:square;stroke-linejoin:miter;stroke-width:0.8;\"/>\n   </g>\n  </g>\n  <g id=\"axes_2\">\n   <g id=\"matplotlib.axis_3\">\n    <g id=\"ytick_6\">\n     <g id=\"line2d_17\">\n      <defs>\n       <path d=\"M 0 0 \nL 3.5 0 \n\" id=\"m0a6ce355fc\" style=\"stroke:#000000;stroke-width:0.8;\"/>\n      </defs>\n      <g>\n       <use style=\"stroke:#000000;stroke-width:0.8;\" x=\"588.103125\" xlink:href=\"#m0a6ce355fc\" y=\"276.122235\"/>\n      </g>\n     </g>\n     <g id=\"text_15\">\n      <!-- 0.4 -->\n      <g transform=\"translate(595.103125 279.921453)scale(0.1 -0.1)\">\n       <use xlink:href=\"#DejaVuSans-30\"/>\n       <use x=\"63.623047\" xlink:href=\"#DejaVuSans-2e\"/>\n       <use x=\"95.410156\" xlink:href=\"#DejaVuSans-34\"/>\n      </g>\n     </g>\n    </g>\n    <g id=\"ytick_7\">\n     <g id=\"line2d_18\">\n      <g>\n       <use style=\"stroke:#000000;stroke-width:0.8;\" x=\"588.103125\" xlink:href=\"#m0a6ce355fc\" y=\"230.991475\"/>\n      </g>\n     </g>\n     <g id=\"text_16\">\n      <!-- 0.6 -->\n      <g transform=\"translate(595.103125 234.790694)scale(0.1 -0.1)\">\n       <defs>\n        <path d=\"M 2113 2584 \nQ 1688 2584 1439 2293 \nQ 1191 2003 1191 1497 \nQ 1191 994 1439 701 \nQ 1688 409 2113 409 \nQ 2538 409 2786 701 \nQ 3034 994 3034 1497 \nQ 3034 2003 2786 2293 \nQ 2538 2584 2113 2584 \nz\nM 3366 4563 \nL 3366 3988 \nQ 3128 4100 2886 4159 \nQ 2644 4219 2406 4219 \nQ 1781 4219 1451 3797 \nQ 1122 3375 1075 2522 \nQ 1259 2794 1537 2939 \nQ 1816 3084 2150 3084 \nQ 2853 3084 3261 2657 \nQ 3669 2231 3669 1497 \nQ 3669 778 3244 343 \nQ 2819 -91 2113 -91 \nQ 1303 -91 875 529 \nQ 447 1150 447 2328 \nQ 447 3434 972 4092 \nQ 1497 4750 2381 4750 \nQ 2619 4750 2861 4703 \nQ 3103 4656 3366 4563 \nz\n\" id=\"DejaVuSans-36\" transform=\"scale(0.015625)\"/>\n       </defs>\n       <use xlink:href=\"#DejaVuSans-30\"/>\n       <use x=\"63.623047\" xlink:href=\"#DejaVuSans-2e\"/>\n       <use x=\"95.410156\" xlink:href=\"#DejaVuSans-36\"/>\n      </g>\n     </g>\n    </g>\n    <g id=\"ytick_8\">\n     <g id=\"line2d_19\">\n      <g>\n       <use style=\"stroke:#000000;stroke-width:0.8;\" x=\"588.103125\" xlink:href=\"#m0a6ce355fc\" y=\"185.860715\"/>\n      </g>\n     </g>\n     <g id=\"text_17\">\n      <!-- 0.8 -->\n      <g transform=\"translate(595.103125 189.659934)scale(0.1 -0.1)\">\n       <use xlink:href=\"#DejaVuSans-30\"/>\n       <use x=\"63.623047\" xlink:href=\"#DejaVuSans-2e\"/>\n       <use x=\"95.410156\" xlink:href=\"#DejaVuSans-38\"/>\n      </g>\n     </g>\n    </g>\n    <g id=\"ytick_9\">\n     <g id=\"line2d_20\">\n      <g>\n       <use style=\"stroke:#000000;stroke-width:0.8;\" x=\"588.103125\" xlink:href=\"#m0a6ce355fc\" y=\"140.729956\"/>\n      </g>\n     </g>\n     <g id=\"text_18\">\n      <!-- 1.0 -->\n      <g transform=\"translate(595.103125 144.529174)scale(0.1 -0.1)\">\n       <use xlink:href=\"#DejaVuSans-31\"/>\n       <use x=\"63.623047\" xlink:href=\"#DejaVuSans-2e\"/>\n       <use x=\"95.410156\" xlink:href=\"#DejaVuSans-30\"/>\n      </g>\n     </g>\n    </g>\n    <g id=\"ytick_10\">\n     <g id=\"line2d_21\">\n      <g>\n       <use style=\"stroke:#000000;stroke-width:0.8;\" x=\"588.103125\" xlink:href=\"#m0a6ce355fc\" y=\"95.599196\"/>\n      </g>\n     </g>\n     <g id=\"text_19\">\n      <!-- 1.2 -->\n      <g transform=\"translate(595.103125 99.398415)scale(0.1 -0.1)\">\n       <use xlink:href=\"#DejaVuSans-31\"/>\n       <use x=\"63.623047\" xlink:href=\"#DejaVuSans-2e\"/>\n       <use x=\"95.410156\" xlink:href=\"#DejaVuSans-32\"/>\n      </g>\n     </g>\n    </g>\n    <g id=\"ytick_11\">\n     <g id=\"line2d_22\">\n      <g>\n       <use style=\"stroke:#000000;stroke-width:0.8;\" x=\"588.103125\" xlink:href=\"#m0a6ce355fc\" y=\"50.468436\"/>\n      </g>\n     </g>\n     <g id=\"text_20\">\n      <!-- 1.4 -->\n      <g transform=\"translate(595.103125 54.267655)scale(0.1 -0.1)\">\n       <use xlink:href=\"#DejaVuSans-31\"/>\n       <use x=\"63.623047\" xlink:href=\"#DejaVuSans-2e\"/>\n       <use x=\"95.410156\" xlink:href=\"#DejaVuSans-34\"/>\n      </g>\n     </g>\n    </g>\n    <g id=\"text_21\">\n     <!-- 1e−5 -->\n     <g transform=\"translate(560.845312 19.318125)scale(0.1 -0.1)\">\n      <defs>\n       <path d=\"M 3597 1894 \nL 3597 1613 \nL 953 1613 \nQ 991 1019 1311 708 \nQ 1631 397 2203 397 \nQ 2534 397 2845 478 \nQ 3156 559 3463 722 \nL 3463 178 \nQ 3153 47 2828 -22 \nQ 2503 -91 2169 -91 \nQ 1331 -91 842 396 \nQ 353 884 353 1716 \nQ 353 2575 817 3079 \nQ 1281 3584 2069 3584 \nQ 2775 3584 3186 3129 \nQ 3597 2675 3597 1894 \nz\nM 3022 2063 \nQ 3016 2534 2758 2815 \nQ 2500 3097 2075 3097 \nQ 1594 3097 1305 2825 \nQ 1016 2553 972 2059 \nL 3022 2063 \nz\n\" id=\"DejaVuSans-65\" transform=\"scale(0.015625)\"/>\n       <path d=\"M 678 2272 \nL 4684 2272 \nL 4684 1741 \nL 678 1741 \nL 678 2272 \nz\n\" id=\"DejaVuSans-2212\" transform=\"scale(0.015625)\"/>\n      </defs>\n      <use xlink:href=\"#DejaVuSans-31\"/>\n      <use x=\"63.623047\" xlink:href=\"#DejaVuSans-65\"/>\n      <use x=\"125.146484\" xlink:href=\"#DejaVuSans-2212\"/>\n      <use x=\"208.935547\" xlink:href=\"#DejaVuSans-35\"/>\n     </g>\n    </g>\n   </g>\n   <g id=\"line2d_23\">\n    <path clip-path=\"url(#p0ba9925ec7)\" d=\"M 55.825005 263.259968 \nL 56.541492 263.711276 \nL 57.257979 262.80866 \nL 57.974466 262.357353 \nL 58.690952 260.100815 \nL 59.407439 262.131699 \nL 60.123926 261.680392 \nL 61.5569 262.131699 \nL 62.273387 264.388237 \nL 62.989874 263.711276 \nL 63.706361 264.388237 \nL 64.422848 266.193467 \nL 65.139335 266.193467 \nL 65.855821 265.516506 \nL 66.572308 270.932197 \nL 67.288795 272.737428 \nL 68.005282 276.347888 \nL 68.721769 277.02485 \nL 69.438256 273.188735 \nL 70.154743 274.09135 \nL 70.87123 276.573542 \nL 71.587717 276.347888 \nL 72.304204 279.507042 \nL 73.02069 281.76358 \nL 73.737177 281.312272 \nL 74.453664 280.184003 \nL 75.170151 276.799196 \nL 75.886638 276.122235 \nL 76.603125 275.219619 \nL 77.319612 276.573542 \nL 78.036099 276.122235 \nL 78.752586 273.865697 \nL 79.469073 269.803928 \nL 80.18556 272.28612 \nL 80.902046 266.644775 \nL 81.618533 270.029582 \nL 82.33502 268.901313 \nL 83.051507 268.675659 \nL 83.767994 266.419121 \nL 84.484481 267.321736 \nL 85.200968 265.516506 \nL 85.917455 264.839545 \nL 86.633942 262.80866 \nL 87.350429 266.644775 \nL 88.066915 267.998698 \nL 88.783402 268.450005 \nL 89.499889 266.193467 \nL 90.216376 266.644775 \nL 90.932863 267.773044 \nL 91.64935 265.967814 \nL 92.365837 265.967814 \nL 93.082324 267.773044 \nL 93.798811 264.613891 \nL 94.515298 270.932197 \nL 95.231784 270.932197 \nL 95.948271 268.901313 \nL 96.664758 269.803928 \nL 97.381245 271.609159 \nL 98.097732 271.157851 \nL 98.814219 269.578274 \nL 99.530706 268.675659 \nL 100.247193 267.54739 \nL 100.96368 263.485622 \nL 101.680167 264.839545 \nL 102.396654 263.259968 \nL 103.11314 267.54739 \nL 103.829627 265.967814 \nL 104.546114 268.224352 \nL 105.262601 267.773044 \nL 105.979088 268.224352 \nL 106.695575 269.803928 \nL 108.128549 261.00343 \nL 108.845036 263.259968 \nL 109.561523 263.034314 \nL 110.278009 260.100815 \nL 110.994496 265.516506 \nL 111.710983 269.803928 \nL 112.42747 270.48089 \nL 113.143957 272.737428 \nL 113.860444 245.884626 \nL 114.576931 237.535435 \nL 115.293418 238.663704 \nL 116.009905 225.35013 \nL 116.726392 228.057976 \nL 117.442878 238.663704 \nL 118.875852 246.787241 \nL 119.592339 244.98201 \nL 120.308826 236.407166 \nL 121.025313 246.110279 \nL 121.7418 246.787241 \nL 122.458287 255.813393 \nL 123.174774 254.233816 \nL 123.891261 256.716008 \nL 124.607747 253.782509 \nL 125.324234 251.751624 \nL 126.040721 256.039047 \nL 126.757208 255.362085 \nL 127.473695 254.910778 \nL 128.190182 256.2647 \nL 128.906669 251.977278 \nL 129.623156 249.946394 \nL 130.339643 251.300317 \nL 131.05613 253.105547 \nL 131.772617 252.202932 \nL 132.489103 252.202932 \nL 133.20559 251.074663 \nL 133.922077 250.849009 \nL 134.638564 259.1982 \nL 135.355051 258.295585 \nL 136.071538 258.295585 \nL 136.788025 259.875161 \nL 137.504512 257.618623 \nL 138.220999 258.746892 \nL 138.937486 256.490354 \nL 139.653972 260.100815 \nL 140.370459 262.131699 \nL 141.086946 263.034314 \nL 141.803433 261.906045 \nL 142.51992 262.583007 \nL 143.236407 261.680392 \nL 143.952894 261.680392 \nL 144.669381 260.326469 \nL 145.385868 262.357353 \nL 146.102355 261.00343 \nL 146.818841 262.583007 \nL 147.535328 262.131699 \nL 148.251815 260.552123 \nL 148.968302 258.069931 \nL 149.684789 256.2647 \nL 150.401276 258.069931 \nL 151.117763 256.716008 \nL 151.83425 257.392969 \nL 152.550737 257.167316 \nL 153.267224 257.392969 \nL 153.983711 253.782509 \nL 154.700197 256.941662 \nL 155.416684 254.910778 \nL 156.133171 255.362085 \nL 157.566145 257.167316 \nL 158.282632 256.941662 \nL 158.999119 259.1982 \nL 159.715606 255.813393 \nL 160.432093 254.685124 \nL 161.14858 253.331201 \nL 161.865066 254.45947 \nL 162.581553 252.65424 \nL 163.29804 256.941662 \nL 164.014527 258.295585 \nL 164.731014 257.618623 \nL 165.447501 261.454738 \nL 166.163988 261.00343 \nL 166.880475 260.326469 \nL 167.596962 261.00343 \nL 169.029935 257.618623 \nL 169.746422 258.972546 \nL 170.462909 260.777776 \nL 171.179396 259.649507 \nL 171.895883 260.552123 \nL 172.61237 262.131699 \nL 173.328857 260.777776 \nL 174.045344 261.229084 \nL 174.761831 261.00343 \nL 175.478318 261.00343 \nL 176.194805 252.428586 \nL 176.911291 255.136431 \nL 177.627778 253.331201 \nL 178.344265 250.172048 \nL 179.060752 254.910778 \nL 179.777239 253.782509 \nL 180.493726 251.977278 \nL 181.210213 250.849009 \nL 181.9267 250.849009 \nL 183.359674 247.012895 \nL 184.792647 247.464202 \nL 185.509134 248.592471 \nL 186.225621 248.141164 \nL 186.942108 243.628088 \nL 188.375082 244.079395 \nL 189.091569 242.725472 \nL 189.808056 245.207664 \nL 190.524543 244.079395 \nL 191.241029 220.6114 \nL 191.957516 207.749134 \nL 192.674003 215.421363 \nL 193.39049 219.483131 \nL 194.106977 216.775286 \nL 194.823464 216.549632 \nL 195.539951 221.965323 \nL 196.256438 221.965323 \nL 196.972925 215.195709 \nL 197.689412 216.098324 \nL 198.405898 217.226593 \nL 199.122385 220.837054 \nL 199.838872 216.323978 \nL 200.555359 218.354862 \nL 201.271846 211.585248 \nL 201.988333 215.195709 \nL 202.70482 209.103057 \nL 203.421307 211.359594 \nL 204.137794 217.000939 \nL 204.854281 217.452247 \nL 205.570768 212.939171 \nL 206.287254 214.744401 \nL 207.720228 214.293094 \nL 208.436715 220.385746 \nL 209.869689 190.148137 \nL 210.586176 183.15287 \nL 211.302663 173.224103 \nL 212.01915 147.950877 \nL 212.735637 140.052994 \nL 213.452123 153.817876 \nL 214.16861 153.592222 \nL 214.885097 148.853492 \nL 215.601584 130.801189 \nL 216.318071 139.601687 \nL 217.034558 103.045771 \nL 217.751045 101.240541 \nL 219.184019 108.687116 \nL 219.900506 108.461462 \nL 220.616992 107.784501 \nL 221.333479 85.219121 \nL 222.049966 87.926967 \nL 222.766453 83.639545 \nL 223.48294 92.665697 \nL 224.199427 90.860466 \nL 224.915914 98.081388 \nL 225.632401 96.501811 \nL 226.348888 100.789233 \nL 227.065375 102.594464 \nL 227.781862 112.523231 \nL 228.498348 116.359345 \nL 229.214835 118.841537 \nL 229.931322 118.841537 \nL 230.647809 114.779769 \nL 231.364296 116.584999 \nL 232.080783 107.333193 \nL 232.79727 113.200192 \nL 233.513757 124.93419 \nL 234.230244 127.416382 \nL 234.946731 119.969806 \nL 235.663217 121.098075 \nL 236.379704 116.584999 \nL 237.096191 114.328461 \nL 237.812678 93.342658 \nL 238.529165 82.962583 \nL 239.245652 91.537428 \nL 239.962139 97.178773 \nL 240.678626 105.302309 \nL 241.395113 99.435311 \nL 242.1116 105.527963 \nL 242.828086 96.050504 \nL 243.544573 92.665697 \nL 244.26106 95.599196 \nL 244.977547 89.055236 \nL 245.694034 63.105049 \nL 246.410521 61.299819 \nL 247.127008 66.941164 \nL 247.843495 71.002932 \nL 248.559982 71.905547 \nL 249.992956 66.489856 \nL 250.709442 64.233318 \nL 251.425929 80.254738 \nL 252.142416 77.095585 \nL 252.858903 81.157353 \nL 254.291877 81.60866 \nL 255.008364 78.675161 \nL 255.724851 78.449507 \nL 256.441338 79.126469 \nL 257.157825 79.352123 \nL 257.874311 77.546892 \nL 258.590798 79.126469 \nL 259.307285 71.905547 \nL 260.740259 93.117004 \nL 261.456746 91.08612 \nL 262.173233 90.860466 \nL 262.88972 84.993467 \nL 263.606207 86.573044 \nL 264.322694 96.953119 \nL 265.755667 88.829582 \nL 266.472154 83.188237 \nL 267.188641 71.002932 \nL 267.905128 34.67267 \nL 268.621615 39.185746 \nL 269.338102 53.176282 \nL 270.054589 58.140665 \nL 270.771076 59.720242 \nL 271.487563 69.649009 \nL 272.204049 72.582509 \nL 272.920536 80.706045 \nL 273.637023 75.741662 \nL 274.35351 76.644277 \nL 275.069997 81.60866 \nL 275.786484 78.675161 \nL 276.502971 61.751126 \nL 277.219458 81.383007 \nL 277.935945 78.223854 \nL 278.652432 83.639545 \nL 279.368919 81.157353 \nL 280.085405 87.701313 \nL 280.801892 90.634812 \nL 281.518379 89.28089 \nL 282.234866 86.121736 \nL 282.951353 89.957851 \nL 283.66784 93.117004 \nL 284.384327 94.922235 \nL 285.100814 96.276157 \nL 285.817301 108.235809 \nL 287.250274 98.984003 \nL 287.966761 99.660964 \nL 288.683248 103.948387 \nL 289.399735 99.660964 \nL 290.116222 90.634812 \nL 290.832709 96.953119 \nL 291.549196 98.532695 \nL 292.265683 106.204925 \nL 292.98217 107.558847 \nL 293.698657 113.6515 \nL 294.415143 122.226344 \nL 295.13163 126.965074 \nL 295.848117 123.128959 \nL 296.564604 119.969806 \nL 297.281091 147.725223 \nL 297.997578 142.535186 \nL 298.714065 148.853492 \nL 299.430552 144.56607 \nL 300.147039 139.601687 \nL 300.863526 133.057726 \nL 301.580013 132.155111 \nL 302.296499 129.898573 \nL 303.012986 134.411649 \nL 303.729473 131.929458 \nL 304.44596 135.314264 \nL 305.878934 138.473418 \nL 306.595421 135.991226 \nL 307.311908 135.765572 \nL 308.028395 135.765572 \nL 308.744882 143.437801 \nL 309.461368 139.601687 \nL 310.177855 145.468685 \nL 310.894342 145.694339 \nL 311.610829 142.083878 \nL 312.327316 131.929458 \nL 313.043803 131.252496 \nL 313.76029 138.924725 \nL 314.476777 136.668187 \nL 315.193264 128.770304 \nL 315.909751 132.155111 \nL 316.626237 134.862957 \nL 317.342724 132.155111 \nL 318.059211 133.960342 \nL 318.775698 134.185995 \nL 319.492185 132.380765 \nL 320.925159 143.663455 \nL 321.641646 143.663455 \nL 322.358133 145.919993 \nL 323.07462 152.689607 \nL 323.791107 154.269184 \nL 324.507593 152.915261 \nL 325.22408 142.535186 \nL 325.940567 140.052994 \nL 326.657054 142.986494 \nL 327.373541 136.442533 \nL 328.090028 135.539918 \nL 328.806515 139.376033 \nL 329.523002 138.247764 \nL 330.239489 133.734688 \nL 330.955976 119.518499 \nL 331.672462 130.124227 \nL 332.388949 137.119495 \nL 333.105436 136.893841 \nL 333.821923 131.026842 \nL 334.53841 131.703804 \nL 335.254897 135.539918 \nL 335.971384 138.02211 \nL 336.687871 133.509034 \nL 337.404358 136.893841 \nL 338.120845 138.247764 \nL 338.837331 138.924725 \nL 339.553818 137.119495 \nL 340.270305 138.247764 \nL 340.986792 136.442533 \nL 341.703279 138.473418 \nL 342.419766 137.796456 \nL 343.136253 138.924725 \nL 343.85274 137.570802 \nL 344.569227 142.535186 \nL 345.285714 142.309532 \nL 346.002201 147.49957 \nL 346.718687 149.079146 \nL 347.435174 148.627839 \nL 348.151661 138.924725 \nL 348.868148 149.3048 \nL 349.584635 152.689607 \nL 350.301122 149.3048 \nL 351.017609 149.756108 \nL 351.734096 149.756108 \nL 352.450583 138.924725 \nL 353.883556 143.437801 \nL 354.600043 143.437801 \nL 355.31653 142.986494 \nL 356.033017 137.570802 \nL 356.749504 135.991226 \nL 357.465991 139.150379 \nL 358.182478 134.411649 \nL 358.898965 132.380765 \nL 359.615452 127.867689 \nL 360.331939 124.708536 \nL 361.048425 124.482882 \nL 361.764912 119.969806 \nL 362.481399 123.580267 \nL 363.197886 148.402185 \nL 363.914373 143.212147 \nL 364.63086 148.176531 \nL 365.347347 145.919993 \nL 366.063834 150.207415 \nL 366.780321 156.525722 \nL 367.496808 153.817876 \nL 368.213294 154.269184 \nL 368.929781 142.986494 \nL 369.646268 140.955609 \nL 370.362755 143.663455 \nL 371.079242 140.955609 \nL 371.795729 142.76084 \nL 372.512216 139.601687 \nL 373.228703 140.504302 \nL 373.94519 140.504302 \nL 374.661677 136.442533 \nL 375.378164 136.893841 \nL 376.09465 139.150379 \nL 376.811137 145.919993 \nL 377.527624 143.212147 \nL 378.244111 144.56607 \nL 378.960598 144.56607 \nL 379.677085 145.468685 \nL 381.110059 135.314264 \nL 381.826546 137.570802 \nL 382.543033 137.570802 \nL 383.259519 138.473418 \nL 383.976006 136.21688 \nL 384.692493 162.39272 \nL 385.40898 162.39272 \nL 386.125467 155.623106 \nL 386.841954 159.233567 \nL 387.558441 166.905796 \nL 388.274928 172.547141 \nL 388.991415 172.095834 \nL 389.707902 175.029333 \nL 390.424388 172.998449 \nL 391.140875 174.352372 \nL 391.857362 168.259719 \nL 392.573849 167.808411 \nL 393.290336 168.485373 \nL 394.006823 167.357104 \nL 394.72331 163.295335 \nL 395.439797 165.100566 \nL 396.872771 163.295335 \nL 397.589258 157.653991 \nL 398.305744 152.915261 \nL 399.022231 157.653991 \nL 399.738718 152.915261 \nL 400.455205 150.658723 \nL 401.171692 150.884377 \nL 401.888179 159.007913 \nL 402.604666 164.874912 \nL 403.321153 156.525722 \nL 404.03764 155.171799 \nL 404.754127 155.397453 \nL 405.470613 152.238299 \nL 406.1871 150.433069 \nL 406.903587 150.207415 \nL 407.620074 146.371301 \nL 408.336561 134.185995 \nL 409.053048 57.463704 \nL 409.769535 83.865198 \nL 410.486022 96.276157 \nL 411.202509 101.691849 \nL 411.918996 86.798698 \nL 412.635482 99.886618 \nL 413.351969 86.34739 \nL 414.068456 83.639545 \nL 414.784943 86.121736 \nL 415.50143 82.736929 \nL 416.217917 88.829582 \nL 416.934404 85.444775 \nL 417.650891 83.639545 \nL 418.367378 86.34739 \nL 419.083865 80.706045 \nL 419.800352 84.767814 \nL 420.516838 82.962583 \nL 421.233325 76.192969 \nL 421.949812 79.80343 \nL 422.666299 75.0647 \nL 423.382786 80.254738 \nL 424.099273 75.290354 \nL 425.532247 81.157353 \nL 426.248734 81.157353 \nL 426.965221 92.89135 \nL 427.681707 85.444775 \nL 428.398194 84.993467 \nL 429.114681 83.865198 \nL 429.831168 85.670429 \nL 430.547655 86.798698 \nL 431.264142 83.413891 \nL 431.980629 87.024352 \nL 433.413603 103.045771 \nL 434.13009 98.307042 \nL 434.846576 95.373542 \nL 435.563063 97.178773 \nL 436.27955 108.461462 \nL 436.996037 115.231076 \nL 437.712524 114.554115 \nL 438.429011 112.974538 \nL 439.145498 106.881886 \nL 439.861985 110.266693 \nL 440.578472 122.226344 \nL 441.294959 128.318997 \nL 442.011445 126.965074 \nL 442.727932 115.908038 \nL 443.444419 120.421114 \nL 444.160906 115.45673 \nL 444.877393 115.231076 \nL 445.59388 112.748885 \nL 446.310367 114.779769 \nL 447.026854 106.430578 \nL 447.743341 119.744152 \nL 448.459828 119.969806 \nL 449.176315 111.846269 \nL 449.892801 110.718 \nL 450.609288 112.523231 \nL 451.325775 103.497079 \nL 452.042262 103.271425 \nL 453.475236 115.908038 \nL 454.191723 112.748885 \nL 454.90821 118.615883 \nL 455.624697 119.969806 \nL 456.341184 124.93419 \nL 457.05767 116.810653 \nL 458.490644 133.734688 \nL 459.207131 132.832073 \nL 459.923618 130.124227 \nL 460.640105 131.252496 \nL 462.073079 124.93419 \nL 462.789566 126.965074 \nL 463.506053 121.549383 \nL 464.222539 124.257228 \nL 464.939026 124.031575 \nL 465.655513 128.544651 \nL 466.372 127.190728 \nL 467.088487 122.677652 \nL 467.804974 122.00069 \nL 468.521461 118.164576 \nL 469.237948 122.451998 \nL 469.954435 124.708536 \nL 471.387409 117.938922 \nL 472.103895 117.938922 \nL 472.820382 113.6515 \nL 473.536869 115.231076 \nL 474.253356 108.687116 \nL 474.969843 117.487614 \nL 475.68633 114.102807 \nL 476.402817 123.354613 \nL 477.119304 119.067191 \nL 477.835791 121.098075 \nL 479.268764 114.779769 \nL 479.985251 123.580267 \nL 480.701738 127.867689 \nL 481.418225 119.969806 \nL 482.134712 124.031575 \nL 482.851199 123.805921 \nL 483.567686 133.28338 \nL 484.284173 129.447266 \nL 485.00066 131.252496 \nL 485.717147 135.088611 \nL 486.433633 131.026842 \nL 487.15012 131.47815 \nL 487.866607 133.734688 \nL 488.583094 138.247764 \nL 489.299581 139.601687 \nL 490.016068 138.699071 \nL 490.732555 138.699071 \nL 491.449042 143.663455 \nL 492.165529 141.858225 \nL 492.882016 142.76084 \nL 493.598503 141.181263 \nL 494.314989 143.437801 \nL 495.031476 137.570802 \nL 495.747963 138.247764 \nL 496.46445 141.632571 \nL 497.180937 143.437801 \nL 497.897424 142.986494 \nL 498.613911 141.632571 \nL 499.330398 145.468685 \nL 500.046885 140.955609 \nL 500.763372 140.052994 \nL 501.479858 134.185995 \nL 502.196345 135.765572 \nL 502.912832 114.554115 \nL 503.629319 132.155111 \nL 504.345806 133.28338 \nL 505.062293 144.114763 \nL 505.77878 148.176531 \nL 506.495267 147.49957 \nL 507.211754 144.114763 \nL 507.928241 143.437801 \nL 508.644727 140.052994 \nL 509.361214 150.207415 \nL 510.077701 152.238299 \nL 510.794188 153.592222 \nL 511.510675 154.494837 \nL 512.227162 175.029333 \nL 512.943649 170.741911 \nL 513.660136 161.490105 \nL 514.376623 159.459221 \nL 515.09311 161.941413 \nL 515.809596 168.711027 \nL 516.526083 166.454489 \nL 517.24257 157.428337 \nL 517.959057 154.946145 \nL 518.675544 153.366568 \nL 519.392031 148.402185 \nL 520.108518 146.596954 \nL 520.825005 143.889109 \nL 521.541492 148.627839 \nL 522.257979 152.463953 \nL 522.974466 154.04353 \nL 523.690952 151.786992 \nL 524.407439 152.915261 \nL 525.123926 156.977029 \nL 525.840413 143.437801 \nL 526.5569 136.668187 \nL 527.273387 132.155111 \nL 527.989874 115.908038 \nL 528.706361 119.969806 \nL 529.422848 121.775037 \nL 530.855821 92.89135 \nL 531.572308 87.024352 \nL 532.288795 87.250005 \nL 533.005282 92.665697 \nL 533.721769 95.147888 \nL 534.438256 108.010155 \nL 535.154743 105.076656 \nL 535.87123 86.34739 \nL 536.587717 87.701313 \nL 537.304204 87.475659 \nL 538.02069 75.290354 \nL 538.737177 86.34739 \nL 539.453664 87.926967 \nL 540.170151 91.08612 \nL 540.886638 86.34739 \nL 541.603125 82.962583 \nL 542.319612 89.055236 \nL 543.036099 84.993467 \nL 543.752586 74.613393 \nL 544.469073 70.777278 \nL 545.18556 71.679893 \nL 545.902046 74.839047 \nL 546.618533 80.029084 \nL 547.33502 82.059968 \nL 548.051507 82.962583 \nL 548.767994 87.926967 \nL 549.484481 83.413891 \nL 550.200968 84.316506 \nL 550.917455 87.024352 \nL 551.633942 87.701313 \nL 552.350429 94.245273 \nL 553.066915 108.687116 \nL 553.783402 106.204925 \nL 554.499889 105.753617 \nL 555.216376 101.917502 \nL 555.932863 102.594464 \nL 556.64935 110.041039 \nL 557.365837 115.908038 \nL 558.082324 112.297577 \nL 558.798811 94.470927 \nL 559.515298 82.736929 \nL 560.231784 77.9982 \nL 560.948271 84.54216 \nL 561.664758 77.546892 \nL 562.381245 85.670429 \nL 562.381245 85.670429 \n\" style=\"fill:none;stroke:#008000;stroke-linecap:square;stroke-width:1.5;\"/>\n   </g>\n   <g id=\"patch_7\">\n    <path d=\"M 30.103125 294.118125 \nL 30.103125 22.318125 \n\" style=\"fill:none;stroke:#000000;stroke-linecap:square;stroke-linejoin:miter;stroke-width:0.8;\"/>\n   </g>\n   <g id=\"patch_8\">\n    <path d=\"M 588.103125 294.118125 \nL 588.103125 22.318125 \n\" style=\"fill:none;stroke:#000000;stroke-linecap:square;stroke-linejoin:miter;stroke-width:0.8;\"/>\n   </g>\n   <g id=\"patch_9\">\n    <path d=\"M 30.103125 294.118125 \nL 588.103125 294.118125 \n\" style=\"fill:none;stroke:#000000;stroke-linecap:square;stroke-linejoin:miter;stroke-width:0.8;\"/>\n   </g>\n   <g id=\"patch_10\">\n    <path d=\"M 30.103125 22.318125 \nL 588.103125 22.318125 \n\" style=\"fill:none;stroke:#000000;stroke-linecap:square;stroke-linejoin:miter;stroke-width:0.8;\"/>\n   </g>\n   <g id=\"text_22\">\n    <!-- ENJBTC -->\n    <g transform=\"translate(287.434687 16.318125)scale(0.12 -0.12)\">\n     <defs>\n      <path d=\"M 628 4666 \nL 3578 4666 \nL 3578 4134 \nL 1259 4134 \nL 1259 2753 \nL 3481 2753 \nL 3481 2222 \nL 1259 2222 \nL 1259 531 \nL 3634 531 \nL 3634 0 \nL 628 0 \nL 628 4666 \nz\n\" id=\"DejaVuSans-45\" transform=\"scale(0.015625)\"/>\n      <path d=\"M 628 4666 \nL 1478 4666 \nL 3547 763 \nL 3547 4666 \nL 4159 4666 \nL 4159 0 \nL 3309 0 \nL 1241 3903 \nL 1241 0 \nL 628 0 \nL 628 4666 \nz\n\" id=\"DejaVuSans-4e\" transform=\"scale(0.015625)\"/>\n      <path d=\"M 628 4666 \nL 1259 4666 \nL 1259 325 \nQ 1259 -519 939 -900 \nQ 619 -1281 -91 -1281 \nL -331 -1281 \nL -331 -750 \nL -134 -750 \nQ 284 -750 456 -515 \nQ 628 -281 628 325 \nL 628 4666 \nz\n\" id=\"DejaVuSans-4a\" transform=\"scale(0.015625)\"/>\n      <path d=\"M 1259 2228 \nL 1259 519 \nL 2272 519 \nQ 2781 519 3026 730 \nQ 3272 941 3272 1375 \nQ 3272 1813 3026 2020 \nQ 2781 2228 2272 2228 \nL 1259 2228 \nz\nM 1259 4147 \nL 1259 2741 \nL 2194 2741 \nQ 2656 2741 2882 2914 \nQ 3109 3088 3109 3444 \nQ 3109 3797 2882 3972 \nQ 2656 4147 2194 4147 \nL 1259 4147 \nz\nM 628 4666 \nL 2241 4666 \nQ 2963 4666 3353 4366 \nQ 3744 4066 3744 3513 \nQ 3744 3084 3544 2831 \nQ 3344 2578 2956 2516 \nQ 3422 2416 3680 2098 \nQ 3938 1781 3938 1306 \nQ 3938 681 3513 340 \nQ 3088 0 2303 0 \nL 628 0 \nL 628 4666 \nz\n\" id=\"DejaVuSans-42\" transform=\"scale(0.015625)\"/>\n      <path d=\"M -19 4666 \nL 3928 4666 \nL 3928 4134 \nL 2272 4134 \nL 2272 0 \nL 1638 0 \nL 1638 4134 \nL -19 4134 \nL -19 4666 \nz\n\" id=\"DejaVuSans-54\" transform=\"scale(0.015625)\"/>\n      <path d=\"M 4122 4306 \nL 4122 3641 \nQ 3803 3938 3442 4084 \nQ 3081 4231 2675 4231 \nQ 1875 4231 1450 3742 \nQ 1025 3253 1025 2328 \nQ 1025 1406 1450 917 \nQ 1875 428 2675 428 \nQ 3081 428 3442 575 \nQ 3803 722 4122 1019 \nL 4122 359 \nQ 3791 134 3420 21 \nQ 3050 -91 2638 -91 \nQ 1578 -91 968 557 \nQ 359 1206 359 2328 \nQ 359 3453 968 4101 \nQ 1578 4750 2638 4750 \nQ 3056 4750 3426 4639 \nQ 3797 4528 4122 4306 \nz\n\" id=\"DejaVuSans-43\" transform=\"scale(0.015625)\"/>\n     </defs>\n     <use xlink:href=\"#DejaVuSans-45\"/>\n     <use x=\"63.183594\" xlink:href=\"#DejaVuSans-4e\"/>\n     <use x=\"137.988281\" xlink:href=\"#DejaVuSans-4a\"/>\n     <use x=\"167.480469\" xlink:href=\"#DejaVuSans-42\"/>\n     <use x=\"236.083984\" xlink:href=\"#DejaVuSans-54\"/>\n     <use x=\"291.292969\" xlink:href=\"#DejaVuSans-43\"/>\n    </g>\n   </g>\n  </g>\n </g>\n <defs>\n  <clipPath id=\"p0ba9925ec7\">\n   <rect height=\"271.8\" width=\"558\" x=\"30.103125\" y=\"22.318125\"/>\n  </clipPath>\n </defs>\n</svg>\n",
      "image/png": "[encoded data removed]"
     },
     "metadata": {
      "needs_background": "light"
     }
    }
   ],
   "source": [
    "plt.rcParams['figure.figsize'] = [10, 5]\n",
    "ts = df[\"Close\"].astype(float) #.pct_change()\n",
    "\n",
    "fig, ax1 = plt.subplots()\n",
    "ax1.plot(pdrank[ticker])\n",
    "# plt.axhline(y=0, color='r', linestyle='-')\n",
    "ax1.plot(ts)\n",
    "ax2 = ax1.twinx()\n",
    "ax2.plot(ts, color='g')\n",
    "plt.title(asset)\n",
    "# plt.legend()"
   ]
  },
  {
   "cell_type": "code",
   "execution_count": null,
   "metadata": {},
   "outputs": [],
   "source": []
  }
 ]
}