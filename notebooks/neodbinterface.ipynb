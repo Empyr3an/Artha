{
 "metadata": {
  "language_info": {
   "codemirror_mode": {
    "name": "ipython",
    "version": 3
   },
   "file_extension": ".py",
   "mimetype": "text/x-python",
   "name": "python",
   "nbconvert_exporter": "python",
   "pygments_lexer": "ipython3",
   "version": "3.7.6-final"
  },
  "orig_nbformat": 2,
  "kernelspec": {
   "name": "python376jvsc74a57bd0336ff5ee2c1e0e67b5ec251f9bb85714e66dde2cea2c3ccd73e788234e60283a",
   "display_name": "Python 3.7.6 64-bit ('artha@3.7.6')"
  }
 },
 "nbformat": 4,
 "nbformat_minor": 2,
 "cells": [
  {
   "cell_type": "code",
   "execution_count": 1,
   "metadata": {},
   "outputs": [
    {
     "output_type": "stream",
     "name": "stdout",
     "text": [
      "CPU times: user 2.06 s, sys: 355 ms, total: 2.41 s\nWall time: 3.87 s\n"
     ]
    },
    {
     "output_type": "execute_result",
     "data": {
      "text/plain": [
       "<neo4j.work.result.Result at 0x114703090>"
      ]
     },
     "metadata": {},
     "execution_count": 1
    }
   ],
   "source": [
    "%%time\n",
    "import inspect\n",
    "currentdir = os.path.dirname(os.path.abspath(inspect.getfile(inspect.currentframe())))\n",
    "parentdir = os.path.dirname(currentdir)\n",
    "os.sys.path.insert(0,parentdir) \n",
    "\n",
    "from Artha.nlp_extraction import run_pipeline, save_backup, load_backup, to_doc_dict\n",
    "import Artha.data_process as dp\n",
    "from Artha.neodb import Neo\n",
    "import Artha.crypto_data as crypto\n",
    "from tqdm import tqdm\n",
    "import json\n",
    "import numpy as np\n",
    "np.set_printoptions(suppress=True)\n",
    "from datetime import datetime, timedelta\n",
    "from Artha.mentions import *\n",
    "from collections import Counter\n",
    "import pandas as pd\n",
    "\n",
    "# coins database\n",
    "neo = Neo(\"neo4j://localhost:7687\", \"neo4j\", \"part2\")\n",
    "neo.session.run('''CREATE CONSTRAINT twitter_username IF NOT EXISTS ON (n:Person)\n",
    "                ASSERT n.username IS UNIQUE''')\n",
    "neo.session.run('''CREATE CONSTRAINT coin_name IF NOT EXISTS ON (n:Coin)\n",
    "                ASSERT n.ticker IS UNIQUE''')\n"
   ]
  },
  {
   "cell_type": "code",
   "execution_count": 2,
   "metadata": {},
   "outputs": [
    {
     "output_type": "stream",
     "name": "stdout",
     "text": [
      "7 15\n"
     ]
    }
   ],
   "source": [
    "follow_weight = .5\n",
    "print(len(neo.get_nodes()), len(neo.get_relations()))\n",
    "# without mentions 711 6958"
   ]
  },
  {
   "cell_type": "code",
   "execution_count": 3,
   "metadata": {},
   "outputs": [],
   "source": [
    "neo.clear_nodes()"
   ]
  },
  {
   "cell_type": "code",
   "execution_count": 4,
   "metadata": {},
   "outputs": [
    {
     "output_type": "stream",
     "name": "stdout",
     "text": [
      "CPU times: user 7.53 ms, sys: 3.08 ms, total: 10.6 ms\nWall time: 12.1 ms\n"
     ]
    }
   ],
   "source": [
    "%%time\n",
    "# add follows between only people I follow, can change by getting rid of second 2 last line for anyone a person follows\n",
    "\n",
    "# all_people = [i[1:-4] for i in os.listdir(\"../data/follows/\")]\n",
    "# checkra_people = [c[3] for c in dp.load_following(\"checkra_\") ]\n",
    "\n",
    "\n",
    "selected_people = [\"BTC_JackSparrow\", \"razoreth\", \"Nostranomist\", \"CryptoKaleo\", \"nebraskangooner\", \"Rager\", \"SavageBTC\"]\n",
    "selected_nodes = [c for c in dp.load_following(\"checkra_\") if c[3] in selected_people]\n",
    "\n",
    "selected_follows = dp.follow_edges(selected_people, follow_weight)"
   ]
  },
  {
   "cell_type": "code",
   "execution_count": 5,
   "metadata": {},
   "outputs": [
    {
     "output_type": "stream",
     "name": "stdout",
     "text": [
      "7 15\nCPU times: user 7.84 ms, sys: 2.6 ms, total: 10.4 ms\nWall time: 92.5 ms\n"
     ]
    }
   ],
   "source": [
    "%%time\n",
    "# print(len(follows))\n",
    "neo.clear_nodes()\n",
    "\n",
    "neo.load_follow_nodes(selected_nodes)\n",
    "neo.load_follow_nodes(selected_follows)\n",
    "neo.load_follow_relations(selected_follows)\n",
    "\n",
    "print(len(neo.get_nodes()), len(neo.get_relations()))\n"
   ]
  },
  {
   "cell_type": "code",
   "execution_count": 6,
   "metadata": {},
   "outputs": [
    {
     "output_type": "stream",
     "name": "stdout",
     "text": [
      "loaded\n",
      "100%|██████████| 14474/14474 [00:00<00:00, 173547.15it/s]CPU times: user 5.23 s, sys: 126 ms, total: 5.35 s\n",
      "Wall time: 5.35 s\n",
      "\n"
     ]
    }
   ],
   "source": [
    "%%time\n",
    "# load all tweets\n",
    "# all_tweets = []\n",
    "# for ind, username in tqdm(enumerate(selected_people)):\n",
    "#     cur_tweets = dp.load_tweets(username, location = \"../data/tweets1/u\")\n",
    "#     all_tweets.extend([tweet for tweet in dp.clean_tweets(cur_tweets, username)])\n",
    "\n",
    "# print(\"\\n\", len(all_tweets))\n",
    "# #process all tweets at once\n",
    "# docs = run_pipeline(all_tweets)\n",
    "# \n",
    "\n",
    "docs = load_backup()\n",
    "doc_dict = to_doc_dict(docs)"
   ]
  },
  {
   "cell_type": "code",
   "execution_count": 26,
   "metadata": {
    "tags": []
   },
   "outputs": [
    {
     "output_type": "stream",
     "name": "stderr",
     "text": [
      "100%|██████████| 3/3 [00:01<00:00,  1.61it/s]CPU times: user 1.35 s, sys: 12.3 ms, total: 1.36 s\n",
      "Wall time: 1.86 s\n",
      "\n"
     ]
    }
   ],
   "source": [
    "%%time\n",
    "# code for multiple graphs over time\n",
    "day_scores = {}\n",
    "date, window_count = \"02/24/2021 00:00:00\", 3\n",
    "\n",
    "dates = [from_datetime(to_datetime(date)+timedelta(days=i)) for i in range(window_count)]\n",
    "\n",
    "for i in tqdm(dates):\n",
    "    all_mentions = [edge for person in selected_people \n",
    "                    for edge in get_mention_edges(\n",
    "                                      doc_dict[person], person,\n",
    "                                      follow_weight = follow_weight,\n",
    "                                      win_start_date = date)]\n",
    "    neo.clear_nodes(\"Coin\")\n",
    "    neo.load_mentions(all_mentions)\n",
    "    day_scores[i] = neo.pagerank_scores()\n",
    "\n",
    "\n",
    "all_ticks = list(set([i[0] for day in dates for i in day_scores[day]]))\n",
    "\n",
    "tick_dict = {tick:np.zeros(window_count) for tick in all_ticks}\n",
    "\n",
    "for ind, day in enumerate(day_scores.keys()):\n",
    "    for score in day_scores[day]:\n",
    "        tick_dict[score[0]][ind] = score[1]\n",
    "\n",
    "pdpagerank = pd.DataFrame(tick_dict, index = pd.to_datetime(dates))"
   ]
  },
  {
   "cell_type": "code",
   "execution_count": 28,
   "metadata": {},
   "outputs": [
    {
     "output_type": "execute_result",
     "data": {
      "text/plain": [
       "                DOGE     SUSHI       GO     SUPER       AST       FIL  \\\n",
       "2021-02-24  1.043454  0.408526  0.19131  0.161961  0.164978  0.237497   \n",
       "2021-02-25  1.043454  0.408526  0.19131  0.161961  0.164978  0.237497   \n",
       "2021-02-26  1.043454  0.408526  0.19131  0.161961  0.164978  0.237497   \n",
       "\n",
       "               ALGO    ALPHA      ATOM       BNB  ...      DENT     MATIC  \\\n",
       "2021-02-24  0.55565  0.24166  0.165467  0.543995  ...  0.252061  0.183298   \n",
       "2021-02-25  0.55565  0.24166  0.165467  0.543995  ...  0.252061  0.183298   \n",
       "2021-02-26  0.55565  0.24166  0.165467  0.543995  ...  0.252061  0.183298   \n",
       "\n",
       "                 YFI      USDC       TRY       NEO       SNT       ONE  \\\n",
       "2021-02-24  0.465163  0.334849  0.176428  0.248019  0.153073  0.240342   \n",
       "2021-02-25  0.465163  0.334849  0.176428  0.248019  0.153073  0.240342   \n",
       "2021-02-26  0.465163  0.334849  0.176428  0.248019  0.153073  0.240342   \n",
       "\n",
       "                 WRX     BZRX  \n",
       "2021-02-24  0.212675  0.15367  \n",
       "2021-02-25  0.212675  0.15367  \n",
       "2021-02-26  0.212675  0.15367  \n",
       "\n",
       "[3 rows x 109 columns]"
      ],
      "text/html": "<div>\n<style scoped>\n    .dataframe tbody tr th:only-of-type {\n        vertical-align: middle;\n    }\n\n    .dataframe tbody tr th {\n        vertical-align: top;\n    }\n\n    .dataframe thead th {\n        text-align: right;\n    }\n</style>\n<table border=\"1\" class=\"dataframe\">\n  <thead>\n    <tr style=\"text-align: right;\">\n      <th></th>\n      <th>DOGE</th>\n      <th>SUSHI</th>\n      <th>GO</th>\n      <th>SUPER</th>\n      <th>AST</th>\n      <th>FIL</th>\n      <th>ALGO</th>\n      <th>ALPHA</th>\n      <th>ATOM</th>\n      <th>BNB</th>\n      <th>...</th>\n      <th>DENT</th>\n      <th>MATIC</th>\n      <th>YFI</th>\n      <th>USDC</th>\n      <th>TRY</th>\n      <th>NEO</th>\n      <th>SNT</th>\n      <th>ONE</th>\n      <th>WRX</th>\n      <th>BZRX</th>\n    </tr>\n  </thead>\n  <tbody>\n    <tr>\n      <th>2021-02-24</th>\n      <td>1.043454</td>\n      <td>0.408526</td>\n      <td>0.19131</td>\n      <td>0.161961</td>\n      <td>0.164978</td>\n      <td>0.237497</td>\n      <td>0.55565</td>\n      <td>0.24166</td>\n      <td>0.165467</td>\n      <td>0.543995</td>\n      <td>...</td>\n      <td>0.252061</td>\n      <td>0.183298</td>\n      <td>0.465163</td>\n      <td>0.334849</td>\n      <td>0.176428</td>\n      <td>0.248019</td>\n      <td>0.153073</td>\n      <td>0.240342</td>\n      <td>0.212675</td>\n      <td>0.15367</td>\n    </tr>\n    <tr>\n      <th>2021-02-25</th>\n      <td>1.043454</td>\n      <td>0.408526</td>\n      <td>0.19131</td>\n      <td>0.161961</td>\n      <td>0.164978</td>\n      <td>0.237497</td>\n      <td>0.55565</td>\n      <td>0.24166</td>\n      <td>0.165467</td>\n      <td>0.543995</td>\n      <td>...</td>\n      <td>0.252061</td>\n      <td>0.183298</td>\n      <td>0.465163</td>\n      <td>0.334849</td>\n      <td>0.176428</td>\n      <td>0.248019</td>\n      <td>0.153073</td>\n      <td>0.240342</td>\n      <td>0.212675</td>\n      <td>0.15367</td>\n    </tr>\n    <tr>\n      <th>2021-02-26</th>\n      <td>1.043454</td>\n      <td>0.408526</td>\n      <td>0.19131</td>\n      <td>0.161961</td>\n      <td>0.164978</td>\n      <td>0.237497</td>\n      <td>0.55565</td>\n      <td>0.24166</td>\n      <td>0.165467</td>\n      <td>0.543995</td>\n      <td>...</td>\n      <td>0.252061</td>\n      <td>0.183298</td>\n      <td>0.465163</td>\n      <td>0.334849</td>\n      <td>0.176428</td>\n      <td>0.248019</td>\n      <td>0.153073</td>\n      <td>0.240342</td>\n      <td>0.212675</td>\n      <td>0.15367</td>\n    </tr>\n  </tbody>\n</table>\n<p>3 rows × 109 columns</p>\n</div>"
     },
     "metadata": {},
     "execution_count": 28
    }
   ],
   "source": [
    "pdpagerank"
   ]
  },
  {
   "cell_type": "code",
   "execution_count": 10,
   "metadata": {},
   "outputs": [],
   "source": [
    "# exchange tokens might have more mentions\n",
    "# factor in mentions of coins in threads, so it gets more mentions than just 1"
   ]
  }
 ]
}