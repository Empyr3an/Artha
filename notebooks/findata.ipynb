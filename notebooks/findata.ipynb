{
 "metadata": {
  "language_info": {
   "codemirror_mode": {
    "name": "ipython",
    "version": 3
   },
   "file_extension": ".py",
   "mimetype": "text/x-python",
   "name": "python",
   "nbconvert_exporter": "python",
   "pygments_lexer": "ipython3",
   "version": "3.7.6"
  },
  "orig_nbformat": 2,
  "kernelspec": {
   "name": "python376jvsc74a57bd0336ff5ee2c1e0e67b5ec251f9bb85714e66dde2cea2c3ccd73e788234e60283a",
   "display_name": "Python 3.7.6 64-bit ('artha@3.7.6': pyenv)"
  }
 },
 "nbformat": 4,
 "nbformat_minor": 2,
 "cells": [
  {
   "cell_type": "code",
   "execution_count": 1,
   "metadata": {},
   "outputs": [
    {
     "output_type": "stream",
     "name": "stdout",
     "text": [
      "CPU times: user 1.13 s, sys: 217 ms, total: 1.34 s\nWall time: 1.95 s\n"
     ]
    }
   ],
   "source": [
    "%%time\n",
    "import inspect\n",
    "currentdir = os.path.dirname(os.path.abspath(inspect.getfile(inspect.currentframe())))\n",
    "parentdir = os.path.dirname(currentdir)\n",
    "os.sys.path.insert(0,parentdir) \n",
    "\n",
    "from binance import AsyncClient, BinanceSocketManager, Client, ThreadedWebsocketManager\n",
    "import Artha.configs.binance_config as c \n",
    "key = c.apis[0][0]\n",
    "secret = c.apis[0][1]\n",
    "client = Client(key, secret)\n",
    "\n",
    "import asyncio\n",
    "import time\n",
    "import nest_asyncio\n",
    "nest_asyncio.apply()\n",
    "\n",
    "# client.get_historical_klines(\"ETHBTC\", \"1h\", \"1 Dec, 2017\", \"1 Jan, 2018\")\n",
    "import pandas as pd\n",
    "pd.options.display.float_format = '{:.9f}'.format\n",
    "pd.set_option('display.max_rows', None)\n",
    "pd.set_option('display.max_columns', None)\n",
    "\n",
    "# from Artha.mentions import *\n",
    "from datetime import datetime, timedelta\n",
    "import numpy as np\n",
    "\n",
    "from Artha.trading import *\n",
    "\n",
    "import chart_studio.plotly as py\n",
    "import plotly.graph_objs as go\n",
    "from plotly.offline import init_notebook_mode, plot, iplot"
   ]
  },
  {
   "cell_type": "code",
   "execution_count": 2,
   "metadata": {},
   "outputs": [],
   "source": [
    "# download multiple data at once\n",
    "markets = get_quote_dict()\n",
    "btc_markets = [tick+asset for asset in list(markets.keys())[:1] for tick in markets[asset]]\n",
    "concurrent_download_klines(btc_markets[1:15], \"03/01/2021 00:00:00\")"
   ]
  },
  {
   "cell_type": "code",
   "execution_count": null,
   "metadata": {},
   "outputs": [],
   "source": [
    "# streams"
   ]
  },
  {
   "cell_type": "code",
   "execution_count": null,
   "metadata": {},
   "outputs": [],
   "source": [
    "async def single(name):\n",
    "    client = await AsyncClient.create()\n",
    "    bm = BinanceSocketManager(client, user_timeout = 20)\n",
    "    # start any sockets here, i.e a trade socket\n",
    "    ts = bm.kline_socket(name, interval=\"5m\")\n",
    "    # then start receiving messages\n",
    "    async with ts as tscm:\n",
    "        while True:\n",
    "            res = await tscm.recv()\n",
    "            print(res)\n",
    "   \n",
    "    await client.close_connection()\n",
    "\n",
    "async def multiple (asset_names):\n",
    "    client = await AsyncClient.create()\n",
    "    bm = BinanceSocketManager(client, user_timeout = 20)\n",
    "    # start any sockets here, i.e a trade socket\n",
    "    ms = bm.multiplex_socket(asset_names)\n",
    "    # then start receiving messages\n",
    "    async with ms as tscm:\n",
    "        while True:\n",
    "            res = await tscm.recv()\n",
    "            print(res[\"data\"][\"k\"])\n",
    "   \n",
    "    await client.close_connection()"
   ]
  },
  {
   "cell_type": "code",
   "execution_count": null,
   "metadata": {},
   "outputs": [],
   "source": [
    "import Artha.crypto_data as crypto\n",
    "markets = crypto.get_market_dict()\n",
    "print(\"BTC\" in [markets.keys()])\n",
    "print(\"BTC\" in [i for i in crypto.get_invert_dict(markets).keys()])\n",
    "s_type = \"@kline_5m\"\n",
    "btc_markets = [(tick+asset+s_type).lower() for asset in list(markets.keys())[:1] for tick in markets[asset]]"
   ]
  },
  {
   "cell_type": "code",
   "execution_count": null,
   "metadata": {
    "tags": []
   },
   "outputs": [],
   "source": [
    "loop = asyncio.get_event_loop()\n",
    "loop.run_until_complete(multiple(btc_markets[:3]))\n",
    "print(\"done\")"
   ]
  },
  {
   "cell_type": "code",
   "execution_count": null,
   "metadata": {},
   "outputs": [],
   "source": [
    "symbol = 'BNBBTC'\n",
    "\n",
    "twm = ThreadedWebsocketManager(api_key=key, api_secret=secret)\n",
    "# start is required to initialise its internal loop\n",
    "twm.start()\n",
    "\n",
    "def handle_socket_message(msg):\n",
    "    print(f\"message type: {msg['e']}\")\n",
    "    print(msg)\n",
    "\n",
    "twm.start_kline_socket(callback=handle_socket_message, symbol=symbol)\n",
    "\n",
    "# multiple sockets can be started\n",
    "twm.start_depth_socket(callback=handle_socket_message, symbol=symbol)\n",
    "\n",
    "# or a multiplex socket can be started like this\n",
    "# see Binance docs for stream names\n",
    "streams = ['BNBBTC@miniTicker', 'BNBBTC@bookTicker']\n",
    "twm.start_multiplex_socket(callback=handle_socket_message, streams=streams)"
   ]
  },
  {
   "cell_type": "code",
   "execution_count": null,
   "metadata": {},
   "outputs": [],
   "source": []
  },
  {
   "cell_type": "code",
   "execution_count": null,
   "metadata": {},
   "outputs": [],
   "source": [
    "# incorporated social media data\n",
    "start_date, window_count = \"03/01/2021 00:00:00\", 63\n",
    "\n",
    "dates = [from_datetime(to_datetime(start_date)+timedelta(days=i)) for i in range(window_count)]\n",
    "\n",
    "pdrank = pd.read_csv(\"pgrankdata.csv\")\n",
    "pdrank['Date'] = pd.to_datetime(pdrank['Unnamed: 0'])\n",
    "pdrank = pdrank.set_index(\"Date\").drop(['Unnamed: 0'], axis = 1)\n",
    "\n",
    "i = 0\n",
    "ticker = \"DOGE\"\n",
    "\n",
    "while i<len(dates)-1:\n",
    "    if pdrank[ticker][i]!=0:\n",
    "        di = pdrank[ticker][i+1]/pdrank[ticker][i]\n",
    "        if di> 1.1:\n",
    "            print(i, di, pdrank[ticker][i+1], pdrank[ticker][i])\n",
    "            print(pdrank[ticker].index[i+1])\n",
    "    else:\n",
    "        if pdrank[ticker][i+1] > 0:\n",
    "            print(\"new\", i, pdrank[ticker][i+1])\n",
    "    i+=1"
   ]
  },
  {
   "cell_type": "code",
   "execution_count": null,
   "metadata": {},
   "outputs": [],
   "source": [
    "# direct from neo\n",
    "\n",
    "inc = 32\n",
    "wind = 30\n",
    "\n",
    "if ticker == \"BTC\":\n",
    "    asset = ticker+\"USDT\"\n",
    "else:\n",
    "    asset = ticker+\"BTC\"\n",
    "\n",
    "interval = '2h'\n",
    "newest, oldest = pdrank[ticker].index[inc-wind: inc+wind][-1].to_pydatetime().timestamp() * 1000, pdrank[ticker].index[inc-wind: inc+wind][0].to_pydatetime().timestamp() * 1000, \n",
    "df = crypto.get_klines_df(asset, interval, str(oldest), str(newest))\n",
    "df.keys()\n",
    "\n",
    "\n",
    "plt.rcParams['figure.figsize'] = [10, 5]\n",
    "ts = df[\"Volume\"].astype(float) #.pct_change()\n",
    "\n",
    "fig, ax1 = plt.subplots()\n",
    "ax2 = ax1.twinx()\n",
    "\n",
    "\n",
    "ax1.plot(pdrank[ticker].index[inc-wind: inc+wind], pdrank[ticker][inc-wind: inc+wind], color='b')\n",
    "\n",
    "ax2.plot(ts.index, ts, color='g')\n",
    "\n",
    "ax1.set_xlabel('Time')\n",
    "ax1.set_ylabel(ticker+\" PageRank Score\", color='b')\n",
    "ax2.set_ylabel(ticker +\" Price\", color='g')\n",
    "# plt.plot([inc]*2, range(-1,1))\n",
    "plt.title(asset+\" \"+from_datetime(pdrank[ticker].index[inc].to_pydatetime())[:-9])\n",
    "plt.gcf().autofmt_xdate()"
   ]
  }
 ]
}