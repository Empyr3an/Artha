{
 "metadata": {
  "language_info": {
   "codemirror_mode": {
    "name": "ipython",
    "version": 3
   },
   "file_extension": ".py",
   "mimetype": "text/x-python",
   "name": "python",
   "nbconvert_exporter": "python",
   "pygments_lexer": "ipython3",
   "version": "3.7.6-final"
  },
  "orig_nbformat": 2,
  "kernelspec": {
   "name": "python376jvsc74a57bd0336ff5ee2c1e0e67b5ec251f9bb85714e66dde2cea2c3ccd73e788234e60283a",
   "display_name": "Python 3.7.6 64-bit ('artha@3.7.6')"
  }
 },
 "nbformat": 4,
 "nbformat_minor": 2,
 "cells": [
  {
   "cell_type": "code",
   "execution_count": 1,
   "metadata": {},
   "outputs": [],
   "source": [
    "%%time\n",
    "import inspect\n",
    "currentdir = os.path.dirname(os.path.abspath(inspect.getfile(inspect.currentframe())))\n",
    "parentdir = os.path.dirname(currentdir)\n",
    "os.sys.path.insert(0,parentdir) \n",
    "\n",
    "\n",
    "from Artha.nlp_extraction import *\n",
    "import Artha.data_process as dp\n",
    "from Artha.neocoinsdb import Neo\n",
    "import Artha.crypto_data as crypto\n",
    "from tqdm import tqdm\n",
    "import csv\n",
    "import json\n",
    "from collections import Counter\n",
    "import numpy as np\n",
    "np.set_printoptions(suppress=True)\n",
    "import pprint\n",
    "import math\n",
    "from datetime import datetime\n",
    "\n",
    "pp = pprint.PrettyPrinter(indent=1)\n",
    "\n",
    "# coins database\n",
    "neo = Neo(\"neo4j://localhost:7687\", \"neo4j\", \"part2\")"
   ]
  },
  {
   "cell_type": "code",
   "execution_count": 2,
   "metadata": {},
   "outputs": [
    {
     "output_type": "stream",
     "name": "stdout",
     "text": [
      "402 0\n"
     ]
    }
   ],
   "source": [
    "print(len(neo.get_nodes()), len(neo.get_relations()))"
   ]
  },
  {
   "cell_type": "code",
   "execution_count": 3,
   "metadata": {},
   "outputs": [
    {
     "output_type": "execute_result",
     "data": {
      "text/plain": [
       "'Deleted'"
      ]
     },
     "metadata": {},
     "execution_count": 3
    }
   ],
   "source": [
    "neo.clear_db()"
   ]
  },
  {
   "cell_type": "code",
   "execution_count": 4,
   "metadata": {},
   "outputs": [
    {
     "output_type": "stream",
     "name": "stdout",
     "text": [
      "Updated coins\n"
     ]
    }
   ],
   "source": [
    "neo.load_coins_data()"
   ]
  },
  {
   "cell_type": "code",
   "execution_count": 6,
   "metadata": {},
   "outputs": [
    {
     "output_type": "stream",
     "name": "stdout",
     "text": [
      "CPU times: user 2.53 s, sys: 164 ms, total: 2.69 s\nWall time: 4.75 s\n"
     ]
    }
   ],
   "source": [
    "%%time\n",
    "# username = \"BTC_JackSparrow\"\n",
    "# username = \"razoreth\"\n",
    "# username = \"Nostranomist\"\n",
    "\n",
    "username = \"CryptoKaleo\"\n",
    "docs = run_pipeline(username)\n",
    "mentions = get_mention_scores(username, docs)"
   ]
  },
  {
   "cell_type": "code",
   "execution_count": 8,
   "metadata": {},
   "outputs": [
    {
     "output_type": "stream",
     "name": "stderr",
     "text": [
      "1157it [00:00, 28701.77it/s]CPU times: user 67 ms, sys: 4.24 ms, total: 71.3 ms\n",
      "Wall time: 70.9 ms\n",
      "\n"
     ]
    }
   ],
   "source": [
    "%%time\n",
    "\n",
    "mentions = np.zeros((len(tick_dict), len(docs)))\n",
    "\n",
    "# fill in values of dict lists where ticker is mentioned\n",
    "for ind, doc in tqdm(enumerate(docs)):\n",
    "    for tick in doc._.tickers:\n",
    "        mentions[tick_dict[tick]][ind] += 1\n",
    "\n",
    "# function of array of tweet times\n",
    "tweet_times = db.expo_func(np.array([dp.time_diff(doc._.tweeted_at) for doc in docs]).reshape((len(docs),1)))\n",
    "\n",
    "# multiply matrix of mentions by time vector\n",
    "mul = np.matmul(mentions, tweet_times).round(5).reshape(1, len(all_ticks))[0]\n",
    "\n",
    "# list of edges to add\n",
    "mention_edges = list(zip([username] * len(docs), list(tick_dict.keys()), mul))\n",
    "\n",
    "# write edges\n",
    "with open('mentions1.csv','w+') as out:\n",
    "    csv_out=csv.writer(out)\n",
    "    csv_out.writerow(['username', 'coin', 'weight'])\n",
    "    for row in mention_edges:\n",
    "        csv_out.writerow(row)"
   ]
  }
 ]
}