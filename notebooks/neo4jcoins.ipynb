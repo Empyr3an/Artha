{
 "metadata": {
  "language_info": {
   "codemirror_mode": {
    "name": "ipython",
    "version": 3
   },
   "file_extension": ".py",
   "mimetype": "text/x-python",
   "name": "python",
   "nbconvert_exporter": "python",
   "pygments_lexer": "ipython3",
   "version": "3.7.6-final"
  },
  "orig_nbformat": 2,
  "kernelspec": {
   "name": "python376jvsc74a57bd0336ff5ee2c1e0e67b5ec251f9bb85714e66dde2cea2c3ccd73e788234e60283a",
   "display_name": "Python 3.7.6 64-bit ('artha@3.7.6')"
  }
 },
 "nbformat": 4,
 "nbformat_minor": 2,
 "cells": [
  {
   "cell_type": "code",
   "execution_count": null,
   "metadata": {},
   "outputs": [],
   "source": [
    "import inspect\n",
    "currentdir = os.path.dirname(os.path.abspath(inspect.getfile(inspect.currentframe())))\n",
    "parentdir = os.path.dirname(currentdir)\n",
    "os.sys.path.insert(0,parentdir) \n",
    "\n",
    "\n",
    "from Artha.nlp_extraction import *\n",
    "import Artha.data_process as dp\n",
    "from Artha.neocoinsdb import Neo\n",
    "import Artha.crypto_data as crypto\n",
    "from tqdm import tqdm\n",
    "import csv\n",
    "import json\n",
    "from collections import Counter\n",
    "import numpy as np\n",
    "np.set_printoptions(suppress=True)\n",
    "import pprint\n",
    "import math\n",
    "from datetime import datetime\n",
    "\n",
    "pp = pprint.PrettyPrinter(indent=1)\n",
    "\n",
    "# coins database\n",
    "neo = Neo(\"neo4j://localhost:7687\", \"neo4j\", \"part2\")"
   ]
  },
  {
   "cell_type": "code",
   "execution_count": null,
   "metadata": {},
   "outputs": [],
   "source": [
    "print(len(neo.get_nodes()), len(neo.get_relations()))"
   ]
  },
  {
   "cell_type": "code",
   "execution_count": null,
   "metadata": {},
   "outputs": [],
   "source": [
    "neo.clear_db()"
   ]
  },
  {
   "cell_type": "code",
   "execution_count": null,
   "metadata": {},
   "outputs": [],
   "source": [
    "neo.load_coins_data()"
   ]
  },
  {
   "cell_type": "code",
   "execution_count": null,
   "metadata": {},
   "outputs": [],
   "source": [
    "%%time\n",
    "markets = crypto.get_market_dict()\n",
    "inv_markets = crypto.get_invert_dict(markets)"
   ]
  },
  {
   "cell_type": "code",
   "execution_count": null,
   "metadata": {},
   "outputs": [],
   "source": [
    "%%time\n",
    "# username = \"BTC_JackSparrow\"\n",
    "# username = \"razoreth\"\n",
    "# username = \"Nostranomist\"\n",
    "username = \"CryptoKaleo\"\n",
    "docs = run_pipeline(username)\n",
    "all_ticks = Counter([tick for doc in docs for tick in doc._.tickers ]).most_common()\n",
    "just_ticks = [i[0] for i in all_ticks]"
   ]
  },
  {
   "cell_type": "code",
   "execution_count": null,
   "metadata": {},
   "outputs": [],
   "source": [
    "%%time\n",
    "# construct empty dicts\n",
    "def time_diff(date_string):\n",
    "    time = datetime.now() - datetime.strptime(date_string, '%m/%d/%Y %H:%M:%S')\n",
    "    return time.days + (time.seconds+time.microseconds/(10**6))/86400\n",
    "def expo_func(x):\n",
    "    return np.exp(-.08*x)\n",
    "\n",
    "\n",
    "\n",
    "tick_dict = dict(zip(just_ticks, np.arange(len(just_ticks))))\n",
    "\n",
    "mentions = np.zeros((len(tick_dict), len(docs)))\n",
    "\n",
    "# fill in values of dict lists where ticker is mentioned\n",
    "for ind, doc in tqdm(enumerate(docs)):\n",
    "    for tick in doc._.tickers:\n",
    "        mentions[tick_dict[tick]][ind] += 1\n",
    "\n",
    "# function of array of tweet times\n",
    "tweet_times = expo_func(np.array([time_diff(doc._.tweeted_at) for doc in docs]).reshape((len(docs),1)))\n",
    "\n",
    "# multiply matrix of mentions by time vector\n",
    "mul = np.matmul(mentions, tweet_times).round(5).reshape(1, len(all_ticks))[0]"
   ]
  },
  {
   "cell_type": "code",
   "execution_count": null,
   "metadata": {},
   "outputs": [],
   "source": []
  }
 ]
}