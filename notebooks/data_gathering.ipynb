{
 "metadata": {
  "language_info": {
   "codemirror_mode": {
    "name": "ipython",
    "version": 3
   },
   "file_extension": ".py",
   "mimetype": "text/x-python",
   "name": "python",
   "nbconvert_exporter": "python",
   "pygments_lexer": "ipython3",
   "version": "3.7.6"
  },
  "orig_nbformat": 2,
  "kernelspec": {
   "name": "python376jvsc74a57bd050692dee8d60b45dc70f605c3c7f11300c905f349bdb5557a748ab90862af84a",
   "display_name": "Python 3.7.6 64-bit ('artha@3.7.6': pyenv)"
  }
 },
 "nbformat": 4,
 "nbformat_minor": 2,
 "cells": [
  {
   "source": [
    "import requests\n",
    "import json\n",
    "import time\n",
    "import itertools\n",
    "import os\n",
    "from tqdm import tqdm\n",
    "import sqlite3\n",
    "import datetime\n",
    "import pickle\n",
    "import inspect\n",
    "currentdir = os.path.dirname(os.path.abspath(inspect.getfile(inspect.currentframe())))\n",
    "parentdir = os.path.dirname(currentdir)\n",
    "os.sys.path.insert(0,parentdir) \n",
    "\n",
    "import Artha.twitter\n",
    "import config as c\n",
    "from Artha.twitter import TwitterAPI, TSQLite\n",
    "\n",
    "checkra = TwitterAPI(username = \"checkra_\", bearer_token = c.c_bearer, key = c.c_key, secret = c.c_secret, token = c.c_token, token_secret = c.c_token_secret)\n",
    "print(checkra.id,\"done\")"
   ],
   "cell_type": "code",
   "metadata": {},
   "execution_count": null,
   "outputs": []
  },
  {
   "cell_type": "code",
   "execution_count": null,
   "metadata": {},
   "outputs": [],
   "source": [
    "# all_follows = checkra.get_following1(\"checkra_\")\n",
    "# with open(\"full_follow_list.txt\", \"wb\") as fp: # total backup\n",
    "#     pickle.dump(all_follows, fp)\n",
    "# print(len(all_follows), all_follows[0])\n",
    "# with open(\"people_left.txt\", \"rb\") as fp:   # load progress\n",
    "#     all_follows = pickle.load(fp)\n",
    "# len(all_follows)\n",
    "# with open(\"people_left.txt\", \"wb\") as fp:  #save progress\n",
    "    # pickle.dump(all_follows, fp)"
   ]
  },
  {
   "cell_type": "code",
   "execution_count": null,
   "metadata": {},
   "outputs": [],
   "source": [
    "# people not included in databases\n",
    "# all_follows.remove(\"259771124\")\n",
    "# all_follows.remove(\"745273\")\n",
    "# all_follows.remove(\"1354228711466426369\")"
   ]
  },
  {
   "cell_type": "code",
   "execution_count": null,
   "metadata": {},
   "outputs": [],
   "source": [
    "# process to take list of users, and get everyone that they follow\n",
    "# bugs include breaking for people who follow 0 people\n",
    "index = 0\n",
    "# all_follows = checkra.get_following1(\"checkra_\")\n",
    "while len(all_follows)>0:\n",
    "    cur_id = all_follows[0]\n",
    "    cur_user = checkra.user_lookup(cur_id)[\"username\"]\n",
    "\n",
    "    if cur_user not in [db[1:-3] for db in os.listdir(\"../data/users\")]:\n",
    "        print(\"try 1\", index, cur_user)\n",
    "        user_follows = checkra.get_following1(cur_user)\n",
    "        if isinstance(user_follows, int):  #check if too many requests\n",
    "            print(\"try 2\")\n",
    "            user_follows = checkra.get_following2(cur_user)\n",
    "            if isinstance(user_follows, int):  #check if too many requests\n",
    "                print(\"Too many requests\")\n",
    "                time.sleep(420)\n",
    "                continue\n",
    "        follows_data = checkra.multiple_user_lookup(user_follows, ['id', 'name', 'username'])\n",
    "        if isinstance(follows_data, int):\n",
    "            print(\"too many req for multi_user\")\n",
    "            time.sleep(30)\n",
    "            continue\n",
    "        else:\n",
    "            print(\"got follows for\", cur_user)\n",
    "\n",
    "        try:\n",
    "            conn = sqlite3.connect(\"../data/users/u\" + cur_user +  \".db\")\n",
    "            TSQLite.premaid_follow_table(conn, follows_data)\n",
    "            print(\"db & removed\", cur_user)\n",
    "            all_follows.remove(cur_id)\n",
    "            index += 1\n",
    "        except Exception as e:\n",
    "            print(e)\n",
    "            break\n",
    "        time.sleep(5)\n",
    "        # index+=1\n",
    "\n",
    "    else:  #if user's database already exists\n",
    "        # index += 1\n",
    "        print(\"exists, removed\", cur_user)\n",
    "        all_follows.remove(cur_id)\n"
   ]
  },
  {
   "cell_type": "code",
   "execution_count": null,
   "metadata": {},
   "outputs": [],
   "source": [
    "rates = checkra.rate_limits()[\"resources\"]\n",
    "for key in rates[\"friends\"].keys():\n",
    "    print(\"Remaining:\", rates[\"friends\"][key][\"remaining\"], \"Time:\", datetime.datetime.fromtimestamp(rates[\"friends\"][key][\"reset\"]), key)"
   ]
  }
 ]
}