{
 "metadata": {
  "language_info": {
   "codemirror_mode": {
    "name": "ipython",
    "version": 3
   },
   "file_extension": ".py",
   "mimetype": "text/x-python",
   "name": "python",
   "nbconvert_exporter": "python",
   "pygments_lexer": "ipython3",
   "version": "3.7.6"
  },
  "orig_nbformat": 2,
  "kernelspec": {
   "name": "python376jvsc74a57bd050692dee8d60b45dc70f605c3c7f11300c905f349bdb5557a748ab90862af84a",
   "display_name": "Python 3.7.6 64-bit ('artha@3.7.6': pyenv)"
  }
 },
 "nbformat": 4,
 "nbformat_minor": 2,
 "cells": [
  {
   "cell_type": "code",
   "execution_count": null,
   "metadata": {},
   "outputs": [],
   "source": [
    "import inspect\n",
    "currentdir = os.path.dirname(os.path.abspath(inspect.getfile(inspect.currentframe())))\n",
    "parentdir = os.path.dirname(currentdir)\n",
    "os.sys.path.insert(0,parentdir) \n",
    "\n",
    "import Artha.neodb\n",
    "from Artha.neodb import Neo\n",
    "import sqlite3\n",
    "from tqdm import tqdm\n",
    "import csv\n",
    "\n",
    "neo = Neo(\"neo4j://localhost:7687\", \"neo4j\", \"part2\")\n",
    "conn = sqlite3.connect(\"../data/ucheckra_.db\")\n",
    "conn.row_factory = neo.dict_factory\n",
    "checkra_follows = conn.cursor().execute(\"select * from following\").fetchall()\n",
    "print(\"done\")"
   ]
  },
  {
   "source": [
    "print(len(neo.get_nodes()), len(neo.get_relations()))"
   ],
   "cell_type": "code",
   "metadata": {
    "tags": []
   },
   "execution_count": null,
   "outputs": []
  },
  {
   "cell_type": "code",
   "execution_count": null,
   "metadata": {},
   "outputs": [],
   "source": [
    "# neo.clear_db()"
   ]
  },
  {
   "cell_type": "code",
   "execution_count": null,
   "metadata": {},
   "outputs": [],
   "source": [
    "nodes = neo.load_csv_data(\"checkra_\")\n",
    "\n",
    "print(nodes.data()[0][\"count(r)\"])\n",
    "print(len(neo.get_nodes()), len(neo.get_relations()))"
   ]
  },
  {
   "cell_type": "code",
   "execution_count": null,
   "metadata": {},
   "outputs": [],
   "source": [
    "for user in tqdm(checkra_follows[]):\n",
    "    print(\"\\n\" + user['username']+\"\\n\")\n",
    "    nodes = neo.load_csv_data(user[\"username\"])\n",
    "    if nodes ==-1:\n",
    "        print(\"\\n 0 following \\n\")\n",
    "    else:\n",
    "        print(\"\\n\"+str(nodes.data()[0][\"count(r)\"])+\"\\n\")"
   ]
  }
 ]
}