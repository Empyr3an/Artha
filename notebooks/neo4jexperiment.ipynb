{
 "metadata": {
  "language_info": {
   "codemirror_mode": {
    "name": "ipython",
    "version": 3
   },
   "file_extension": ".py",
   "mimetype": "text/x-python",
   "name": "python",
   "nbconvert_exporter": "python",
   "pygments_lexer": "ipython3",
   "version": "3.7.6"
  },
  "orig_nbformat": 2,
  "kernelspec": {
   "name": "python376jvsc74a57bd050692dee8d60b45dc70f605c3c7f11300c905f349bdb5557a748ab90862af84a",
   "display_name": "Python 3.7.6 64-bit ('artha@3.7.6': pyenv)"
  }
 },
 "nbformat": 4,
 "nbformat_minor": 2,
 "cells": [
  {
   "cell_type": "code",
   "execution_count": null,
   "metadata": {},
   "outputs": [],
   "source": [
    "import inspect\n",
    "currentdir = os.path.dirname(os.path.abspath(inspect.getfile(inspect.currentframe())))\n",
    "parentdir = os.path.dirname(currentdir)\n",
    "os.sys.path.insert(0,parentdir) \n",
    "\n",
    "import Artha.neo\n",
    "from Artha.neo import Neo\n",
    "import sqlite3\n",
    "from tqdm import tqdm\n",
    "import csv\n",
    "\n",
    "\n",
    "def dict_factory(cursor, row):\n",
    "    d = {}\n",
    "    for idx, col in enumerate(cursor.description):\n",
    "        d[col[0]] = str(row[idx])\n",
    "    return d\n",
    "\n",
    "neo = Neo(\"neo4j://localhost:7687\", \"neo4j\", \"part2\")\n",
    "conn = sqlite3.connect(\"../data/ucheckra_.db\")\n",
    "conn.row_factory = dict_factory\n",
    "checkra_follows = conn.cursor().execute(\"select * from following\").fetchall()\n",
    "path = \"/Users/harshasomisetty/Library/Application Support/com.Neo4j.Relate/Data/dbmss/dbms-8c0b6b9b-8405-42f7-aee7-4bff9bf1d898/import/follows.csv\"\n",
    "print(\"done\")"
   ]
  },
  {
   "source": [
    "print(len(neo.get_nodes()), len(neo.get_relations()))"
   ],
   "cell_type": "code",
   "metadata": {
    "tags": []
   },
   "execution_count": null,
   "outputs": []
  },
  {
   "cell_type": "code",
   "execution_count": null,
   "metadata": {},
   "outputs": [],
   "source": [
    "for record in neo.get_nodes():\n",
    "    print(record[\"username\"])"
   ]
  },
  {
   "cell_type": "code",
   "execution_count": null,
   "metadata": {},
   "outputs": [],
   "source": [
    "neo.clear_db()"
   ]
  },
  {
   "cell_type": "code",
   "execution_count": null,
   "metadata": {},
   "outputs": [],
   "source": [
    "def user_edges(username, location = \"../data/users\"):\n",
    "    conn_temp = sqlite3.connect(location+f\"/u{username}.db\")\n",
    "    conn_temp.row_factory = dict_factory\n",
    "\n",
    "    try:\n",
    "        temp_follows = conn_temp.cursor().execute(\"select * from following\").fetchall()\n",
    "    except:\n",
    "        return -1\n",
    "    else:\n",
    "        for i in temp_follows:\n",
    "            i[\"followed_by\"] = username\n",
    "        with open(path, \"w+\") as csvfile:\n",
    "            writer = csv.DictWriter(csvfile, fieldnames = [\"id\", \"name\", \"username\", \"followed_by\"])\n",
    "            writer.writeheader()\n",
    "            writer.writerows(temp_follows)\n",
    "            if username == \"checkra_\":\n",
    "                neo.session.run(\n",
    "                        \"Merge (n:Person {username: 'checkra_'})\"\n",
    "                        \"ON CREATE SET n.id ='1356259499431129092', n.name = 'Checkra', n.username = 'checkra_'\")\n",
    "            result = neo.session.run(\n",
    "                        \"LOAD CSV WITH HEADERS FROM 'file:/follows.csv' AS row \"\n",
    "                        \"MERGE (n:Person {id:row.id}) \"\n",
    "                        \"ON CREATE SET n.id = row.id, n.name=row.name, n.username=row.username \"\n",
    "                        \"return n\"\n",
    "                        # \"WITH n, row \"\n",
    "                        # \"Match (m:Person {username: row.followed_by}) \"\n",
    "                        # \"MERGE (m)-[:FOLLOWS]->(n) \"\n",
    "                        # \"return n, m\"\n",
    "                        )\n",
    "            \n",
    "\n",
    "        # neo.session.run(\"USING PERIODIC COMMIT \"\n",
    "        #                 \"LOAD CSV WITH HEADERS FROM 'file:/follows.csv' AS row \"\n",
    "        #                 \"MATCH (n:Person), (m:Person) \"\n",
    "        #                 \"WHERE n.username = $username \"\n",
    "        #                 \"AND m.username = row.name \"\n",
    "        #                 \"MERGE (n)-[:FOLLOWS]->(m)\",\n",
    "        #                 # \"RETURN n.username, m.username\",\n",
    "        #                 # \"MERGE (n:Person {name: $username})-[:FOLLOWS]->(m:Person {name:row.name})\",\n",
    "        #                 username = username\n",
    "        #                 )\n",
    "\n",
    "        return result\n",
    "\n",
    "# num = user_edges(\"checkra_\", location = \"../data\")\n",
    "num = user_edges(\"Ninjascalp\")\n",
    "records = [record for record in num]\n",
    "print(\"done\", len(records))"
   ]
  },
  {
   "cell_type": "code",
   "execution_count": null,
   "metadata": {
    "tags": []
   },
   "outputs": [],
   "source": [
    "for record in records:\n",
    "    print(record[\"n\"][\"name\"], record[\"m\"][\"name\"], )"
   ]
  },
  {
   "cell_type": "code",
   "execution_count": null,
   "metadata": {
    "tags": []
   },
   "outputs": [],
   "source": [
    "conn_temp = sqlite3.connect(\"../data/users/uBrianRoemmele.db\")\n",
    "conn_temp.row_factory = dict_factory\n",
    "\n",
    "\n",
    "temp_follows = conn_temp.cursor().execute(\"select id, name, username from following\").fetchall()\n",
    "\n",
    "    # with open(path, \"w+\") as csvfile:\n",
    "    #     writer = csv.DictWriter(csvfile, fieldnames = [\"id\", \"name\", \"username\", \"by\"])\n",
    "    #     writer.writeheader()\n",
    "    #     writer.writerows(temp_follows)"
   ]
  },
  {
   "cell_type": "code",
   "execution_count": null,
   "metadata": {},
   "outputs": [],
   "source": [
    "%%time\n",
    "temp_follows = conn_temp.cursor().execute(\"select id, name, username from following\").fetchall()\n",
    "\n",
    "\n",
    "    "
   ]
  },
  {
   "source": [
    "%%time\n",
    "\n",
    "num = user_edges(\"Ninjascalp\")\n",
    "print(\"done\", \"Ninjascalp\", num)\n",
    "# for user in tqdm(checkra_follows):\n",
    "#     num = user_edges(user[\"username\"])\n",
    "#     print(\"done\", user[\"username\"], num)"
   ],
   "cell_type": "code",
   "metadata": {
    "tags": []
   },
   "execution_count": null,
   "outputs": []
  },
  {
   "cell_type": "code",
   "execution_count": null,
   "metadata": {},
   "outputs": [],
   "source": [
    "checkra_follows[:15]"
   ]
  },
  {
   "cell_type": "code",
   "execution_count": null,
   "metadata": {},
   "outputs": [],
   "source": []
  },
  {
   "cell_type": "code",
   "execution_count": null,
   "metadata": {},
   "outputs": [],
   "source": [
    "import os\n",
    "os.listdir()"
   ]
  },
  {
   "cell_type": "code",
   "execution_count": null,
   "metadata": {},
   "outputs": [],
   "source": [
    "os.listdir(\"/Users/harshasomisetty/\")"
   ]
  },
  {
   "cell_type": "code",
   "execution_count": null,
   "metadata": {},
   "outputs": [],
   "source": [
    "os.getcwd()"
   ]
  },
  {
   "cell_type": "code",
   "execution_count": null,
   "metadata": {},
   "outputs": [],
   "source": []
  }
 ]
}