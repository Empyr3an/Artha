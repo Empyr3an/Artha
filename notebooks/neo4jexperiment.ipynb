{
 "metadata": {
  "language_info": {
   "codemirror_mode": {
    "name": "ipython",
    "version": 3
   },
   "file_extension": ".py",
   "mimetype": "text/x-python",
   "name": "python",
   "nbconvert_exporter": "python",
   "pygments_lexer": "ipython3",
   "version": "3.7.6"
  },
  "orig_nbformat": 2,
  "kernelspec": {
   "name": "python376jvsc74a57bd0336ff5ee2c1e0e67b5ec251f9bb85714e66dde2cea2c3ccd73e788234e60283a",
   "display_name": "Python 3.7.6 64-bit",
   "language": "python"
  }
 },
 "nbformat": 4,
 "nbformat_minor": 2,
 "cells": [
  {
   "cell_type": "code",
   "execution_count": 1,
   "metadata": {},
   "outputs": [],
   "source": [
    "from neo4j import GraphDatabase\n",
    "import sqlite3\n",
    "\n"
   ]
  },
  {
   "cell_type": "code",
   "execution_count": null,
   "metadata": {},
   "outputs": [],
   "source": [
    "currentdir = os.path.dirname(os.path.abspath(inspect.getfile(inspect.currentframe())))\n",
    "parentdir = os.path.dirname(currentdir)\n",
    "os.sys.path.insert(0,parentdir) \n",
    "import Artha.neo\n",
    "from Artha.neo import Neo\n",
    "\n",
    "uri = \"neo4j://localhost:7687\"\n",
    "driver = GraphDatabase.driver(uri, auth=(\"neo4j\", \"part2\"))\n",
    "\n",
    "neo = Neo(uri, \"neo4j\", \"part2\")"
   ]
  },
  {
   "cell_type": "code",
   "execution_count": 2,
   "metadata": {},
   "outputs": [],
   "source": [
    "def dict_factory(cursor, row):\n",
    "    d = {}\n",
    "    for idx, col in enumerate(cursor.description):\n",
    "        d[col[0]] = str(row[idx])\n",
    "    return d\n",
    "\n"
   ]
  },
  {
   "cell_type": "code",
   "execution_count": 3,
   "metadata": {},
   "outputs": [],
   "source": [
    "conn = sqlite3.connect(\"../data/ucheckra_.db\")\n",
    "conn.row_factory = dict_factory\n",
    "checkra_follows = conn.cursor().execute(\"select * from following\").fetchall()"
   ]
  },
  {
   "cell_type": "code",
   "execution_count": 59,
   "metadata": {},
   "outputs": [],
   "source": [
    "# add original follows\n",
    "for d in checkra_follows[:10]:\n",
    "    create_node(session, d)\n",
    "\n"
   ]
  },
  {
   "cell_type": "code",
   "execution_count": 128,
   "metadata": {},
   "outputs": [
    {
     "output_type": "stream",
     "name": "stdout",
     "text": [
      "{'n.username': 'Ninjascalp', 'm.username': 'MuazCoin'}\n"
     ]
    }
   ],
   "source": [
    "def create_connection(session, from_id, to_id):\n",
    "    result = session.run(\"match (n:Person {id: $from_id}), (m:Person {id: $to_id})\"\n",
    "                         \"merge (n)-[:Follows]- (m)\",\n",
    "                         \"return n.username, m.username\",\n",
    "                         from_id = from_id, to_id = to_id)\n",
    "\n",
    "    print(result.data()[0])\n",
    "# create_node(session, {'id': '946156845026115584', 'name': 'Muaz', 'username': 'MuazCoin'})\n",
    "create_connection(session, str(943958987556507653), str(946156845026115584))"
   ]
  },
  {
   "cell_type": "code",
   "execution_count": 126,
   "metadata": {},
   "outputs": [
    {
     "output_type": "stream",
     "name": "stdout",
     "text": [
      "('Ninja', 'Follows', 'cevo')\n"
     ]
    }
   ],
   "source": [
    "\n",
    "\n",
    "gen = check_connection(session, str(943958987556507653), str(1962290894))\n",
    "if next(gen):\n",
    "    print(next(gen))\n",
    "else:\n",
    "    print(\"not a relation\")"
   ]
  },
  {
   "source": [
    "def user_edges(session, username):\n",
    "    conn_temp = sqlite3.connect(f\"../data/users/u{username}.db\")\n",
    "    conn_temp.row_factory = dict_factory\n",
    "    temp_follows = conn_temp.cursor().execute(\"select * from following\").fetchall()\n",
    "    for d in temp_follows:\n",
    "        create_node(session, d)\n",
    "        create_connection(session)\n",
    "        \n",
    "user_edges(session, \"Ninjascalp\")"
   ],
   "cell_type": "code",
   "metadata": {
    "tags": []
   },
   "execution_count": 78,
   "outputs": [
    {
     "output_type": "stream",
     "name": "stdout",
     "text": [
      "{'id': '1962290894', 'name': 'cevo', 'username': 'cryptocevo'}\n{'id': '946156845026115584', 'name': 'Muaz', 'username': 'MuazCoin'}\n{'id': '1184226678870028289', 'name': 'ExoCharts.com', 'username': 'ExochartsC'}\n{'id': '1073132650309726208', 'name': 'CL', 'username': 'CL207'}\n{'id': '1039833297751302144', 'name': 'Whale Alert', 'username': 'whale_alert'}\n{'id': '1364691158643965953', 'name': 'pepe', 'username': 'PepeXBT'}\n{'id': '1181494351031083008', 'name': 'Joe007 signals·alerts·funds are scams, all of them', 'username': 'J0E007'}\n{'id': '1368261032066621588', 'name': '𝕀𝕟𝕊𝕚𝕝𝕚𝕔𝕠', 'username': 'insiliconot'}\n{'id': '535241898', 'name': 'whisper trader', 'username': 'cryptoWhisper'}\n{'id': '827237880300974081', 'name': 'BitBit.FullSend', 'username': 'BitBitCrypto'}\n{'id': '1566114613', 'name': 'SalsaTekila', 'username': 'SalsaTekila'}\n{'id': '1650876864', 'name': 'Trizzy', 'username': 'ImTrizzy'}\n{'id': '982257333278457858', 'name': 'Gone Broke', 'username': 'gonebroke_'}\n{'id': '2603525726', 'name': 'LOOMDART THE FREED', 'username': 'loomdart'}\n{'id': '809191427645181952', 'name': 'Flood', 'username': 'ThinkingUSD'}\n{'id': '1132035329115009025', 'name': 'Nyuu', 'username': 'NyuuRoe'}\n{'id': '916257050', 'name': 'Angelo฿TC', 'username': 'AngeloBTC'}\n{'id': '903440587847864320', 'name': 'KING AZU👑', 'username': 'KingAzuraes'}\n{'id': '1000343132028981248', 'name': 'Nico', 'username': 'CryptoNTez'}\n{'id': '1361247409335066630', 'name': 'Mr.Greed', 'username': 'greedybagholder'}\n{'id': '899345041965109250', 'name': 'VortexICS', 'username': 'vortexics82'}\n{'id': '947611944998940674', 'name': 'Instinct | y.at Maximalist', 'username': 'InstinctMarkets'}\n{'id': '373457750', 'name': 'TradingView', 'username': 'tradingview'}\n{'id': '44196397', 'name': 'Elon Musk', 'username': 'elonmusk'}\n{'id': '302505363', 'name': 'Ki Young Ju 주기영', 'username': 'ki_young_ju'}\n{'id': '1265755450974363650', 'name': 'whalemap', 'username': 'whale_map'}\n{'id': '1051852534518824960', 'name': 'starbust', 'username': 'inversebrah'}\n{'id': '971334813381623808', 'name': 'PickaDeFi 💸 TONE to $1', 'username': 'PickACrypto'}\n{'id': '3187405873', 'name': 'Cody [Bybit]', 'username': 'cody_bybit'}\n{'id': '14503129', 'name': 'Alex Wice', 'username': 'AWice'}\n{'id': '38911000', 'name': 'Alpha | DLT', 'username': 'mark_cullen'}\n{'id': '1179555450', 'name': 'Cryptoboy™️ The Boy', 'username': 'Crypto_Boy1'}\n{'id': '1510601058', 'name': 'Ponzi Trader', 'username': 'buyerofblood'}\n{'id': '146008010', 'name': 'Michaël van de Poppe', 'username': 'CryptoMichNL'}\n{'id': '1008603001290756097', 'name': 'Spicy', 'username': 'spicyofc'}\n{'id': '1007179644825726976', 'name': 'Chimp of the North', 'username': 'cryptochimpanz'}\n{'id': '1169095068164050945', 'name': 'Bybt', 'username': 'bybt_com'}\n{'id': '1140429573978378241', 'name': 'Kyle Davies', 'username': 'kyled116'}\n{'id': '1078362309687472134', 'name': 'Devchart 👨🏻\\u200d💻', 'username': 'devchart'}\n{'id': '938723248774270977', 'name': 'J A C K I S', 'username': 'jackis_trader'}\n{'id': '2194899020', 'name': 'Dyme', 'username': 'CryptoParadyme'}\n{'id': '708589549564370944', 'name': 'Coiner-Yadox', 'username': 'Yodaskk'}\n{'id': '899558268795842561', 'name': 'Cred', 'username': 'CryptoCred'}\n{'id': '1211184252835942400', 'name': 'HamedTrades', 'username': 'HamedTrades'}\n{'id': '1077844224408723456', 'name': 'Livercoin', 'username': 'Livercoin'}\n{'id': '1087761247662166017', 'name': 'traderRB', 'username': 'cryptomeowmeow'}\n{'id': '1297371490497642501', 'name': 'Altcoin Pepe', 'username': 'AltcoinPepe'}\n{'id': '809120788725006336', 'name': 'AP', 'username': 'friendscallmeap'}\n{'id': '236066949', 'name': 'Crypto Chase', 'username': 'Crypto_Chase'}\n{'id': '1238489745208082433', 'name': 'Phoenix', 'username': 'Phoenix_Ash3s'}\n{'id': '1004687124141150208', 'name': 'CryptoAmsterdam', 'username': 'damskotrades'}\n{'id': '918956561216737280', 'name': 'TraderNJ', 'username': 'TraderNJ1'}\n{'id': '590134700', 'name': 'Pierre', 'username': 'pierre_crypt0'}\n{'id': '50766069', 'name': 'Peter', 'username': 'trading_peter'}\n{'id': '1010914047963860992', 'name': 'DTC Crypto Trading', 'username': 'DTCcryptotrades'}\n{'id': '749198359', 'name': 'NFT MAXIMALIST 🧦', 'username': 'NFT_Maximalist'}\n{'id': '998678036689043458', 'name': 'Larousse', 'username': 'Larousse____'}\n{'id': '952109977157668864', 'name': '🌚TimelessBeing🌍', 'username': 'Timeless_Crypto'}\n{'id': '918138253617790976', 'name': 'Daan Crypto Trades', 'username': 'DaanCrypto'}\n{'id': '319101222', 'name': 'Mohammad', 'username': 'Abu9ala7'}\n{'id': '787634466', 'name': 'Jelle 🐂', 'username': 'CryptoJelleNL'}\n{'id': '947098577540657152', 'name': 'ALTBTC𝕔𝕪𝕔𝕝𝕖𝕤 🔄', 'username': 'JJcycles'}\n{'id': '995436051744378885', 'name': 'Internal Revenue Service', 'username': 'CosmonautC'}\n{'id': '998163714640576512', 'name': 'ᴀʟᴛꜱᴛʀᴇᴇᴛ ʙᴇᴛꜱ', 'username': 'AltstreetBet'}\n{'id': '1019660554472837120', 'name': 'TraderKoz', 'username': 'TraderKoz'}\n{'id': '910901315341049861', 'name': 'scamwickfade ⚡️ᚱ', 'username': 'scamwickfade'}\n{'id': '936358262638874624', 'name': 'b the terrrible 💣', 'username': 'ruffiian'}\n{'id': '1068237257977544704', 'name': 'Altcoin Sherpa', 'username': 'AltcoinSherpa'}\n{'id': '930781655538679808', 'name': 'CryptoShadow 👑 - Steel Hands Only -', 'username': 'CryptoShadowOff'}\n{'id': '970943229184086016', 'name': 'Crypto_y_tho .2.0.', 'username': 'BTC_y_tho'}\n{'id': '1177975104015228930', 'name': 'Adam', 'username': 'realadamli'}\n{'id': '927706281909063683', 'name': '$hrimp🍤', 'username': 'Satoshrimp'}\n{'id': '950335062280634369', 'name': 'CJ', 'username': 'IrnCrypt'}\n{'id': '1134393503910416384', 'name': 'SNIPERXBT', 'username': 'SNIPERXBT'}\n{'id': '910899153772916736', 'name': '👑 Shelby 👑 SXP to 100$', 'username': 'CryptoNewton'}\n{'id': '1107819963094429697', 'name': 'glimmery', 'username': 'Glimmerycoin'}\n{'id': '994691295040884736', 'name': 'red', 'username': 'redxbt'}\n{'id': '27583645', 'name': 'ant', 'username': 'ThisIsNuse'}\n{'id': '1098266607594455041', 'name': 'Byzantine General', 'username': 'ByzGeneral'}\n{'id': '230206137', 'name': 'MC', 'username': 'MuroCrypto'}\n{'id': '932178661406474241', 'name': 'Murfski (KAVA Maximalist)', 'username': 'Murfski_'}\n{'id': '861163034940669952', 'name': 'Smokey', 'username': 'BeegSmokey'}\n{'id': '949619698387349505', 'name': 'Theo📚', 'username': 'theo_crypto99'}\n{'id': '1110877798820777986', 'name': 'SBF', 'username': 'SBF_Alameda'}\n{'id': '571771109', 'name': 'Inmortal technique', 'username': 'inmortalcrypto'}\n{'id': '752747080066723840', 'name': '$DOGE TO $1 🚀', 'username': 'cryptunez'}\n{'id': '1016037844081496064', 'name': 'Magus', 'username': 'TraderMagus'}\n{'id': '826349845484969984', 'name': 'Satoshi Wolf', 'username': 'SatoshiWolf'}\n{'id': '1090397253078900736', 'name': 'Reno', 'username': 'TraderReno'}\n{'id': '860413563386687489', 'name': 'Jon CC', 'username': 'JonCCT'}\n{'id': '857836469888491521', 'name': 'DeFIPunts', 'username': 'SillyPunts'}\n{'id': '210663231', 'name': 'Will Hunting', 'username': 'wmd4x'}\n{'id': '1002893498079764480', 'name': 'Mr Chief', 'username': 'HaloCrypto'}\n{'id': '2623870473', 'name': 'CryptoCharles', 'username': 'CryptoCharles__'}\n{'id': '384144651', 'name': 'cuban', 'username': 'cubantobacco'}\n{'id': '2460031634', 'name': 'cyrii_MM コープ', 'username': 'cyrii_MM'}\n{'id': '2554656433', 'name': 'George', 'username': 'George1Trader'}\n{'id': '857813126326218752', 'name': 'HornHairs 🌊', 'username': 'CryptoHornHairs'}\n{'id': '79714172', 'name': 'Zhu Su', 'username': 'zhusu'}\n{'id': '1012523970531213312', 'name': 'Trader Of Corn', 'username': 'bitcorntrader'}\n{'id': '987343085251317760', 'name': 'Cold Blooded Shiller', 'username': 'ColdBloodShill'}\n{'id': '887748030304329728', 'name': 'The Crypto Dog📈', 'username': 'TheCryptoDog'}\n{'id': '57014028', 'name': 'Tyler', 'username': 'TylerDurden'}\n{'id': '156058889', 'name': 'Tom Dante', 'username': 'Trader_Dante'}\n{'id': '59085982', 'name': 'xCæsar', 'username': 'PARABOLIT'}\n{'id': '1093297677268332545', 'name': 'XC', 'username': 'runtheirstops'}\n{'id': '944686196331966464', 'name': 'Hsaka', 'username': 'HsakaTrades'}\n{'id': '247653244', 'name': 'Mufti Menk', 'username': 'muftimenk'}\n{'id': '951888527079497728', 'name': 'Feras_Crypto', 'username': 'FeraSY1'}\n{'id': '2837666919', 'name': 'TraderSZ', 'username': 'trader1sz'}\n{'id': '2446024556', 'name': 'Mayne', 'username': 'Tradermayne'}\n{'id': '952244474180243456', 'name': 'Monkey Rothschild', 'username': 'MonkeyCharts'}\n{'id': '1392927426', 'name': 'Koroush AK', 'username': 'KoroushAK'}\n{'id': '62924841', 'name': 'smilinglllama', 'username': 'smilinglllama'}\n"
     ]
    }
   ]
  },
  {
   "cell_type": "code",
   "execution_count": 9,
   "metadata": {},
   "outputs": [
    {
     "output_type": "execute_result",
     "data": {
      "text/plain": [
       "[{'id': 943958987556507653, 'name': 'Ninja', 'username': 'Ninjascalp'}]"
      ]
     },
     "metadata": {},
     "execution_count": 9
    }
   ],
   "source": [
    "conn.cursor().execute(\"select * from following where username = 'Ninjascalp'\").fetchall()"
   ]
  }
 ]
}