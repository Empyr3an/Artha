{
 "metadata": {
  "language_info": {
   "codemirror_mode": {
    "name": "ipython",
    "version": 3
   },
   "file_extension": ".py",
   "mimetype": "text/x-python",
   "name": "python",
   "nbconvert_exporter": "python",
   "pygments_lexer": "ipython3",
   "version": "3.7.6"
  },
  "orig_nbformat": 2,
  "kernelspec": {
   "name": "python376jvsc74a57bd050692dee8d60b45dc70f605c3c7f11300c905f349bdb5557a748ab90862af84a",
   "display_name": "Python 3.7.6 64-bit ('artha@3.7.6': pyenv)"
  }
 },
 "nbformat": 4,
 "nbformat_minor": 2,
 "cells": [
  {
   "cell_type": "code",
   "execution_count": 1,
   "metadata": {},
   "outputs": [
    {
     "output_type": "stream",
     "name": "stdout",
     "text": [
      "done\n"
     ]
    }
   ],
   "source": [
    "import inspect\n",
    "currentdir = os.path.dirname(os.path.abspath(inspect.getfile(inspect.currentframe())))\n",
    "parentdir = os.path.dirname(currentdir)\n",
    "os.sys.path.insert(0,parentdir) \n",
    "\n",
    "import Artha.neo\n",
    "from Artha.neo import Neo\n",
    "import sqlite3\n",
    "from tqdm import tqdm\n",
    "import csv\n",
    "\n",
    "\n",
    "def dict_factory(cursor, row):\n",
    "    d = {}\n",
    "    for idx, col in enumerate(cursor.description):\n",
    "        d[col[0]] = str(row[idx])\n",
    "    return d\n",
    "\n",
    "neo = Neo(\"neo4j://localhost:7687\", \"neo4j\", \"part2\")\n",
    "conn = sqlite3.connect(\"../data/ucheckra_.db\")\n",
    "conn.row_factory = dict_factory\n",
    "checkra_follows = conn.cursor().execute(\"select * from following\").fetchall()\n",
    "neo.session.run(\"CREATE CONSTRAINT twitter_id IF NOT EXISTS ON (n:Person) ASSERT n.id IS UNIQUE\")\n",
    "print(\"done\")"
   ]
  },
  {
   "source": [
    "print(len(neo.get_nodes()), len(neo.get_relations()))"
   ],
   "cell_type": "code",
   "metadata": {
    "tags": []
   },
   "execution_count": 2,
   "outputs": [
    {
     "output_type": "stream",
     "name": "stdout",
     "text": [
      "58821 76261\n"
     ]
    }
   ]
  },
  {
   "cell_type": "code",
   "execution_count": null,
   "metadata": {},
   "outputs": [],
   "source": [
    "for record in neo.get_nodes():\n",
    "    print(record[\"username\"])"
   ]
  },
  {
   "cell_type": "code",
   "execution_count": null,
   "metadata": {},
   "outputs": [],
   "source": []
  },
  {
   "cell_type": "code",
   "execution_count": 6,
   "metadata": {},
   "outputs": [
    {
     "output_type": "error",
     "ename": "AttributeError",
     "evalue": "'Neo4jDriver' object has no attribute 'clear_db'",
     "traceback": [
      "\u001b[0;31m---------------------------------------------------------------------------\u001b[0m",
      "\u001b[0;31mAttributeError\u001b[0m                            Traceback (most recent call last)",
      "\u001b[0;32m<ipython-input-6-414b4cbdea3a>\u001b[0m in \u001b[0;36m<module>\u001b[0;34m\u001b[0m\n\u001b[0;32m----> 1\u001b[0;31m \u001b[0mneo\u001b[0m\u001b[0;34m.\u001b[0m\u001b[0mclear_db\u001b[0m\u001b[0;34m(\u001b[0m\u001b[0;34m)\u001b[0m\u001b[0;34m\u001b[0m\u001b[0;34m\u001b[0m\u001b[0m\n\u001b[0m",
      "\u001b[0;31mAttributeError\u001b[0m: 'Neo4jDriver' object has no attribute 'clear_db'"
     ]
    }
   ],
   "source": [
    "neo.clear_db()"
   ]
  },
  {
   "cell_type": "code",
   "execution_count": 67,
   "metadata": {},
   "outputs": [
    {
     "output_type": "stream",
     "name": "stdout",
     "text": [
      "{'id': '943958987556507653', 'name': 'Ninja', 'username': 'Ninjascalp'}\ndone 195 314\n196 0\n"
     ]
    }
   ],
   "source": [
    "import json\n",
    "path = \"/Users/harshasomisetty/Library/Application Support/com.Neo4j.Relate/Data/dbmss/dbms-8c0b6b9b-8405-42f7-aee7-4bff9bf1d898/import/follows.csv\"\n",
    "def user_edges(username, location = \"../data/users\"):\n",
    "    conn_temp = sqlite3.connect(location+f\"/u{username}.db\")\n",
    "    conn_temp.row_factory = dict_factory\n",
    "\n",
    "\n",
    "    try:\n",
    "        temp_follows = conn_temp.cursor().execute(\"select * from following\").fetchall()\n",
    "        print(temp_follows[0])\n",
    "    except:\n",
    "        return -1\n",
    "    else:\n",
    "\n",
    "        with open(path, \"w+\") as csvfile:\n",
    "            writer = csv.DictWriter(csvfile, fieldnames = [\"id\", \"name\", \"username\"])\n",
    "            writer.writeheader()\n",
    "            writer.writerows(temp_follows)\n",
    "            if username == \"checkra_\":\n",
    "                neo.session.run(\n",
    "                        \"Merge (n:Person {username: 'checkra_'})\"\n",
    "                        \"ON CREATE SET n.id ='1356259499431129092', n.name = 'Checkra', n.username = 'checkra_'\")\n",
    "            \n",
    "            node_result = neo.session.run(\n",
    "                        \"LOAD CSV WITH HEADERS FROM 'file:/follows.csv' AS row \"\n",
    "                        \"MERGE (n:Person {id:row.id}) \"\n",
    "                        \"ON CREATE SET n.id = row.id, n.name=row.name, n.username=row.username \"\n",
    "                        \"return n\"\n",
    "                        # \"WITH n \"\n",
    "                        # # \"MERGE (m:Person {username: '\"+username+\"'}) \"\n",
    "                        # \"MERGE (:Person {username: '\"+username+\"'})-[r:FOLLOWS]->(n) \"\n",
    "                        # \"return n, r\"\n",
    "                        )\n",
    "\n",
    "            edge_result = neo.session.run(\n",
    "                        \"LOAD CSV WITH HEADERS FROM 'file:/follows.csv' AS row \"\n",
    "                        # \"MATCH (n:Person {id: row.id}) \"\n",
    "                        # \"WITH n \"\n",
    "                        \"MERGE (m:Person {username: '\"+username+\"'}) \"\n",
    "                        # \"MERGE (m)-[r:FOLLOWS]->(n) \"\n",
    "                        \"return m\"\n",
    "                        )\n",
    "            \n",
    "\n",
    "\n",
    "        return node_result, edge_result\n",
    "\n",
    "nodes, edges = user_edges(\"checkra_\", location = \"../data\")\n",
    "# nodes = user_edges(\"Ninjascalp\")\n",
    "node_records = [record for record in nodes]\n",
    "edge_records = [record for record in edges]\n",
    "print(\"done\", len(node_records), len(edge_records))\n",
    "print(len(neo.get_nodes()), len(neo.get_relations()))"
   ]
  },
  {
   "cell_type": "code",
   "execution_count": 69,
   "metadata": {},
   "outputs": [],
   "source": [
    "with open(\"text.txt\", \"w+\") as w:\n",
    "    for ind, record in enumerate(node_records):\n",
    "        w.write(str(ind)+\" \"+str(record[\"n\"][\"name\"])+\"\\n\")"
   ]
  },
  {
   "cell_type": "code",
   "execution_count": 7,
   "metadata": {},
   "outputs": [],
   "source": [
    "with open(\"text1.txt\", \"w+\") as w:\n",
    "    for ind, record in enumerate(edge_records):\n",
    "        w.write(str(ind)+\" \"+str(record[\"n\"][\"name\"])+\" \"+str(record[\"m\"][\"name\"])+\"\\n\")"
   ]
  },
  {
   "cell_type": "code",
   "execution_count": 124,
   "metadata": {
    "tags": []
   },
   "outputs": [],
   "source": [
    "with open(\"text1.txt\", \"w+\") as w:\n",
    "    for ind, record in enumerate(edge_records):\n",
    "        w.write(str(ind)+\" \"+str(record[\"r\"].nodes[1][\"name\"])+\"\\n\")"
   ]
  },
  {
   "cell_type": "code",
   "execution_count": 123,
   "metadata": {
    "tags": []
   },
   "outputs": [
    {
     "output_type": "stream",
     "name": "stdout",
     "text": [
      "Ninja\n☣surferjim is more stoked than you- regularly.\nEdward Morra\nAndrew Wilkinson\nAnthonΞ Sassano | sassal.eth 🦇🔊\nJim Scalpert (aka Elton Jim)\nCrystal Lee 李佳佳\n𝕮𝖍𝖎\nPsycho™\nLittle Peepo\nAlex\nMultifractelFarol\nChristopher Bloomstran\nJeremy Arnold\nNFT MAXIMALIST 🧦\nTheo📚\nMurfski (KAVA Maximalist)\n⚡️WAVE JUMPER⚡️\nEther Schtroumpf\nMoney Fox (EL LEGENDADO (of a new hand))\nChartingOptions\nDaniel\nMarket Timer\nMoonshine\n$DOGE TO $1 🚀\nemini Jingle 🛎🛎\nSpaceX\nLex Fridman\nJeff Bezos\nBill Gates\nBob Kendall\nFermat's Library\nDavid Sands\nMarc Andreessen\nJoe Rogan\nDr Jordan B Peterson\nVergil Den\njason@calacanis.com\nMachine Learning Tweet Feed\nye\nBret Weinstein\nMilto Savvidis\nL/L Research\nBen Orlin\nf i l ₿ f i l ₿\nYates Investing\nGeorge Friedman\nAllen Institute for AI\nLouie Gohmert\nTed Yoho\nNicholas Sandmann\nAntonKreil\nSasha Rush\nGrant Sanderson\nSean McFate\nKurzgesagt\nCGP Grey 🐝\nChip Huyen\nSenator Rand Paul\nTulsi Gabbard 🌺\nChristina Qi\nChris Herd\nZack Kanter\nGeopolitical Futures\nPreethi Kasireddy\nAmit Kumar\nAndrew Ng\nThe Content Tap\nMichael Saylor\nVuk Vukovic\nDavid Sacks\nRyan Cohen\nThe Information\nMark Blyth\nGREG ISENBERG\nPete Doom\nWallStreetBets & Co.\nCitron Research\nARK Invest\nSequoia\nTheStockGuy\n@arxivblog\nMasters of Scale\nGary Black\nChicken Genius\nkcprinters\nKrishna\nDeadnsyde\nvitalik.eth\nMichael's Trading Journal\nBrian Roemmele\nMichael Pento\nБалаж ($RAZOR to $4.20)💣\nAlex Saunders 🇦🇺👨‍🔬\nPyroDavis\nFROG ™ ✨🍀 (\"fairest price of doing business\")\n🆁🅰🅼\nYassine Elmandjra\nStock Family\nGuv999\nRomeen Sheth\nrazor\nLuke McInnes\nEric Wall\nHFT Quant\nRoaring Kitty\nPhilip Soos\nDatCryptoBoi - Algo swing trading shitpost pleb\nCole\nSamson Li\nPaulina Mar\nDave Collum\nMost Ridiculous Bull Market Ever\nBestOfUsInvestors\nJohn\nIndo-Pacific News - Watching the CCP-China Threat\nTANG 🦧\nJeffrey P. Snider\nHindenburg Research\nKing Tut Acquisition Corp\nThe Stoic Emperor\nVisualize Value\nSentimenTrader\nEmil\nBeth Kindig\nMichael Pettis\nSidecar Capital\nMrBeast\nHenrik Zeberg\nFirst Squawk\nunusual_whales\nCZ 🔶 Binance\nSPAC Track\nPatent Eagle 🦅\nwallstreetbets\nChamath Palihapitiya\nThe Wolf Of All Streets\nElon Musk\nZhu Su\nRaoul Pal\nJE$US\nFlood\nLyn Alden\nAmanda C\nDaniel Johnson\nHugh_Henne (Not Hef)\nPJ Matlock\nAltcoin Psycho\nRipster\nStock Lizard King\nGeopoliticalBum\nJosh Olszewicz (I will not dm you)\nLucid Motors\nHarald Malmgren\nNaval\nMark Cuban\nNassim Nicholas Taleb\nVivi (Bio Queen)\nMr. Anderson\nNeo\nFXHedge\nNone\nNone\nNone\nNone\nNone\nNone\nNone\nNone\nNone\nNone\nNone\nNone\nNone\nNone\nNone\nNone\nNone\nNone\nNone\nNone\nNone\nNone\nNone\nNone\nNone\nNone\nNone\nNone\nNone\nNone\nNone\nNone\nNone\nNone\nNone\nNone\nNone\nNone\nNone\nNone\nNone\nNone\nNone\nNone\nNone\nNone\nNone\nNone\nNone\nNone\nNone\nNone\nNone\nNone\nNone\nNone\nNone\nNone\nNone\nNone\nNone\nNone\nNone\nNone\nNone\nNone\nNone\nNone\nNone\nNone\nNone\nNone\nNone\nNone\nNone\nNone\nNone\nNone\nNone\nNone\nNone\nNone\nNone\nNone\nNone\nNone\nNone\nNone\nNone\nNone\nNone\nNone\nNone\nNone\nNone\nNone\nNone\nNone\nNone\nNone\nNone\nNone\nNone\nNone\nNone\nNone\nNone\nNone\nNone\nNone\nNone\nNone\nNone\nNone\nNone\nNone\nNone\nNone\nNone\nNone\nNone\nNone\nNone\nNone\nNone\nNone\nNone\nNone\nNone\nNone\nNone\nNone\nNone\nNone\nNone\nNone\nNone\nNone\nNone\nNone\nNone\nNone\nNone\nNone\nNone\nNone\nNone\nNone\nNone\nNone\nNone\nNone\nNone\n"
     ]
    }
   ],
   "source": [
    "for i in edge_records:\n",
    "    print(i[\"r\"].nodes[1][\"name\"])"
   ]
  },
  {
   "cell_type": "code",
   "execution_count": 112,
   "metadata": {
    "tags": []
   },
   "outputs": [
    {
     "output_type": "error",
     "ename": "TypeError",
     "evalue": "list indices must be integers or slices, not str",
     "traceback": [
      "\u001b[0;31m---------------------------------------------------------------------------\u001b[0m",
      "\u001b[0;31mTypeError\u001b[0m                                 Traceback (most recent call last)",
      "\u001b[0;32m<ipython-input-112-c80dbb18a2f6>\u001b[0m in \u001b[0;36m<module>\u001b[0;34m\u001b[0m\n\u001b[1;32m      1\u001b[0m \u001b[0;32mfor\u001b[0m \u001b[0mind\u001b[0m\u001b[0;34m,\u001b[0m \u001b[0mrecord\u001b[0m \u001b[0;32min\u001b[0m \u001b[0menumerate\u001b[0m\u001b[0;34m(\u001b[0m\u001b[0medge_records\u001b[0m\u001b[0;34m)\u001b[0m\u001b[0;34m:\u001b[0m\u001b[0;34m\u001b[0m\u001b[0;34m\u001b[0m\u001b[0m\n\u001b[1;32m      2\u001b[0m     \u001b[0;31m# print(dir(record[\"\"]))\u001b[0m\u001b[0;34m\u001b[0m\u001b[0;34m\u001b[0m\u001b[0;34m\u001b[0m\u001b[0m\n\u001b[0;32m----> 3\u001b[0;31m     \u001b[0mprint\u001b[0m\u001b[0;34m(\u001b[0m\u001b[0mstr\u001b[0m\u001b[0;34m(\u001b[0m\u001b[0mind\u001b[0m\u001b[0;34m)\u001b[0m\u001b[0;34m+\u001b[0m\u001b[0;34m\" \"\u001b[0m\u001b[0;34m+\u001b[0m\u001b[0medge_records\u001b[0m\u001b[0;34m[\u001b[0m\u001b[0;34m\"r\"\u001b[0m\u001b[0;34m]\u001b[0m\u001b[0;34m.\u001b[0m\u001b[0mnodes\u001b[0m\u001b[0;34m[\u001b[0m\u001b[0;36m1\u001b[0m\u001b[0;34m]\u001b[0m\u001b[0;34m[\u001b[0m\u001b[0;34m\"name\"\u001b[0m\u001b[0;34m]\u001b[0m\u001b[0;34m)\u001b[0m\u001b[0;34m\u001b[0m\u001b[0;34m\u001b[0m\u001b[0m\n\u001b[0m",
      "\u001b[0;31mTypeError\u001b[0m: list indices must be integers or slices, not str"
     ]
    }
   ],
   "source": [
    "for ind, record in enumerate(edge_records):\n",
    "    # print(dir(record[\"\"]))\n",
    "    print(str(ind)+\" \"+edge_records[\"r\"].nodes[1][\"name\"])"
   ]
  },
  {
   "cell_type": "code",
   "execution_count": null,
   "metadata": {
    "tags": []
   },
   "outputs": [],
   "source": [
    "conn_temp = sqlite3.connect(\"../data/users/uBrianRoemmele.db\")\n",
    "conn_temp.row_factory = dict_factory\n",
    "\n",
    "\n",
    "temp_follows = conn_temp.cursor().execute(\"select id, name, username from following\").fetchall()\n",
    "\n",
    "    # with open(path, \"w+\") as csvfile:\n",
    "    #     writer = csv.DictWriter(csvfile, fieldnames = [\"id\", \"name\", \"username\", \"by\"])\n",
    "    #     writer.writeheader()\n",
    "    #     writer.writerows(temp_follows)"
   ]
  },
  {
   "cell_type": "code",
   "execution_count": null,
   "metadata": {},
   "outputs": [],
   "source": [
    "%%time\n",
    "temp_follows = conn_temp.cursor().execute(\"select id, name, username from following\").fetchall()\n",
    "\n",
    "\n",
    "    "
   ]
  },
  {
   "source": [
    "%%time\n",
    "\n",
    "num = user_edges(\"Ninjascalp\")\n",
    "print(\"done\", \"Ninjascalp\", num)\n",
    "# for user in tqdm(checkra_follows):\n",
    "#     num = user_edges(user[\"username\"])\n",
    "#     print(\"done\", user[\"username\"], num)"
   ],
   "cell_type": "code",
   "metadata": {
    "tags": []
   },
   "execution_count": null,
   "outputs": []
  },
  {
   "cell_type": "code",
   "execution_count": null,
   "metadata": {},
   "outputs": [],
   "source": [
    "checkra_follows[:15]"
   ]
  },
  {
   "cell_type": "code",
   "execution_count": null,
   "metadata": {},
   "outputs": [],
   "source": []
  },
  {
   "cell_type": "code",
   "execution_count": null,
   "metadata": {},
   "outputs": [],
   "source": [
    "import os\n",
    "os.listdir()"
   ]
  },
  {
   "cell_type": "code",
   "execution_count": null,
   "metadata": {},
   "outputs": [],
   "source": [
    "os.listdir(\"/Users/harshasomisetty/\")"
   ]
  },
  {
   "cell_type": "code",
   "execution_count": null,
   "metadata": {},
   "outputs": [],
   "source": [
    "os.getcwd()"
   ]
  },
  {
   "cell_type": "code",
   "execution_count": 10,
   "metadata": {},
   "outputs": [
    {
     "output_type": "stream",
     "name": "stdout",
     "text": [
      "done 314 98910\n"
     ]
    }
   ],
   "source": [
    "\n",
    "\n",
    "from neo4j import GraphDatabase\n",
    "\n",
    "neo = GraphDatabase.driver(\"neo4j://localhost:7687\", auth = (\"neo4j\", \"part2\"))\n",
    "session = neo.session()\n",
    "\n",
    "def user_edges(username, location = \"../data/users\"):\n",
    "\n",
    "\n",
    "        node_result = session.run(\n",
    "                    \"LOAD CSV WITH HEADERS FROM 'file:/follows.csv' AS row \"\n",
    "                    \"MERGE (n:Person {id:row.id}) \"\n",
    "                    \"ON CREATE SET n.id = row.id, n.name=row.name, n.username=row.username \"\n",
    "                    # \"return n\"\n",
    "                    \"WITH n \"\n",
    "                    \"MERGE (m:Person {username: '\"+username+\"'}) \"\n",
    "                    \"MERGE (:Person {username: '\"+username+\"'})-[r:FOLLOWS]->(n) \"\n",
    "                    \"return n, m\"\n",
    "                    )\n",
    "\n",
    "        # edge_result = session.run(\n",
    "        #             \"LOAD CSV WITH HEADERS FROM 'file:/follows.csv' AS row \"\n",
    "        #             # \"MATCH (n:Person {id: row.id}) \"\n",
    "        #             # \"WITH n \"\n",
    "        #             \"MERGE (m:Person {username: '\"+username+\"'}) \"\n",
    "        #             # \"MERGE (m)-[r:FOLLOWS]->(n) \"\n",
    "        #             \"return m\"\n",
    "        #             )\n",
    "            \n",
    "\n",
    "\n",
    "        return node_result, edge_result\n",
    "\n",
    "nodes, edges = user_edges(\"checkra_\", location = \"../data\")\n",
    "# nodes = user_edges(\"Ninjascalp\")\n",
    "node_records = [record for record in nodes]\n",
    "edge_records = [record for record in edges]\n",
    "print(\"done\", len(node_records), len(edge_records))"
   ]
  },
  {
   "cell_type": "code",
   "execution_count": 8,
   "metadata": {},
   "outputs": [
    {
     "output_type": "execute_result",
     "data": {
      "text/plain": [
       "<neo4j.work.result.Result at 0x1178d3350>"
      ]
     },
     "metadata": {},
     "execution_count": 8
    }
   ],
   "source": [
    "session.run(\"MATCH (n) DETACH DELETE (n)\")"
   ]
  },
  {
   "cell_type": "code",
   "execution_count": null,
   "metadata": {},
   "outputs": [],
   "source": []
  }
 ]
}