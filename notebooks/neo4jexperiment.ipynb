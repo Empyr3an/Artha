{
 "metadata": {
  "language_info": {
   "codemirror_mode": {
    "name": "ipython",
    "version": 3
   },
   "file_extension": ".py",
   "mimetype": "text/x-python",
   "name": "python",
   "nbconvert_exporter": "python",
   "pygments_lexer": "ipython3",
   "version": "3.7.6"
  },
  "orig_nbformat": 2,
  "kernelspec": {
   "name": "python376jvsc74a57bd050692dee8d60b45dc70f605c3c7f11300c905f349bdb5557a748ab90862af84a",
   "display_name": "Python 3.7.6 64-bit ('artha@3.7.6': pyenv)"
  }
 },
 "nbformat": 4,
 "nbformat_minor": 2,
 "cells": [
  {
   "cell_type": "code",
   "execution_count": null,
   "metadata": {},
   "outputs": [],
   "source": [
    "import inspect\n",
    "currentdir = os.path.dirname(os.path.abspath(inspect.getfile(inspect.currentframe())))\n",
    "parentdir = os.path.dirname(currentdir)\n",
    "os.sys.path.insert(0,parentdir) \n",
    "\n",
    "import Artha.neodb\n",
    "from Artha.neodb import Neo\n",
    "import sqlite3\n",
    "from tqdm import tqdm\n",
    "import csv\n",
    "\n",
    "neo = Neo(\"neo4j://localhost:7687\", \"neo4j\", \"part2\")\n",
    "conn = sqlite3.connect(\"../data/ucheckra_.db\")\n",
    "conn.row_factory = neo.dict_factory\n",
    "checkra_follows = conn.cursor().execute(\"select * from following\").fetchall()\n",
    "print(\"done\")"
   ]
  },
  {
   "source": [
    "print(len(neo.get_nodes()), len(neo.get_relations()))"
   ],
   "cell_type": "code",
   "metadata": {
    "tags": []
   },
   "execution_count": null,
   "outputs": []
  },
  {
   "cell_type": "code",
   "execution_count": null,
   "metadata": {},
   "outputs": [],
   "source": [
    "neo.clear_db()"
   ]
  },
  {
   "cell_type": "code",
   "execution_count": null,
   "metadata": {},
   "outputs": [],
   "source": [
    "nodes = neo.load_csv_data(\"checkra_\")\n",
    "\n",
    "print(nodes.data()[0][\"count(r)\"])\n",
    "print(len(neo.get_nodes()), len(neo.get_relations()))"
   ]
  },
  {
   "cell_type": "code",
   "execution_count": null,
   "metadata": {},
   "outputs": [],
   "source": [
    "with open(\"text.txt\", \"w+\") as w:\n",
    "    for ind, record in enumerate(node_records):\n",
    "        w.write(str(ind)+\" \"+str(record[\"n\"][\"name\"])+\"\\n\")"
   ]
  },
  {
   "cell_type": "code",
   "execution_count": null,
   "metadata": {},
   "outputs": [],
   "source": [
    "with open(\"text1.txt\", \"w+\") as w:\n",
    "    for ind, record in enumerate(edge_records):\n",
    "        w.write(str(ind)+\" \"+str(record[\"n\"][\"name\"])+\" \"+str(record[\"m\"][\"name\"])+\"\\n\")"
   ]
  },
  {
   "cell_type": "code",
   "execution_count": null,
   "metadata": {
    "tags": []
   },
   "outputs": [],
   "source": [
    "with open(\"text1.txt\", \"w+\") as w:\n",
    "    for ind, record in enumerate(edge_records):\n",
    "        w.write(str(ind)+\" \"+str(record[\"r\"].nodes[1][\"name\"])+\"\\n\")"
   ]
  },
  {
   "cell_type": "code",
   "execution_count": null,
   "metadata": {
    "tags": []
   },
   "outputs": [],
   "source": [
    "for i in edge_records:\n",
    "    print(i[\"r\"].nodes[1][\"name\"])"
   ]
  },
  {
   "cell_type": "code",
   "execution_count": null,
   "metadata": {
    "tags": []
   },
   "outputs": [],
   "source": [
    "for ind, record in enumerate(edge_records):\n",
    "    # print(dir(record[\"\"]))\n",
    "    print(str(ind)+\" \"+edge_records[\"r\"].nodes[1][\"name\"])"
   ]
  },
  {
   "cell_type": "code",
   "execution_count": null,
   "metadata": {
    "tags": []
   },
   "outputs": [],
   "source": [
    "conn_temp = sqlite3.connect(\"../data/users/uBrianRoemmele.db\")\n",
    "conn_temp.row_factory = dict_factory\n",
    "\n",
    "\n",
    "temp_follows = conn_temp.cursor().execute(\"select id, name, username from following\").fetchall()\n",
    "\n",
    "    # with open(path, \"w+\") as csvfile:\n",
    "    #     writer = csv.DictWriter(csvfile, fieldnames = [\"id\", \"name\", \"username\", \"by\"])\n",
    "    #     writer.writeheader()\n",
    "    #     writer.writerows(temp_follows)"
   ]
  },
  {
   "cell_type": "code",
   "execution_count": null,
   "metadata": {},
   "outputs": [],
   "source": [
    "%%time\n",
    "temp_follows = conn_temp.cursor().execute(\"select id, name, username from following\").fetchall()"
   ]
  },
  {
   "source": [
    "%%time\n",
    "\n",
    "num = user_edges(\"Ninjascalp\")\n",
    "print(\"done\", \"Ninjascalp\", num)\n",
    "# for user in tqdm(checkra_follows):\n",
    "#     num = user_edges(user[\"username\"])\n",
    "#     print(\"done\", user[\"username\"], num)"
   ],
   "cell_type": "code",
   "metadata": {
    "tags": []
   },
   "execution_count": null,
   "outputs": []
  }
 ]
}