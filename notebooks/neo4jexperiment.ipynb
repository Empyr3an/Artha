{
 "metadata": {
  "language_info": {
   "codemirror_mode": {
    "name": "ipython",
    "version": 3
   },
   "file_extension": ".py",
   "mimetype": "text/x-python",
   "name": "python",
   "nbconvert_exporter": "python",
   "pygments_lexer": "ipython3",
   "version": "3.7.6"
  },
  "orig_nbformat": 2,
  "kernelspec": {
   "name": "python376jvsc74a57bd0336ff5ee2c1e0e67b5ec251f9bb85714e66dde2cea2c3ccd73e788234e60283a",
   "display_name": "Python 3.7.6 64-bit",
   "language": "python"
  }
 },
 "nbformat": 4,
 "nbformat_minor": 2,
 "cells": [
  {
   "cell_type": "code",
   "execution_count": null,
   "metadata": {},
   "outputs": [],
   "source": [
    "import inspect\n",
    "currentdir = os.path.dirname(os.path.abspath(inspect.getfile(inspect.currentframe())))\n",
    "parentdir = os.path.dirname(currentdir)\n",
    "os.sys.path.insert(0,parentdir) \n",
    "\n",
    "import Artha.neo\n",
    "from Artha.neo import Neo\n",
    "import sqlite3\n",
    "from tqdm import tqdm\n",
    "\n",
    "def dict_factory(cursor, row):\n",
    "    d = {}\n",
    "    for idx, col in enumerate(cursor.description):\n",
    "        d[col[0]] = str(row[idx])\n",
    "    return d\n",
    "\n",
    "neo = Neo(\"neo4j://localhost:7687\", \"neo4j\", \"part2\")\n",
    "conn = sqlite3.connect(\"../data/ucheckra_.db\")\n",
    "conn.row_factory = dict_factory\n",
    "checkra_follows = conn.cursor().execute(\"select * from following\").fetchall()\n",
    "\n",
    "print(\"done\")"
   ]
  },
  {
   "source": [
    "neo.print_nodes()"
   ],
   "cell_type": "code",
   "metadata": {
    "tags": []
   },
   "execution_count": null,
   "outputs": []
  },
  {
   "cell_type": "code",
   "execution_count": null,
   "metadata": {},
   "outputs": [],
   "source": [
    "# add checkra follows\n",
    "for d in tqdm(checkra_follows):\n",
    "    neo.create_node(d)"
   ]
  },
  {
   "cell_type": "code",
   "execution_count": null,
   "metadata": {},
   "outputs": [],
   "source": [
    "neo.clear_db()"
   ]
  },
  {
   "source": [
    "def user_edges(username):\n",
    "    conn_temp = sqlite3.connect(f\"../data/users/u{username}.db\")\n",
    "    conn_temp.row_factory = dict_factory\n",
    "    try:\n",
    "        temp_follows = conn_temp.cursor().execute(\"select * from following\").fetchall()\n",
    "    except:\n",
    "        return -1\n",
    "    else:\n",
    "        for d in tqdm(temp_follows):\n",
    "            neo.create_node(d)\n",
    "            neo.create_relation(username, d[\"username\"])\n",
    "        return len(temp_follows)\n",
    "\n",
    "num = user_edges(\"Steen_Jakobsen\")\n",
    "print(\"done\", \"Steen_Jakobsen\", num)\n",
    "# Steen_Jakobsen\n",
    "# for user in tqdm(checkra_follows):\n",
    "#     num = user_edges(user[\"username\"])\n",
    "#     print(\"done\", user[\"username\"], num)"
   ],
   "cell_type": "code",
   "metadata": {
    "tags": []
   },
   "execution_count": null,
   "outputs": []
  }
 ]
}