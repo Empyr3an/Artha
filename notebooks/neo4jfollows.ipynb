{
 "metadata": {
  "language_info": {
   "codemirror_mode": {
    "name": "ipython",
    "version": 3
   },
   "file_extension": ".py",
   "mimetype": "text/x-python",
   "name": "python",
   "nbconvert_exporter": "python",
   "pygments_lexer": "ipython3",
   "version": "3.7.6-final"
  },
  "orig_nbformat": 2,
  "kernelspec": {
   "name": "python376jvsc74a57bd0336ff5ee2c1e0e67b5ec251f9bb85714e66dde2cea2c3ccd73e788234e60283a",
   "display_name": "Python 3.7.6 64-bit ('artha@3.7.6')"
  }
 },
 "nbformat": 4,
 "nbformat_minor": 2,
 "cells": [
  {
   "cell_type": "code",
   "execution_count": null,
   "metadata": {},
   "outputs": [],
   "source": [
    "import inspect\n",
    "currentdir = os.path.dirname(os.path.abspath(inspect.getfile(inspect.currentframe())))\n",
    "parentdir = os.path.dirname(currentdir)\n",
    "os.sys.path.insert(0,parentdir) \n",
    "\n",
    "# import Artha.neodb\n",
    "from Artha.neofollowsdb import Neo\n",
    "import sqlite3\n",
    "from tqdm import tqdm\n",
    "import csv\n",
    "\n",
    "# follows database\n",
    "neo = Neo(\"neo4j://localhost:7687\", \"neo4j\", \"part2\")\n",
    "neo.session.run('''CREATE CONSTRAINT twitter_id IF NOT EXISTS ON (n:Person)\n",
    "                ASSERT n.id IS UNIQUE''')\n",
    "conn = sqlite3.connect(\"../data/ucheckra_.db\")\n",
    "conn.row_factory = neo.dict_factory\n",
    "checkra_follows = conn.cursor().execute(\"select * from following\").fetchall()\n",
    "print(\"done\")"
   ]
  },
  {
   "source": [
    "print(len(neo.get_nodes()), len(neo.get_relations()))"
   ],
   "cell_type": "code",
   "metadata": {
    "tags": []
   },
   "execution_count": null,
   "outputs": []
  },
  {
   "cell_type": "code",
   "execution_count": null,
   "metadata": {},
   "outputs": [],
   "source": [
    "neo.clear_db()"
   ]
  },
  {
   "cell_type": "code",
   "execution_count": null,
   "metadata": {},
   "outputs": [],
   "source": [
    "nodes = neo.load_follows_csv_data(\"checkra_\")\n",
    "\n",
    "print(nodes.data()[0][\"count(r)\"])\n",
    "print(len(neo.get_nodes()), len(neo.get_relations()))"
   ]
  },
  {
   "cell_type": "code",
   "execution_count": null,
   "metadata": {},
   "outputs": [],
   "source": [
    "for user in tqdm(checkra_follows[]):\n",
    "    print(\"\\n\" + user['username']+\"\\n\")\n",
    "    nodes = neo.load_follows_csv_data(user[\"username\"])\n",
    "    if nodes ==-1:\n",
    "        print(\"\\n 0 following \\n\")\n",
    "    else:\n",
    "        print(\"\\n\"+str(nodes.data()[0][\"count(r)\"])+\"\\n\")"
   ]
  }
 ]
}