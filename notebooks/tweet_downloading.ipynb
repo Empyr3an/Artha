{
 "metadata": {
  "language_info": {
   "codemirror_mode": {
    "name": "ipython",
    "version": 3
   },
   "file_extension": ".py",
   "mimetype": "text/x-python",
   "name": "python",
   "nbconvert_exporter": "python",
   "pygments_lexer": "ipython3",
   "version": "3.7.6"
  },
  "orig_nbformat": 2,
  "kernelspec": {
   "name": "python376jvsc74a57bd050692dee8d60b45dc70f605c3c7f11300c905f349bdb5557a748ab90862af84a",
   "display_name": "Python 3.7.6 64-bit ('artha@3.7.6': pyenv)"
  }
 },
 "nbformat": 4,
 "nbformat_minor": 2,
 "cells": [
  {
   "cell_type": "code",
   "execution_count": null,
   "metadata": {},
   "outputs": [],
   "source": [
    "import requests\n",
    "import json\n",
    "import time\n",
    "import itertools\n",
    "import os\n",
    "from tqdm import tqdm\n",
    "import sqlite3\n",
    "import datetime\n",
    "import pickle\n",
    "import inspect\n",
    "currentdir = os.path.dirname(os.path.abspath(inspect.getfile(inspect.currentframe())))\n",
    "parentdir = os.path.dirname(currentdir)\n",
    "os.sys.path.insert(0,parentdir) \n",
    "\n",
    "import Artha\n",
    "from Artha.twitter import TwitterAPI\n",
    "from Artha.sqlitedb import TSQLite\n",
    "import Artha.configs.twitter_config as c\n",
    "\n",
    "checkra = TwitterAPI(username = \"checkra_\", bearer_token = c.c_bearer, key = c.c_key, secret = c.c_secret, token = c.c_token, token_secret = c.c_token_secret)\n",
    "print(checkra.id,\"done\")"
   ]
  },
  {
   "cell_type": "code",
   "execution_count": null,
   "metadata": {},
   "outputs": [],
   "source": [
    "checkra.user_lookup(\"BTC_JackSparrow\")"
   ]
  },
  {
   "cell_type": "code",
   "execution_count": null,
   "metadata": {},
   "outputs": [],
   "source": [
    "tweets = checkra.get_recent_tweets(\"BTC_JackSparrow\")\n",
    "print(len(tweets))"
   ]
  },
  {
   "cell_type": "code",
   "execution_count": null,
   "metadata": {},
   "outputs": [],
   "source": [
    "# TODO Download recent tweets for all people I follow"
   ]
  }
 ]
}