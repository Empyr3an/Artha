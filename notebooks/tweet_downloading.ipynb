{
 "metadata": {
  "language_info": {
   "codemirror_mode": {
    "name": "ipython",
    "version": 3
   },
   "file_extension": ".py",
   "mimetype": "text/x-python",
   "name": "python",
   "nbconvert_exporter": "python",
   "pygments_lexer": "ipython3",
   "version": "3.7.6-final"
  },
  "orig_nbformat": 2,
  "kernelspec": {
   "name": "python376jvsc74a57bd0336ff5ee2c1e0e67b5ec251f9bb85714e66dde2cea2c3ccd73e788234e60283a",
   "display_name": "Python 3.7.6 64-bit ('artha@3.7.6')"
  }
 },
 "nbformat": 4,
 "nbformat_minor": 2,
 "cells": [
  {
   "cell_type": "code",
   "execution_count": 1,
   "metadata": {},
   "outputs": [
    {
     "output_type": "stream",
     "name": "stdout",
     "text": [
      "1356259499431129092 done\n"
     ]
    }
   ],
   "source": [
    "import requests\n",
    "import json\n",
    "import time\n",
    "import itertools\n",
    "import os\n",
    "from tqdm import tqdm\n",
    "import sqlite3\n",
    "import datetime\n",
    "import pickle\n",
    "import inspect\n",
    "import numpy as np\n",
    "currentdir = os.path.dirname(os.path.abspath(inspect.getfile(inspect.currentframe())))\n",
    "parentdir = os.path.dirname(currentdir)\n",
    "os.sys.path.insert(0,parentdir) \n",
    "\n",
    "\n",
    "import Artha\n",
    "from Artha.twitter import TwitterAPI\n",
    "from Artha.sqlitedb import TSQLite\n",
    "import Artha.configs.twitter_config as c\n",
    "\n",
    "checkra = TwitterAPI(username = \"checkra_\", bearer_token = c.c_bearer, key = c.c_key, secret = c.c_secret, token = c.c_token, token_secret = c.c_token_secret)\n",
    "print(checkra.id,\"done\")"
   ]
  },
  {
   "cell_type": "code",
   "execution_count": 2,
   "metadata": {},
   "outputs": [],
   "source": [
    "home = checkra.home_timeline()"
   ]
  },
  {
   "cell_type": "code",
   "execution_count": null,
   "metadata": {},
   "outputs": [],
   "source": [
    "# tweets = checkra.get_recent_tweets(\"MetreSteven\")\n",
    "# print(len(tweets))\n",
    "# tweet_text = [t[\"full_text\"] for t in tweets]\n",
    "# print(tweet_text[0])"
   ]
  },
  {
   "cell_type": "code",
   "execution_count": null,
   "metadata": {},
   "outputs": [],
   "source": [
    "checkra.user_lookup(checkra_follows[68])[\"username\"]"
   ]
  },
  {
   "cell_type": "code",
   "execution_count": 4,
   "metadata": {},
   "outputs": [
    {
     "output_type": "stream",
     "name": "stdout",
     "text": [
      "CryptoKaleo got tweets\n"
     ]
    }
   ],
   "source": [
    "cur_user = \"CryptoKaleo\"\n",
    "cur_tweets = checkra.get_recent_tweets(cur_user)\n",
    "with open(\"../data/tweets/u\"+cur_user+\"tweets.json\", \"w+\") as w:\n",
    "    json.dump(cur_tweets, w, indent = 1)\n",
    "    print(cur_user, \"got tweets\")"
   ]
  },
  {
   "cell_type": "code",
   "execution_count": null,
   "metadata": {},
   "outputs": [],
   "source": [
    "for i in tqdm(checkra_follows[:]):\n",
    "    cur_user = checkra.user_lookup(i)[\"username\"]\n",
    "    cur_tweets = checkra.get_recent_tweets(cur_user)\n",
    "    if cur_tweets != -1:\n",
    "        with open(\"../data/tweets/u\"+cur_user+\"tweets.json\", \"w+\") as w:\n",
    "            json.dump(cur_tweets, w, indent = 1)\n",
    "            print(cur_user, \"got tweets\")"
   ]
  },
  {
   "cell_type": "code",
   "execution_count": null,
   "metadata": {},
   "outputs": [],
   "source": [
    "# TODO Download recent tweets for all people I follow"
   ]
  }
 ]
}