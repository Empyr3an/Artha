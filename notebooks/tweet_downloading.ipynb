{
 "metadata": {
  "language_info": {
   "codemirror_mode": {
    "name": "ipython",
    "version": 3
   },
   "file_extension": ".py",
   "mimetype": "text/x-python",
   "name": "python",
   "nbconvert_exporter": "python",
   "pygments_lexer": "ipython3",
   "version": "3.7.6"
  },
  "orig_nbformat": 2,
  "kernelspec": {
   "name": "python376jvsc74a57bd050692dee8d60b45dc70f605c3c7f11300c905f349bdb5557a748ab90862af84a",
   "display_name": "Python 3.7.6 64-bit ('artha@3.7.6': pyenv)"
  }
 },
 "nbformat": 4,
 "nbformat_minor": 2,
 "cells": [
  {
   "cell_type": "code",
   "execution_count": 1,
   "metadata": {},
   "outputs": [
    {
     "output_type": "stream",
     "name": "stdout",
     "text": [
      "1356259499431129092 done\n"
     ]
    }
   ],
   "source": [
    "import requests\n",
    "import json\n",
    "import time\n",
    "import itertools\n",
    "import os\n",
    "from tqdm import tqdm\n",
    "import sqlite3\n",
    "import datetime\n",
    "import pickle\n",
    "import inspect\n",
    "import numpy as np\n",
    "currentdir = os.path.dirname(os.path.abspath(inspect.getfile(inspect.currentframe())))\n",
    "parentdir = os.path.dirname(currentdir)\n",
    "os.sys.path.insert(0,parentdir) \n",
    "\n",
    "\n",
    "import Artha\n",
    "from Artha.twitter import TwitterAPI\n",
    "from Artha.sqlitedb import TSQLite\n",
    "import Artha.configs.twitter_config as c\n",
    "from Artha.extraction import *\n",
    "\n",
    "checkra = TwitterAPI(username = \"checkra_\", bearer_token = c.c_bearer, key = c.c_key, secret = c.c_secret, token = c.c_token, token_secret = c.c_token_secret)\n",
    "print(checkra.id,\"done\")"
   ]
  },
  {
   "cell_type": "code",
   "execution_count": 2,
   "metadata": {},
   "outputs": [
    {
     "output_type": "execute_result",
     "data": {
      "text/plain": [
       "{'id': '380546370', 'name': '//Bitcoin 𝕵ack 🐐', 'username': 'BTC_JackSparrow'}"
      ]
     },
     "metadata": {},
     "execution_count": 2
    }
   ],
   "source": [
    "checkra.user_lookup(\"BTC_JackSparrow\")"
   ]
  },
  {
   "cell_type": "code",
   "execution_count": 3,
   "metadata": {},
   "outputs": [
    {
     "output_type": "stream",
     "name": "stdout",
     "text": [
      "2700\n$LTC / $BTC\n\nAlright, I guess we get one more retest. https://t.co/x2m63Ypw4i\n"
     ]
    }
   ],
   "source": [
    "tweets = checkra.get_recent_tweets(\"CryptoKaleo\")\n",
    "print(len(tweets))\n",
    "tweet_text = [t[\"full_text\"] for t in tweets]\n",
    "print(tweet_text[0])"
   ]
  },
  {
   "cell_type": "code",
   "execution_count": 4,
   "metadata": {
    "tags": []
   },
   "outputs": [],
   "source": []
  },
  {
   "cell_type": "code",
   "execution_count": null,
   "metadata": {},
   "outputs": [],
   "source": [
    "# TODO Download recent tweets for all people I follow"
   ]
  },
  {
   "cell_type": "code",
   "execution_count": null,
   "metadata": {},
   "outputs": [],
   "source": [
    "# goes through entire set of recent tweets, extracts tickers and saves to file\n",
    "# for debugging ticker extraction\n",
    "final_ticks, final_names, final_cash = [], [], []\n",
    "with open(\"has.txt\", \"w+\") as w, open(\"not.txt\", \"w+\") as x:\n",
    "    for ind, i in enumerate(tweet_text):\n",
    "        tick = extract_crypto_tickers(i)\n",
    "        name = extract_crypto_names(i)\n",
    "        cash = extract_cashtags(i)\n",
    "\n",
    "        final_ticks.extend(tick)\n",
    "        final_names.extend(name)\n",
    "        final_cash.extend([c[1:] for c in cash])\n",
    "\n",
    "        if tick or name:\n",
    "            w.write(i+\"\\n\")\n",
    "            json.dump(tick, w)\n",
    "            w.write(\"\\n\")\n",
    "            json.dump(name, w)\n",
    "            w.write(\"\\n\\n\\n\")\n",
    "        else:\n",
    "            x.write(str(ind)+\".  \"+i+\"\\n\\n\")"
   ]
  }
 ]
}