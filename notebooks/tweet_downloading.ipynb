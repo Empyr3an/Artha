{
 "metadata": {
  "language_info": {
   "codemirror_mode": {
    "name": "ipython",
    "version": 3
   },
   "file_extension": ".py",
   "mimetype": "text/x-python",
   "name": "python",
   "nbconvert_exporter": "python",
   "pygments_lexer": "ipython3",
   "version": "3.7.6"
  },
  "orig_nbformat": 2,
  "kernelspec": {
   "name": "python376jvsc74a57bd050692dee8d60b45dc70f605c3c7f11300c905f349bdb5557a748ab90862af84a",
   "display_name": "Python 3.7.6 64-bit ('artha@3.7.6': pyenv)"
  }
 },
 "nbformat": 4,
 "nbformat_minor": 2,
 "cells": [
  {
   "cell_type": "code",
   "execution_count": null,
   "metadata": {},
   "outputs": [],
   "source": [
    "import requests\n",
    "import json\n",
    "import time\n",
    "import itertools\n",
    "import os\n",
    "from tqdm import tqdm\n",
    "import sqlite3\n",
    "import datetime\n",
    "import pickle\n",
    "import inspect\n",
    "import numpy as np\n",
    "currentdir = os.path.dirname(os.path.abspath(inspect.getfile(inspect.currentframe())))\n",
    "parentdir = os.path.dirname(currentdir)\n",
    "os.sys.path.insert(0,parentdir) \n",
    "\n",
    "\n",
    "import Artha\n",
    "from Artha.twitter import TwitterAPI\n",
    "from Artha.sqlitedb import TSQLite\n",
    "import Artha.configs.twitter_config as c\n",
    "from Artha.extraction import *\n",
    "\n",
    "checkra = TwitterAPI(username = \"checkra_\", bearer_token = c.c_bearer, key = c.c_key, secret = c.c_secret, token = c.c_token, token_secret = c.c_token_secret)\n",
    "print(checkra.id,\"done\")"
   ]
  },
  {
   "cell_type": "code",
   "execution_count": null,
   "metadata": {},
   "outputs": [],
   "source": [
    "checkra.user_lookup(\"MetreSteven\")"
   ]
  },
  {
   "cell_type": "code",
   "execution_count": null,
   "metadata": {},
   "outputs": [],
   "source": [
    "# tweets = checkra.get_recent_tweets(\"MetreSteven\")\n",
    "# print(len(tweets))\n",
    "# tweet_text = [t[\"full_text\"] for t in tweets]\n",
    "# print(tweet_text[0])"
   ]
  },
  {
   "cell_type": "code",
   "execution_count": null,
   "metadata": {},
   "outputs": [],
   "source": [
    "checkra_follows = checkra.get_following1(\"checkra_\")\n"
   ]
  },
  {
   "cell_type": "code",
   "execution_count": null,
   "metadata": {},
   "outputs": [],
   "source": [
    "checkra.user_lookup(checkra_follows[68])[\"username\"]"
   ]
  },
  {
   "cell_type": "code",
   "execution_count": null,
   "metadata": {},
   "outputs": [],
   "source": [
    "for i in tqdm(checkra_follows[264+62:]):\n",
    "    cur_user = checkra.user_lookup(i)[\"username\"]\n",
    "    cur_tweets = checkra.get_recent_tweets(cur_user)\n",
    "    if cur_tweets != -1:\n",
    "        with open(\"../data/tweets/u\"+cur_user+\"tweets.json\", \"w+\") as w:\n",
    "            json.dump(cur_tweets, w, indent = 1)\n",
    "            print(cur_user, \"got tweets\")"
   ]
  },
  {
   "cell_type": "code",
   "execution_count": null,
   "metadata": {},
   "outputs": [],
   "source": [
    "l = os.listdir(\"../data/tweets\")\n",
    "for ind, i in enumerate(l):\n",
    "    if \"gooner\" in i:\n",
    "        print(ind)"
   ]
  },
  {
   "cell_type": "code",
   "execution_count": null,
   "metadata": {},
   "outputs": [],
   "source": [
    "with open(\"../data/tweets/unebraskangooner.json\", \"r\") as r:\n",
    "    tweets = json.load(r)"
   ]
  },
  {
   "cell_type": "code",
   "execution_count": null,
   "metadata": {},
   "outputs": [],
   "source": [
    "tweets[0]"
   ]
  },
  {
   "cell_type": "code",
   "execution_count": null,
   "metadata": {},
   "outputs": [],
   "source": [
    "# TODO Download recent tweets for all people I follow"
   ]
  },
  {
   "cell_type": "code",
   "execution_count": null,
   "metadata": {},
   "outputs": [],
   "source": [
    "with open(\"kaleotweets.json\", \"w+\") as w:\n",
    "    json.dump(tweets, w, indent = 1)"
   ]
  },
  {
   "cell_type": "code",
   "execution_count": null,
   "metadata": {},
   "outputs": [],
   "source": [
    "# goes through entire set of recent tweets, extracts tickers and saves to file\n",
    "# for debugging ticker extraction\n",
    "final_ticks, final_names, final_cash = [], [], []\n",
    "with open(\"has.txt\", \"w+\") as w, open(\"not.txt\", \"w+\") as x:\n",
    "    for ind, i in enumerate(tweet_text):\n",
    "        tick = extract_crypto_tickers(i)\n",
    "        name = extract_crypto_names(i)\n",
    "        cash = extract_cashtags(i)\n",
    "\n",
    "        final_ticks.extend(tick)\n",
    "        final_names.extend(name)\n",
    "        final_cash.extend([c[1:] for c in cash])\n",
    "\n",
    "        if tick or name:\n",
    "            w.write(i+\"\\n\")\n",
    "            json.dump(tick, w)\n",
    "            w.write(\"\\n\")\n",
    "            json.dump(name, w)\n",
    "            w.write(\"\\n\\n\\n\")\n",
    "        else:\n",
    "            x.write(str(ind)+\".  \"+i+\"\\n\\n\")"
   ]
  }
 ]
}