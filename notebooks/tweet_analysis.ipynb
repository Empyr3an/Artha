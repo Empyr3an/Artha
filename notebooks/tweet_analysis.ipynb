{
 "metadata": {
  "language_info": {
   "codemirror_mode": {
    "name": "ipython",
    "version": 3
   },
   "file_extension": ".py",
   "mimetype": "text/x-python",
   "name": "python",
   "nbconvert_exporter": "python",
   "pygments_lexer": "ipython3",
   "version": "3.7.6"
  },
  "orig_nbformat": 2,
  "kernelspec": {
   "name": "python376jvsc74a57bd0336ff5ee2c1e0e67b5ec251f9bb85714e66dde2cea2c3ccd73e788234e60283a",
   "display_name": "Python 3.7.6 64-bit ('artha@3.7.6': pyenv)"
  }
 },
 "nbformat": 4,
 "nbformat_minor": 2,
 "cells": [
  {
   "cell_type": "code",
   "execution_count": 1,
   "metadata": {},
   "outputs": [
    {
     "output_type": "stream",
     "name": "stdout",
     "text": [
      "done\n"
     ]
    }
   ],
   "source": [
    "import json\n",
    "import inspect\n",
    "currentdir = os.path.dirname(os.path.abspath(inspect.getfile(inspect.currentframe())))\n",
    "parentdir = os.path.dirname(currentdir)\n",
    "os.sys.path.insert(0,parentdir) \n",
    "\n",
    "import Artha\n",
    "from Artha.extraction import *\n",
    "from Artha.analysis import *\n",
    "\n",
    "print(\"done\")"
   ]
  },
  {
   "cell_type": "code",
   "execution_count": 5,
   "metadata": {},
   "outputs": [],
   "source": [
    "with open(\"../data/tweets/uCryptoKaleotweets.json\", \"r\") as r:\n",
    "    tweets = json.load(r)\n",
    "tweet_text = [tweet[\"full_text\"] for tweet in tweets]"
   ]
  },
  {
   "cell_type": "code",
   "execution_count": null,
   "metadata": {},
   "outputs": [],
   "source": [
    "print_polarity(tweet_text[0])"
   ]
  },
  {
   "cell_type": "code",
   "execution_count": 6,
   "metadata": {},
   "outputs": [],
   "source": [
    "final_ticks, final_names, final_cash = [], [], []\n",
    "\n",
    "with open(\"senti.txt\", \"w+\") as w:\n",
    "    for ind, i in enumerate(tweet_text):\n",
    "        tick = extract_crypto_tickers(i)\n",
    "        name = extract_crypto_names(i)\n",
    "        cash = extract_cashtags(i)\n",
    "\n",
    "        final_ticks.extend(tick)\n",
    "        final_names.extend(name)\n",
    "        final_cash.extend([c[1:] for c in cash])\n",
    "\n",
    "        if tick: # or name\n",
    "\n",
    "            json.dump(tick, w)\n",
    "            w.write(\"\\n\")\n",
    "            vs = analyzer.polarity_scores(i)\n",
    "            w.write(\"{:-<65} {}\\n\\n\".format(i, str(vs)))"
   ]
  },
  {
   "cell_type": "code",
   "execution_count": null,
   "metadata": {},
   "outputs": [],
   "source": []
  }
 ]
}