{
 "metadata": {
  "language_info": {
   "codemirror_mode": {
    "name": "ipython",
    "version": 3
   },
   "file_extension": ".py",
   "mimetype": "text/x-python",
   "name": "python",
   "nbconvert_exporter": "python",
   "pygments_lexer": "ipython3",
   "version": "3.7.6-final"
  },
  "orig_nbformat": 2,
  "kernelspec": {
   "name": "python376jvsc74a57bd0336ff5ee2c1e0e67b5ec251f9bb85714e66dde2cea2c3ccd73e788234e60283a",
   "display_name": "Python 3.7.6 64-bit ('artha@3.7.6')"
  }
 },
 "nbformat": 4,
 "nbformat_minor": 2,
 "cells": [
  {
   "cell_type": "code",
   "execution_count": 1,
   "metadata": {},
   "outputs": [
    {
     "output_type": "stream",
     "name": "stdout",
     "text": [
      "CPU times: user 2.22 s, sys: 358 ms, total: 2.58 s\nWall time: 3.95 s\n"
     ]
    }
   ],
   "source": [
    "%%time\n",
    "import json\n",
    "import inspect\n",
    "import tqdm\n",
    "from collections import Counter\n",
    "import numpy as np\n",
    "import matplotlib.pyplot as plt\n",
    "import pandas as pd\n",
    "\n",
    "currentdir = os.path.dirname(os.path.abspath(inspect.getfile(inspect.currentframe())))\n",
    "parentdir = os.path.dirname(currentdir)\n",
    "os.sys.path.insert(0,parentdir) \n",
    "\n",
    "import Artha\n",
    "from Artha.nlp_extraction import *\n",
    "import Artha.data_process as dp\n",
    "import Artha.crypto_data as crypto\n",
    "\n",
    "from datetime import datetime, timedelta"
   ]
  },
  {
   "cell_type": "code",
   "execution_count": null,
   "metadata": {},
   "outputs": [],
   "source": [
    "checkra.user_lookup(\"checkra_\")"
   ]
  },
  {
   "cell_type": "code",
   "execution_count": null,
   "metadata": {},
   "outputs": [],
   "source": [
    "%%time\n",
    "\n",
    "username = \"BTC_JackSparrow\"\n",
    "# username = \"razoreth\"\n",
    "# username = \"Nostranomist\"\n",
    "docs = run_pipeline(username)\n",
    "all_ticks = Counter([tick for doc in docs for tick in doc._.tickers ]).most_common()\n"
   ]
  },
  {
   "cell_type": "code",
   "execution_count": null,
   "metadata": {},
   "outputs": [],
   "source": [
    "ticker = \"BTC\"\n",
    "scores = dp.tweet_df(docs, ticker)\n",
    "len(scores)"
   ]
  },
  {
   "cell_type": "code",
   "execution_count": null,
   "metadata": {},
   "outputs": [],
   "source": [
    "%%time\n",
    "if ticker == \"BTC\":\n",
    "    asset = ticker+\"USDT\"\n",
    "else:\n",
    "    asset = ticker+\"BTC\"\n",
    "time = '2h'\n",
    "oldest, newest = scores.index[-1].to_pydatetime().timestamp() * 1000, scores.index[0].to_pydatetime().timestamp() * 1000, \n",
    "klines = crypto.get_klines(asset, time, oldest, newest)\n",
    "df = crypto.get_klines_df(klines)"
   ]
  },
  {
   "cell_type": "code",
   "execution_count": null,
   "metadata": {},
   "outputs": [],
   "source": [
    "# 1) convert both to daily returns\n",
    "# 2) get price at time of tweet\n",
    "# 3) look at nominal price increase"
   ]
  },
  {
   "cell_type": "code",
   "execution_count": null,
   "metadata": {},
   "outputs": [],
   "source": [
    "plt.rcParams['figure.figsize'] = [10, 5]\n",
    "ts = df[\"Close\"].astype(float) #.pct_change()\n",
    "\n",
    "ax1 = plt.subplots()\n",
    "ax1.plot(scores)\n",
    "plt.axhline(y=0, color='r', linestyle='-')\n",
    "ax1.plot(ts)\n",
    "ax2 = ax1.twinx()\n",
    "ax2.plot(ts, color='g')\n",
    "\n",
    "plt.title(asset)"
   ]
  },
  {
   "cell_type": "code",
   "execution_count": null,
   "metadata": {},
   "outputs": [],
   "source": [
    "asset = \"TRXBTC\"\n",
    "klines = crypto.get_klines(asset, time, \"20 April, 2021\")\n",
    "df = crypto.get_klines_df(klines)\n",
    "plt.rcParams['figure.figsize'] = [10, 5]\n",
    "ts = df[\"Close\"].astype(float) #.pct_change()\n",
    "\n",
    "fig, ax1 = plt.subplots()\n",
    "ax1.plot(ts)\n",
    "plt.title(asset)"
   ]
  },
  {
   "cell_type": "code",
   "execution_count": null,
   "metadata": {},
   "outputs": [],
   "source": [
    "# the rest of the notebook will work on all asset data"
   ]
  },
  {
   "cell_type": "code",
   "execution_count": null,
   "metadata": {},
   "outputs": [],
   "source": [
    "all_tickers = Counter([tick for doc in docs for tick in doc._.tickers])\n",
    "all_tickers.most_common(10)"
   ]
  }
 ]
}