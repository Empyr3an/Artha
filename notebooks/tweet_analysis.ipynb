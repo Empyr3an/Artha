{
 "metadata": {
  "language_info": {
   "codemirror_mode": {
    "name": "ipython",
    "version": 3
   },
   "file_extension": ".py",
   "mimetype": "text/x-python",
   "name": "python",
   "nbconvert_exporter": "python",
   "pygments_lexer": "ipython3",
   "version": "3.7.6-final"
  },
  "orig_nbformat": 2,
  "kernelspec": {
   "name": "python376jvsc74a57bd0336ff5ee2c1e0e67b5ec251f9bb85714e66dde2cea2c3ccd73e788234e60283a",
   "display_name": "Python 3.7.6 64-bit ('artha@3.7.6')"
  }
 },
 "nbformat": 4,
 "nbformat_minor": 2,
 "cells": [
  {
   "cell_type": "code",
   "execution_count": 1,
   "metadata": {},
   "outputs": [
    {
     "output_type": "stream",
     "name": "stdout",
     "text": [
      "CPU times: user 1.73 s, sys: 226 ms, total: 1.96 s\nWall time: 2.02 s\n"
     ]
    }
   ],
   "source": [
    "%%time\n",
    "import json\n",
    "import inspect\n",
    "import tqdm\n",
    "import contractions\n",
    "from collections import Counter\n",
    "\n",
    "currentdir = os.path.dirname(os.path.abspath(inspect.getfile(inspect.currentframe())))\n",
    "parentdir = os.path.dirname(currentdir)\n",
    "os.sys.path.insert(0,parentdir) \n",
    "\n",
    "import Artha\n",
    "from Artha.analysis import *\n",
    "from Artha.nlp_extraction import *\n"
   ]
  },
  {
   "cell_type": "code",
   "execution_count": 2,
   "metadata": {
    "tags": []
   },
   "outputs": [
    {
     "output_type": "stream",
     "name": "stdout",
     "text": [
      "CPU times: user 188 ms, sys: 17.9 ms, total: 206 ms\nWall time: 206 ms\n"
     ]
    }
   ],
   "source": [
    "%%time\n",
    "user = \"Nostranomist\"\n",
    "# user = \"CryptoKaleo\"\n",
    "with open(\"../data/tweets/u\"+user+\"tweets.json\", \"r\") as r:\n",
    "    tweets = json.load(r)\n",
    "tweet_text = []\n",
    "for ind, tweet in enumerate(tweets):\n",
    "    sent = tweet[\"full_text\"]\n",
    "    \n",
    "    try: #remove tweets of only tagging someone\n",
    "        while sent[0] == \"@\":\n",
    "            sent = sent.split(\" \", 1)[1]\n",
    "        tweet_text.append(contractions.fix(sent.replace(\"&amp;\", \"and\").replace(\"@\", \"\")))\n",
    "    except:\n",
    "        tweets.pop(ind)"
   ]
  },
  {
   "cell_type": "code",
   "execution_count": 3,
   "metadata": {
    "tags": []
   },
   "outputs": [
    {
     "output_type": "stream",
     "name": "stdout",
     "text": [
      "CPU times: user 2.73 s, sys: 175 ms, total: 2.91 s\nWall time: 5.87 s\n"
     ]
    }
   ],
   "source": [
    "%%time\n",
    "docs = []\n",
    "all_tickers = []\n",
    "# need to disable pipes\n",
    "with open(\"senti.txt\", \"w+\") as w:\n",
    "    for ind, doc in enumerate(nlp.pipe(tweet_text, n_process=-1)):\n",
    "        docs.append(doc)\n",
    "        if doc._.tickers:\n",
    "            all_tickers.extend(doc._.tickers)\n",
    "\n",
    "            w.write(\"***\"+str(ind)+\" \"+\" \".join(doc._.tickers)+\"***\"+str(doc._.polarity)+\" \"+str(doc._.subjectivity)+\"\\n\")\n",
    "            w.write(doc.text+\"\\n\\n\")"
   ]
  },
  {
   "cell_type": "code",
   "execution_count": 5,
   "metadata": {},
   "outputs": [
    {
     "output_type": "execute_result",
     "data": {
      "text/plain": [
       "[('BTC', 314),\n",
       " ('LTC', 166),\n",
       " ('ETH', 87),\n",
       " ('ENJ', 69),\n",
       " ('MANA', 51),\n",
       " ('JST', 50),\n",
       " ('YFI', 33),\n",
       " ('TRX', 20),\n",
       " ('DOGE', 17),\n",
       " ('ADA', 11),\n",
       " ('XRP', 10),\n",
       " ('EVX', 8),\n",
       " ('1INCH', 7),\n",
       " ('BNB', 6),\n",
       " ('AAVE', 6),\n",
       " ('RVN', 6),\n",
       " ('USD', 5),\n",
       " ('XTZ', 5),\n",
       " ('UNI', 4),\n",
       " ('DASH', 4),\n",
       " ('REN', 4),\n",
       " ('EUR', 3),\n",
       " ('SUSHI', 3),\n",
       " ('RSR', 2),\n",
       " ('LINA', 2),\n",
       " ('CAN', 2),\n",
       " ('CRV', 2),\n",
       " ('VET', 1),\n",
       " ('YFII', 1),\n",
       " ('AVAX', 1),\n",
       " ('COMP', 1),\n",
       " ('DOT', 1),\n",
       " ('LINK', 1),\n",
       " ('XEM', 1),\n",
       " ('JPY', 1),\n",
       " ('ATM', 1),\n",
       " ('MTL', 1),\n",
       " ('WINGS', 1),\n",
       " ('SNT', 1),\n",
       " ('STX', 1),\n",
       " ('VIBE', 1),\n",
       " ('ONE', 1),\n",
       " ('ETF', 1),\n",
       " ('MIR', 1),\n",
       " ('SUN', 1),\n",
       " ('STORM', 1),\n",
       " ('XMR', 1),\n",
       " ('ALGO', 1),\n",
       " ('OXT', 1),\n",
       " ('WIN', 1),\n",
       " ('FTT', 1)]"
      ]
     },
     "metadata": {},
     "execution_count": 5
    }
   ],
   "source": [
    "Counter(all_tickers).most_common()"
   ]
  }
 ]
}