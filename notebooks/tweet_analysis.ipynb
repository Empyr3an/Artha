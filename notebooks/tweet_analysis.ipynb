{
 "metadata": {
  "language_info": {
   "codemirror_mode": {
    "name": "ipython",
    "version": 3
   },
   "file_extension": ".py",
   "mimetype": "text/x-python",
   "name": "python",
   "nbconvert_exporter": "python",
   "pygments_lexer": "ipython3",
   "version": "3.7.6"
  },
  "orig_nbformat": 2,
  "kernelspec": {
   "name": "python376jvsc74a57bd050692dee8d60b45dc70f605c3c7f11300c905f349bdb5557a748ab90862af84a",
   "display_name": "Python 3.7.6 64-bit ('artha@3.7.6': pyenv)"
  }
 },
 "nbformat": 4,
 "nbformat_minor": 2,
 "cells": [
  {
   "cell_type": "code",
   "execution_count": null,
   "metadata": {},
   "outputs": [],
   "source": [
    "from vaderSentiment.vaderSentiment import SentimentIntensityAnalyzer\n",
    "import json\n",
    "import inspect\n",
    "currentdir = os.path.dirname(os.path.abspath(inspect.getfile(inspect.currentframe())))\n",
    "parentdir = os.path.dirname(currentdir)\n",
    "os.sys.path.insert(0,parentdir) \n",
    "\n",
    "import Artha\n",
    "from Artha.extraction import *\n",
    "\n",
    "print(\"done\")"
   ]
  },
  {
   "cell_type": "code",
   "execution_count": null,
   "metadata": {},
   "outputs": [],
   "source": [
    "analyzer = SentimentIntensityAnalyzer()\n",
    "with open(\"../data/tweets/unebraskangoonertweets.json\", \"r\") as r:\n",
    "    tweets = json.load(r)"
   ]
  },
  {
   "cell_type": "code",
   "execution_count": null,
   "metadata": {
    "tags": []
   },
   "outputs": [],
   "source": [
    "# sentences = [\"VADER is smart, handsome, and funny.\",  # positive sentence example\n",
    "#              \"VADER is smart, handsome, and funny!\",  # punctuation emphasis handled correctly (sentiment intensity adjusted)\n",
    "#              \"VADER is very smart, handsome, and funny.\", # booster words handled correctly (sentiment intensity adjusted)\n",
    "#              \"VADER is VERY SMART, handsome, and FUNNY.\",  # emphasis for ALLCAPS handled\n",
    "#              \"VADER is VERY SMART, handsome, and FUNNY!!!\", # combination of signals - VADER appropriately adjusts intensity\n",
    "#              \"VADER is VERY SMART, uber handsome, and FRIGGIN FUNNY!!!\", # booster words & punctuation make this close to ceiling for score\n",
    "#              \"VADER is not smart, handsome, nor funny.\",  # negation sentence example\n",
    "#              \"The book was good.\",  # positive sentence\n",
    "#              \"At least it isn't a horrible book.\",  # negated negative sentence with contraction\n",
    "#              \"The book was only kind of good.\", # qualified positive sentence is handled correctly (intensity adjusted)\n",
    "#              \"The plot was good, but the characters are uncompelling and the dialog is not great.\", # mixed negation sentence\n",
    "#              \"Today SUX!\",  # negative slang with capitalization emphasis\n",
    "#              \"Today only kinda sux! But I'll get by, lol\", # mixed sentiment example with slang and constrastive conjunction \"but\"\n",
    "#              \"Make sure you :) or :D today!\",  # emoticons handled\n",
    "#              \"Catch utf-8 emoji such as such as 💘 and 💋 and 😁\",  # emojis handled\n",
    "#              \"Not bad at all\"  # Capitalized negation\n",
    "#              ]\n",
    "\n",
    "analyzer = SentimentIntensityAnalyzer()\n",
    "# with open(\"senti.txt\", \"w+\") as w:\n",
    "#     for tweet in tweets:\n",
    "vs = analyzer.polarity_scores(\"CRV new local high\")\n",
    "print(\"{:-<65} {}\\n\\n\".format(\"CRV new local high 🚀\", str(vs)))"
   ]
  },
  {
   "cell_type": "code",
   "execution_count": null,
   "metadata": {},
   "outputs": [],
   "source": [
    "tweets[0][\"full_text\"]"
   ]
  },
  {
   "cell_type": "code",
   "execution_count": null,
   "metadata": {},
   "outputs": [],
   "source": [
    "tweet_text = [tweet[\"full_text\"] for tweet in tweets]"
   ]
  },
  {
   "cell_type": "code",
   "execution_count": null,
   "metadata": {},
   "outputs": [],
   "source": [
    "final_ticks, final_names, final_cash = [], [], []\n",
    "\n",
    "with open(\"senti.txt\", \"w+\") as w:\n",
    "    for ind, i in enumerate(tweet_text):\n",
    "        tick = extract_crypto_tickers(i)\n",
    "        name = extract_crypto_names(i)\n",
    "        cash = extract_cashtags(i)\n",
    "\n",
    "        final_ticks.extend(tick)\n",
    "        final_names.extend(name)\n",
    "        final_cash.extend([c[1:] for c in cash])\n",
    "\n",
    "        if tick: # or name\n",
    "\n",
    "            json.dump(tick, w)\n",
    "            w.write(\"\\n\")\n",
    "            vs = analyzer.polarity_scores(i)\n",
    "            w.write(\"{:-<65} {}\\n\\n\".format(i, str(vs)))"
   ]
  }
 ]
}