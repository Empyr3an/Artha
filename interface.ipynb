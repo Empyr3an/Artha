{
 "metadata": {
  "language_info": {
   "codemirror_mode": {
    "name": "ipython",
    "version": 3
   },
   "file_extension": ".py",
   "mimetype": "text/x-python",
   "name": "python",
   "nbconvert_exporter": "python",
   "pygments_lexer": "ipython3",
   "version": "3.7.6"
  },
  "orig_nbformat": 2,
  "kernelspec": {
   "name": "python3",
   "display_name": "Python 3.7.6 64-bit ('artha@3.7.6': pyenv)",
   "metadata": {
    "interpreter": {
     "hash": "50692dee8d60b45dc70f605c3c7f11300c905f349bdb5557a748ab90862af84a"
    }
   }
  }
 },
 "nbformat": 4,
 "nbformat_minor": 2,
 "cells": [
  {
   "source": [
    "from Artha.twitter import TwitterAPI, TSQLite\n",
    "import config as c\n",
    "import requests\n",
    "import json\n",
    "import time\n",
    "import itertools\n",
    "import os\n",
    "from tqdm import tqdm\n",
    "import sqlite3\n",
    "import datetime\n",
    "\n",
    "\n",
    "checkra = TwitterAPI(username = \"checkra_\", bearer_token = c.c_bearer, key = c.c_key, secret = c.c_secret, token = c.c_token, token_secret = c.c_token_secret)\n",
    "print(checkra.id,\"done\")"
   ],
   "cell_type": "code",
   "metadata": {},
   "execution_count": null,
   "outputs": []
  },
  {
   "cell_type": "code",
   "execution_count": null,
   "metadata": {},
   "outputs": [],
   "source": [
    "newss = checkra.update_with_new_followers(\"3mpyr34n\")"
   ]
  },
  {
   "cell_type": "code",
   "execution_count": null,
   "metadata": {},
   "outputs": [],
   "source": [
    "checkra.get_follow_differences(\"checkra_\", \"3mpyr34n\")"
   ]
  },
  {
   "cell_type": "code",
   "execution_count": null,
   "metadata": {},
   "outputs": [],
   "source": [
    "conn = sqlite3.connect(\"data/ucheckra.db\")\n",
    "TSQLite.create_follow_table(conn, checkra, \"checkra_\")"
   ]
  },
  {
   "cell_type": "code",
   "execution_count": null,
   "metadata": {
    "tags": []
   },
   "outputs": [],
   "source": [
    "if os.path.isfile(\"data/jack_acc.db\"):\n",
    "    os.remove(\"data/jack_acc.db\")\n",
    "\n",
    "test_conn = sqlite3.connect(\"data/jack_acc.db\")\n",
    "f = TSQLite.create_follow_table(test_conn, checkra, \"BTC_JackSparrow\")\n",
    "print(\"done\")\n",
    "with open(\"jack.json\", \"w+\") as w:\n",
    "    for i in f:\n",
    "        json.dump(i, w, indent = 2)"
   ]
  },
  {
   "cell_type": "code",
   "execution_count": null,
   "metadata": {},
   "outputs": [],
   "source": [
    "checkra.user_lookup(\"BTC_JackSparrow\")"
   ]
  },
  {
   "cell_type": "code",
   "execution_count": null,
   "metadata": {},
   "outputs": [],
   "source": [
    "rates = checkra.rate_limits()[\"resources\"]\n",
    "for key in rates[\"friends\"].keys():\n",
    "    print(\"Remaining:\", rates[\"friends\"][key][\"remaining\"], \"Time:\", datetime.datetime.fromtimestamp(rates[\"friends\"][key][\"reset\"]), key)"
   ]
  }
 ]
}