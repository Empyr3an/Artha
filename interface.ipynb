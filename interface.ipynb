{
 "metadata": {
  "language_info": {
   "codemirror_mode": {
    "name": "ipython",
    "version": 3
   },
   "file_extension": ".py",
   "mimetype": "text/x-python",
   "name": "python",
   "nbconvert_exporter": "python",
   "pygments_lexer": "ipython3",
   "version": "3.7.6"
  },
  "orig_nbformat": 2,
  "kernelspec": {
   "name": "python3",
   "display_name": "Python 3.7.6 64-bit ('artha@3.7.6': pyenv)",
   "metadata": {
    "interpreter": {
     "hash": "50692dee8d60b45dc70f605c3c7f11300c905f349bdb5557a748ab90862af84a"
    }
   }
  }
 },
 "nbformat": 4,
 "nbformat_minor": 2,
 "cells": [
  {
   "source": [
    "from Artha.twitter import TwitterAPI, TSQLite\n",
    "import config as c\n",
    "import requests\n",
    "import json\n",
    "import time\n",
    "import itertools\n",
    "import os\n",
    "from tqdm import tqdm\n",
    "import sqlite3\n",
    "import datetime\n",
    "\n",
    "checkra = TwitterAPI(bearer_token = c.c_bearer, key = c.c_key, secret = c.c_secret, token = c.c_token, token_secret = c.c_token_secret)\n",
    "# myinfo = twitter.TSQLite(\"data/info.db\")\n",
    "print(\"done\")"
   ],
   "cell_type": "code",
   "metadata": {},
   "execution_count": 1,
   "outputs": [
    {
     "output_type": "stream",
     "name": "stdout",
     "text": [
      "done\n"
     ]
    }
   ]
  },
  {
   "cell_type": "code",
   "execution_count": 2,
   "metadata": {
    "tags": []
   },
   "outputs": [
    {
     "output_type": "stream",
     "name": "stdout",
     "text": [
      "done\n"
     ]
    }
   ],
   "source": [
    "if os.path.isfile(\"data/jack_acc.db\"):\n",
    "    os.remove(\"data/jack_acc.db\")\n",
    "\n",
    "test_conn = sqlite3.connect(\"data/jack_acc.db\")\n",
    "f = TSQLite.create_follow_table(test_conn, checkra, \"BTC_JackSparrow\")\n",
    "print(\"done\")\n",
    "with open(\"jack.json\", \"w+\") as w:\n",
    "    for i in f:\n",
    "        json.dump(i, w, indent = 2)"
   ]
  },
  {
   "cell_type": "code",
   "execution_count": 11,
   "metadata": {},
   "outputs": [
    {
     "output_type": "execute_result",
     "data": {
      "text/plain": [
       "{'id': '380546370', 'name': '//Bitcoin 𝕵ack 🐐', 'username': 'BTC_JackSparrow'}"
      ]
     },
     "metadata": {},
     "execution_count": 11
    }
   ],
   "source": [
    "checkra.user_lookup(\"BTC_JackSparrow\")"
   ]
  },
  {
   "cell_type": "code",
   "execution_count": 9,
   "metadata": {},
   "outputs": [
    {
     "output_type": "stream",
     "name": "stdout",
     "text": [
      "Remaining: 15 Time: 2021-03-31 23:53:07 /friends/following/ids\nRemaining: 15 Time: 2021-03-31 23:53:07 /friends/following/list\nRemaining: 15 Time: 2021-03-31 23:53:07 /friends/list\nRemaining: 10 Time: 2021-03-31 23:48:47 /friends/ids\ndone\n"
     ]
    }
   ],
   "source": [
    "import datetime\n",
    "rates = checkra.rate_limits()[\"resources\"]\n",
    "for key in rates[\"friends\"].keys():\n",
    "    # if rates[\"friends\"][key][\"remaining\"] == 0:\n",
    "    #     print(rates[\"friends\"][key][\"remaining\"])\n",
    "    print(\"Remaining:\", rates[\"friends\"][key][\"remaining\"], \"Time:\", datetime.datetime.fromtimestamp(rates[\"friends\"][key][\"reset\"]), key)\n",
    "print(\"done\")"
   ]
  }
 ]
}